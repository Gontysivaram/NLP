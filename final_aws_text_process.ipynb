{
  "metadata": {
    "colab": {
      "provenance": [],
      "gpuType": "V28"
    },
    "kernelspec": {
      "name": "python3",
      "display_name": "Python 3",
      "language": "python"
    },
    "language_info": {
      "name": "python",
      "version": "3.10.14",
      "mimetype": "text/x-python",
      "codemirror_mode": {
        "name": "ipython",
        "version": 3
      },
      "pygments_lexer": "ipython3",
      "nbconvert_exporter": "python",
      "file_extension": ".py"
    },
    "accelerator": "TPU",
    "kaggle": {
      "accelerator": "none",
      "dataSources": [
        {
          "sourceId": 9260778,
          "sourceType": "datasetVersion",
          "datasetId": 5603479
        }
      ],
      "isInternetEnabled": false,
      "language": "python",
      "sourceType": "notebook",
      "isGpuEnabled": false
    }
  },
  "nbformat_minor": 0,
  "nbformat": 4,
  "cells": [
    {
      "cell_type": "code",
      "source": [
        "import pandas as pd\n",
        "import numpy as np"
      ],
      "metadata": {
        "id": "oN9cFnwuc_dp",
        "execution": {
          "iopub.status.busy": "2024-08-28T02:43:43.344171Z",
          "iopub.execute_input": "2024-08-28T02:43:43.344733Z",
          "iopub.status.idle": "2024-08-28T02:43:43.349798Z",
          "shell.execute_reply.started": "2024-08-28T02:43:43.344691Z",
          "shell.execute_reply": "2024-08-28T02:43:43.348683Z"
        },
        "trusted": true
      },
      "execution_count": null,
      "outputs": []
    },
    {
      "cell_type": "code",
      "source": [
        "df=pd.read_csv(\"/kaggle/input/datasetofaws/aws_review_sofware_dataset.csv\", nrows=15000)"
      ],
      "metadata": {
        "id": "8p3CGim_dDR3",
        "execution": {
          "iopub.status.busy": "2024-08-28T03:16:49.422612Z",
          "iopub.execute_input": "2024-08-28T03:16:49.423057Z",
          "iopub.status.idle": "2024-08-28T03:16:49.656734Z",
          "shell.execute_reply.started": "2024-08-28T03:16:49.423004Z",
          "shell.execute_reply": "2024-08-28T03:16:49.655664Z"
        },
        "trusted": true
      },
      "execution_count": null,
      "outputs": []
    },
    {
      "cell_type": "code",
      "source": [
        "df"
      ],
      "metadata": {
        "colab": {
          "base_uri": "https://localhost:8080/",
          "height": 1000
        },
        "id": "k3BB5f4PtF0S",
        "outputId": "4d43e2f1-7ab2-44e0-b4d3-e2fe1d2a4e1f",
        "execution": {
          "iopub.status.busy": "2024-08-28T02:43:48.684815Z",
          "iopub.execute_input": "2024-08-28T02:43:48.685232Z",
          "iopub.status.idle": "2024-08-28T02:43:48.725443Z",
          "shell.execute_reply.started": "2024-08-28T02:43:48.685191Z",
          "shell.execute_reply": "2024-08-28T02:43:48.724188Z"
        },
        "trusted": true
      },
      "execution_count": null,
      "outputs": [
        {
          "execution_count": 4,
          "output_type": "execute_result",
          "data": {
            "text/plain": "       Unnamed: 0  overall  verified   reviewTime      reviewerID        asin  \\\n0               0      4.0      True  03 11, 2014  A240ORQ2LF9LUI  0077613252   \n1               1      4.0      True  02 23, 2014  A1YCCU0YRLS0FE  0077613252   \n2               2      1.0      True  02 17, 2014  A1BJHRQDYVAY2J  0077613252   \n3               3      3.0      True  02 17, 2014   APRDVZ6QBIQXT  0077613252   \n4               4      5.0     False  10 14, 2013  A2JZTTBSLS1QXV  0077775473   \n...           ...      ...       ...          ...             ...         ...   \n14995       14995      4.0     False   03 9, 2004  A2H0T0PY5IMEFX  B0000CEM5O   \n14996       14996      5.0     False  01 17, 2004  A3B8FP0ME75PG0  B0000CEM5O   \n14997       14997      4.0     False   01 1, 2004   A8LT66GHJAOQY  B0000CEM5O   \n14998       14998      1.0     False  01 28, 2004  A2278SA5JW1PSR  B0000CE220   \n14999       14999      1.0     False   01 3, 2004   A8UWGZA5FI1NT  B0000CE220   \n\n                            style         reviewerName  \\\n0      {'Format:': ' Loose Leaf'}           Michelle W   \n1      {'Format:': ' Loose Leaf'}  Rosalind White Ames   \n2      {'Format:': ' Loose Leaf'}       Allan R. Baker   \n3      {'Format:': ' Loose Leaf'}                 Lucy   \n4                             NaN            Albert V.   \n...                           ...                  ...   \n14995        {'Platform:': ' PC'}     Alan Dale Daniel   \n14996        {'Platform:': ' PC'}      Amazon Customer   \n14997        {'Platform:': ' PC'}        destiny morna   \n14998                         NaN                Carol   \n14999                         NaN      Matthew Purtill   \n\n                                              reviewText  \\\n0      The materials arrived early and were in excell...   \n1      I am really enjoying this book with the worksh...   \n2      IF YOU ARE TAKING THIS CLASS DON\"T WASTE YOUR ...   \n3      This book was missing pages!!! Important pages...   \n4      I have used LearnSmart and can officially say ...   \n...                                                  ...   \n14995  Ok, Ok.... I am 50+ years old and I bought thi...   \n14996  I've playled all the Nancy Drew games up to ga...   \n14997  This is the third Nancy Drew game that i have ...   \n14998  This software came installed on my new pc.  Al...   \n14999  I'm back with McAfee's tech \"support\".  It too...   \n\n                             summary  unixReviewTime  vote image  \n0                     Material Great      1394496000   NaN   NaN  \n1                             Health      1393113600   NaN   NaN  \n2                 ARE YOU KIDING ME?      1392595200   7.0   NaN  \n3                    missing pages!!      1392595200   3.0   NaN  \n4      Best study product out there!      1381708800   NaN   NaN  \n...                              ...             ...   ...   ...  \n14995               Fun and Engaging      1078790400   6.0   NaN  \n14996           One of my favourites      1074297600   2.0   NaN  \n14997           it just gets better.      1072915200  16.0   NaN  \n14998                      STAY AWAY      1075248000   4.0   NaN  \n14999         Terrible waste of time      1073088000   NaN   NaN  \n\n[15000 rows x 13 columns]",
            "text/html": "<div>\n<style scoped>\n    .dataframe tbody tr th:only-of-type {\n        vertical-align: middle;\n    }\n\n    .dataframe tbody tr th {\n        vertical-align: top;\n    }\n\n    .dataframe thead th {\n        text-align: right;\n    }\n</style>\n<table border=\"1\" class=\"dataframe\">\n  <thead>\n    <tr style=\"text-align: right;\">\n      <th></th>\n      <th>Unnamed: 0</th>\n      <th>overall</th>\n      <th>verified</th>\n      <th>reviewTime</th>\n      <th>reviewerID</th>\n      <th>asin</th>\n      <th>style</th>\n      <th>reviewerName</th>\n      <th>reviewText</th>\n      <th>summary</th>\n      <th>unixReviewTime</th>\n      <th>vote</th>\n      <th>image</th>\n    </tr>\n  </thead>\n  <tbody>\n    <tr>\n      <th>0</th>\n      <td>0</td>\n      <td>4.0</td>\n      <td>True</td>\n      <td>03 11, 2014</td>\n      <td>A240ORQ2LF9LUI</td>\n      <td>0077613252</td>\n      <td>{'Format:': ' Loose Leaf'}</td>\n      <td>Michelle W</td>\n      <td>The materials arrived early and were in excell...</td>\n      <td>Material Great</td>\n      <td>1394496000</td>\n      <td>NaN</td>\n      <td>NaN</td>\n    </tr>\n    <tr>\n      <th>1</th>\n      <td>1</td>\n      <td>4.0</td>\n      <td>True</td>\n      <td>02 23, 2014</td>\n      <td>A1YCCU0YRLS0FE</td>\n      <td>0077613252</td>\n      <td>{'Format:': ' Loose Leaf'}</td>\n      <td>Rosalind White Ames</td>\n      <td>I am really enjoying this book with the worksh...</td>\n      <td>Health</td>\n      <td>1393113600</td>\n      <td>NaN</td>\n      <td>NaN</td>\n    </tr>\n    <tr>\n      <th>2</th>\n      <td>2</td>\n      <td>1.0</td>\n      <td>True</td>\n      <td>02 17, 2014</td>\n      <td>A1BJHRQDYVAY2J</td>\n      <td>0077613252</td>\n      <td>{'Format:': ' Loose Leaf'}</td>\n      <td>Allan R. Baker</td>\n      <td>IF YOU ARE TAKING THIS CLASS DON\"T WASTE YOUR ...</td>\n      <td>ARE YOU KIDING ME?</td>\n      <td>1392595200</td>\n      <td>7.0</td>\n      <td>NaN</td>\n    </tr>\n    <tr>\n      <th>3</th>\n      <td>3</td>\n      <td>3.0</td>\n      <td>True</td>\n      <td>02 17, 2014</td>\n      <td>APRDVZ6QBIQXT</td>\n      <td>0077613252</td>\n      <td>{'Format:': ' Loose Leaf'}</td>\n      <td>Lucy</td>\n      <td>This book was missing pages!!! Important pages...</td>\n      <td>missing pages!!</td>\n      <td>1392595200</td>\n      <td>3.0</td>\n      <td>NaN</td>\n    </tr>\n    <tr>\n      <th>4</th>\n      <td>4</td>\n      <td>5.0</td>\n      <td>False</td>\n      <td>10 14, 2013</td>\n      <td>A2JZTTBSLS1QXV</td>\n      <td>0077775473</td>\n      <td>NaN</td>\n      <td>Albert V.</td>\n      <td>I have used LearnSmart and can officially say ...</td>\n      <td>Best study product out there!</td>\n      <td>1381708800</td>\n      <td>NaN</td>\n      <td>NaN</td>\n    </tr>\n    <tr>\n      <th>...</th>\n      <td>...</td>\n      <td>...</td>\n      <td>...</td>\n      <td>...</td>\n      <td>...</td>\n      <td>...</td>\n      <td>...</td>\n      <td>...</td>\n      <td>...</td>\n      <td>...</td>\n      <td>...</td>\n      <td>...</td>\n      <td>...</td>\n    </tr>\n    <tr>\n      <th>14995</th>\n      <td>14995</td>\n      <td>4.0</td>\n      <td>False</td>\n      <td>03 9, 2004</td>\n      <td>A2H0T0PY5IMEFX</td>\n      <td>B0000CEM5O</td>\n      <td>{'Platform:': ' PC'}</td>\n      <td>Alan Dale Daniel</td>\n      <td>Ok, Ok.... I am 50+ years old and I bought thi...</td>\n      <td>Fun and Engaging</td>\n      <td>1078790400</td>\n      <td>6.0</td>\n      <td>NaN</td>\n    </tr>\n    <tr>\n      <th>14996</th>\n      <td>14996</td>\n      <td>5.0</td>\n      <td>False</td>\n      <td>01 17, 2004</td>\n      <td>A3B8FP0ME75PG0</td>\n      <td>B0000CEM5O</td>\n      <td>{'Platform:': ' PC'}</td>\n      <td>Amazon Customer</td>\n      <td>I've playled all the Nancy Drew games up to ga...</td>\n      <td>One of my favourites</td>\n      <td>1074297600</td>\n      <td>2.0</td>\n      <td>NaN</td>\n    </tr>\n    <tr>\n      <th>14997</th>\n      <td>14997</td>\n      <td>4.0</td>\n      <td>False</td>\n      <td>01 1, 2004</td>\n      <td>A8LT66GHJAOQY</td>\n      <td>B0000CEM5O</td>\n      <td>{'Platform:': ' PC'}</td>\n      <td>destiny morna</td>\n      <td>This is the third Nancy Drew game that i have ...</td>\n      <td>it just gets better.</td>\n      <td>1072915200</td>\n      <td>16.0</td>\n      <td>NaN</td>\n    </tr>\n    <tr>\n      <th>14998</th>\n      <td>14998</td>\n      <td>1.0</td>\n      <td>False</td>\n      <td>01 28, 2004</td>\n      <td>A2278SA5JW1PSR</td>\n      <td>B0000CE220</td>\n      <td>NaN</td>\n      <td>Carol</td>\n      <td>This software came installed on my new pc.  Al...</td>\n      <td>STAY AWAY</td>\n      <td>1075248000</td>\n      <td>4.0</td>\n      <td>NaN</td>\n    </tr>\n    <tr>\n      <th>14999</th>\n      <td>14999</td>\n      <td>1.0</td>\n      <td>False</td>\n      <td>01 3, 2004</td>\n      <td>A8UWGZA5FI1NT</td>\n      <td>B0000CE220</td>\n      <td>NaN</td>\n      <td>Matthew Purtill</td>\n      <td>I'm back with McAfee's tech \"support\".  It too...</td>\n      <td>Terrible waste of time</td>\n      <td>1073088000</td>\n      <td>NaN</td>\n      <td>NaN</td>\n    </tr>\n  </tbody>\n</table>\n<p>15000 rows × 13 columns</p>\n</div>"
          },
          "metadata": {}
        }
      ]
    },
    {
      "cell_type": "code",
      "source": [
        "df.iloc[0,8]"
      ],
      "metadata": {
        "id": "fOk0o05lPdEe",
        "colab": {
          "base_uri": "https://localhost:8080/",
          "height": 35
        },
        "outputId": "b715e372-00d8-4263-9cfd-35b8d2c024c9",
        "execution": {
          "iopub.status.busy": "2024-08-28T02:43:50.256952Z",
          "iopub.execute_input": "2024-08-28T02:43:50.257405Z",
          "iopub.status.idle": "2024-08-28T02:43:50.264589Z",
          "shell.execute_reply.started": "2024-08-28T02:43:50.257362Z",
          "shell.execute_reply": "2024-08-28T02:43:50.263345Z"
        },
        "trusted": true
      },
      "execution_count": null,
      "outputs": [
        {
          "execution_count": 5,
          "output_type": "execute_result",
          "data": {
            "text/plain": "\"The materials arrived early and were in excellent condition.  However for the money spent they really should've come with a binder and not just loose leaf.\""
          },
          "metadata": {}
        }
      ]
    },
    {
      "cell_type": "code",
      "source": [
        "#here we have to use the stop words"
      ],
      "metadata": {
        "id": "sVVBY5SdtF0W",
        "execution": {
          "iopub.status.busy": "2024-08-28T02:43:53.687658Z",
          "iopub.execute_input": "2024-08-28T02:43:53.688051Z",
          "iopub.status.idle": "2024-08-28T02:43:53.692478Z",
          "shell.execute_reply.started": "2024-08-28T02:43:53.688012Z",
          "shell.execute_reply": "2024-08-28T02:43:53.691352Z"
        },
        "trusted": true
      },
      "execution_count": null,
      "outputs": []
    },
    {
      "cell_type": "code",
      "source": [
        "df.dtypes"
      ],
      "metadata": {
        "colab": {
          "base_uri": "https://localhost:8080/",
          "height": 492
        },
        "id": "F5B955vftF0X",
        "outputId": "83bdc7b7-a299-4bd4-9258-cfec352bc697",
        "execution": {
          "iopub.status.busy": "2024-08-28T02:43:54.758201Z",
          "iopub.execute_input": "2024-08-28T02:43:54.758612Z",
          "iopub.status.idle": "2024-08-28T02:43:54.767282Z",
          "shell.execute_reply.started": "2024-08-28T02:43:54.758574Z",
          "shell.execute_reply": "2024-08-28T02:43:54.766130Z"
        },
        "trusted": true
      },
      "execution_count": null,
      "outputs": [
        {
          "execution_count": 7,
          "output_type": "execute_result",
          "data": {
            "text/plain": "Unnamed: 0          int64\noverall           float64\nverified             bool\nreviewTime         object\nreviewerID         object\nasin               object\nstyle              object\nreviewerName       object\nreviewText         object\nsummary            object\nunixReviewTime      int64\nvote              float64\nimage              object\ndtype: object"
          },
          "metadata": {}
        }
      ]
    },
    {
      "cell_type": "code",
      "source": [
        "df.dtypes"
      ],
      "metadata": {
        "colab": {
          "base_uri": "https://localhost:8080/",
          "height": 492
        },
        "id": "QmTF2qGetF0a",
        "outputId": "f01b6d45-d8e8-4cf3-eb59-5d6038d1686f",
        "execution": {
          "iopub.status.busy": "2024-08-28T02:43:56.134478Z",
          "iopub.execute_input": "2024-08-28T02:43:56.135773Z",
          "iopub.status.idle": "2024-08-28T02:43:56.144676Z",
          "shell.execute_reply.started": "2024-08-28T02:43:56.135717Z",
          "shell.execute_reply": "2024-08-28T02:43:56.143183Z"
        },
        "trusted": true
      },
      "execution_count": null,
      "outputs": [
        {
          "execution_count": 8,
          "output_type": "execute_result",
          "data": {
            "text/plain": "Unnamed: 0          int64\noverall           float64\nverified             bool\nreviewTime         object\nreviewerID         object\nasin               object\nstyle              object\nreviewerName       object\nreviewText         object\nsummary            object\nunixReviewTime      int64\nvote              float64\nimage              object\ndtype: object"
          },
          "metadata": {}
        }
      ]
    },
    {
      "cell_type": "code",
      "source": [
        "df.isnull().sum()"
      ],
      "metadata": {
        "colab": {
          "base_uri": "https://localhost:8080/",
          "height": 492
        },
        "id": "KIoN0GnytF0b",
        "outputId": "ba4d9f81-136e-499d-96b6-61bd5363b513",
        "execution": {
          "iopub.status.busy": "2024-08-28T02:43:59.004115Z",
          "iopub.execute_input": "2024-08-28T02:43:59.005512Z",
          "iopub.status.idle": "2024-08-28T02:43:59.023011Z",
          "shell.execute_reply.started": "2024-08-28T02:43:59.005461Z",
          "shell.execute_reply": "2024-08-28T02:43:59.021957Z"
        },
        "trusted": true
      },
      "execution_count": null,
      "outputs": [
        {
          "execution_count": 9,
          "output_type": "execute_result",
          "data": {
            "text/plain": "Unnamed: 0            0\noverall               0\nverified              0\nreviewTime            0\nreviewerID            0\nasin                  0\nstyle             11777\nreviewerName          1\nreviewText            0\nsummary               3\nunixReviewTime        0\nvote               5743\nimage             14980\ndtype: int64"
          },
          "metadata": {}
        }
      ]
    },
    {
      "cell_type": "code",
      "source": [
        "mode=df['style'].mode()"
      ],
      "metadata": {
        "id": "Ao1R-laLtF0c",
        "execution": {
          "iopub.status.busy": "2024-08-28T02:44:00.184434Z",
          "iopub.execute_input": "2024-08-28T02:44:00.184835Z",
          "iopub.status.idle": "2024-08-28T02:44:00.192830Z",
          "shell.execute_reply.started": "2024-08-28T02:44:00.184797Z",
          "shell.execute_reply": "2024-08-28T02:44:00.191449Z"
        },
        "trusted": true
      },
      "execution_count": null,
      "outputs": []
    },
    {
      "cell_type": "code",
      "source": [
        "mode"
      ],
      "metadata": {
        "colab": {
          "base_uri": "https://localhost:8080/",
          "height": 115
        },
        "id": "zAFqVjWAtF0d",
        "outputId": "834d53d8-058c-425f-923c-96bc3eb6ab71",
        "execution": {
          "iopub.status.busy": "2024-08-28T02:44:02.976032Z",
          "iopub.execute_input": "2024-08-28T02:44:02.976468Z",
          "iopub.status.idle": "2024-08-28T02:44:02.983939Z",
          "shell.execute_reply.started": "2024-08-28T02:44:02.976417Z",
          "shell.execute_reply": "2024-08-28T02:44:02.982859Z"
        },
        "trusted": true
      },
      "execution_count": null,
      "outputs": [
        {
          "execution_count": 11,
          "output_type": "execute_result",
          "data": {
            "text/plain": "0    {'Format:': ' CD-ROM'}\nName: style, dtype: object"
          },
          "metadata": {}
        }
      ]
    },
    {
      "cell_type": "code",
      "source": [
        "df.isnull().sum()"
      ],
      "metadata": {
        "colab": {
          "base_uri": "https://localhost:8080/",
          "height": 492
        },
        "id": "sQuxKJ3etF0e",
        "outputId": "11c93872-a46b-4f56-ffe8-70165462d5d2",
        "execution": {
          "iopub.status.busy": "2024-08-28T02:44:04.313025Z",
          "iopub.execute_input": "2024-08-28T02:44:04.313476Z",
          "iopub.status.idle": "2024-08-28T02:44:04.329994Z",
          "shell.execute_reply.started": "2024-08-28T02:44:04.313431Z",
          "shell.execute_reply": "2024-08-28T02:44:04.328885Z"
        },
        "trusted": true
      },
      "execution_count": null,
      "outputs": [
        {
          "execution_count": 12,
          "output_type": "execute_result",
          "data": {
            "text/plain": "Unnamed: 0            0\noverall               0\nverified              0\nreviewTime            0\nreviewerID            0\nasin                  0\nstyle             11777\nreviewerName          1\nreviewText            0\nsummary               3\nunixReviewTime        0\nvote               5743\nimage             14980\ndtype: int64"
          },
          "metadata": {}
        }
      ]
    },
    {
      "cell_type": "code",
      "source": [
        "df['style']=df['style'].fillna(\"{'Format:': ' CD-ROM'}\")"
      ],
      "metadata": {
        "id": "pQHwL-lUtF0f",
        "execution": {
          "iopub.status.busy": "2024-08-28T02:44:05.534457Z",
          "iopub.execute_input": "2024-08-28T02:44:05.534884Z",
          "iopub.status.idle": "2024-08-28T02:44:05.542389Z",
          "shell.execute_reply.started": "2024-08-28T02:44:05.534841Z",
          "shell.execute_reply": "2024-08-28T02:44:05.541314Z"
        },
        "trusted": true
      },
      "execution_count": null,
      "outputs": []
    },
    {
      "cell_type": "code",
      "source": [
        "df.isnull().sum()"
      ],
      "metadata": {
        "colab": {
          "base_uri": "https://localhost:8080/",
          "height": 492
        },
        "id": "Wei-I4w_tF0f",
        "outputId": "0d447af5-822c-46e5-a302-b40a14623c31",
        "execution": {
          "iopub.status.busy": "2024-08-28T02:44:09.303442Z",
          "iopub.execute_input": "2024-08-28T02:44:09.303862Z",
          "iopub.status.idle": "2024-08-28T02:44:09.324088Z",
          "shell.execute_reply.started": "2024-08-28T02:44:09.303813Z",
          "shell.execute_reply": "2024-08-28T02:44:09.319960Z"
        },
        "trusted": true
      },
      "execution_count": null,
      "outputs": [
        {
          "execution_count": 14,
          "output_type": "execute_result",
          "data": {
            "text/plain": "Unnamed: 0            0\noverall               0\nverified              0\nreviewTime            0\nreviewerID            0\nasin                  0\nstyle                 0\nreviewerName          1\nreviewText            0\nsummary               3\nunixReviewTime        0\nvote               5743\nimage             14980\ndtype: int64"
          },
          "metadata": {}
        }
      ]
    },
    {
      "cell_type": "code",
      "source": [
        "df['vote'].value_counts()"
      ],
      "metadata": {
        "colab": {
          "base_uri": "https://localhost:8080/",
          "height": 490
        },
        "id": "TN_NqD7AtF0i",
        "outputId": "06b8e2d5-efcf-40d4-c7dd-9a9243de701b",
        "execution": {
          "iopub.status.busy": "2024-08-28T02:44:10.430895Z",
          "iopub.execute_input": "2024-08-28T02:44:10.431341Z",
          "iopub.status.idle": "2024-08-28T02:44:10.445890Z",
          "shell.execute_reply.started": "2024-08-28T02:44:10.431283Z",
          "shell.execute_reply": "2024-08-28T02:44:10.444724Z"
        },
        "trusted": true
      },
      "execution_count": null,
      "outputs": [
        {
          "execution_count": 15,
          "output_type": "execute_result",
          "data": {
            "text/plain": "vote\n2.0      1301\n3.0      1006\n4.0       782\n5.0       692\n6.0       590\n         ... \n432.0       1\n337.0       1\n147.0       1\n136.0       1\n122.0       1\nName: count, Length: 174, dtype: int64"
          },
          "metadata": {}
        }
      ]
    },
    {
      "cell_type": "code",
      "source": [
        "df=df.drop('image',axis=1)"
      ],
      "metadata": {
        "id": "5nmv4h-0tF0j",
        "execution": {
          "iopub.status.busy": "2024-08-28T02:44:11.533999Z",
          "iopub.execute_input": "2024-08-28T02:44:11.534440Z",
          "iopub.status.idle": "2024-08-28T02:44:11.543475Z",
          "shell.execute_reply.started": "2024-08-28T02:44:11.534398Z",
          "shell.execute_reply": "2024-08-28T02:44:11.542273Z"
        },
        "trusted": true
      },
      "execution_count": null,
      "outputs": []
    },
    {
      "cell_type": "code",
      "source": [
        "df.info()"
      ],
      "metadata": {
        "colab": {
          "base_uri": "https://localhost:8080/"
        },
        "id": "RTDPLButtF0j",
        "outputId": "fd480d86-e7b3-4be6-8fe5-2258448323ff",
        "execution": {
          "iopub.status.busy": "2024-08-28T02:44:12.926061Z",
          "iopub.execute_input": "2024-08-28T02:44:12.926517Z",
          "iopub.status.idle": "2024-08-28T02:44:12.952026Z",
          "shell.execute_reply.started": "2024-08-28T02:44:12.926475Z",
          "shell.execute_reply": "2024-08-28T02:44:12.950611Z"
        },
        "trusted": true
      },
      "execution_count": null,
      "outputs": [
        {
          "name": "stdout",
          "text": "<class 'pandas.core.frame.DataFrame'>\nRangeIndex: 15000 entries, 0 to 14999\nData columns (total 12 columns):\n #   Column          Non-Null Count  Dtype  \n---  ------          --------------  -----  \n 0   Unnamed: 0      15000 non-null  int64  \n 1   overall         15000 non-null  float64\n 2   verified        15000 non-null  bool   \n 3   reviewTime      15000 non-null  object \n 4   reviewerID      15000 non-null  object \n 5   asin            15000 non-null  object \n 6   style           15000 non-null  object \n 7   reviewerName    14999 non-null  object \n 8   reviewText      15000 non-null  object \n 9   summary         14997 non-null  object \n 10  unixReviewTime  15000 non-null  int64  \n 11  vote            9257 non-null   float64\ndtypes: bool(1), float64(2), int64(2), object(7)\nmemory usage: 1.3+ MB\n",
          "output_type": "stream"
        }
      ]
    },
    {
      "cell_type": "code",
      "source": [
        "var=df['vote'].median()"
      ],
      "metadata": {
        "id": "DaNJ9CUztF0k",
        "execution": {
          "iopub.status.busy": "2024-08-28T02:44:14.242060Z",
          "iopub.execute_input": "2024-08-28T02:44:14.242464Z",
          "iopub.status.idle": "2024-08-28T02:44:14.249602Z",
          "shell.execute_reply.started": "2024-08-28T02:44:14.242426Z",
          "shell.execute_reply": "2024-08-28T02:44:14.248480Z"
        },
        "trusted": true
      },
      "execution_count": null,
      "outputs": []
    },
    {
      "cell_type": "code",
      "source": [
        "var"
      ],
      "metadata": {
        "colab": {
          "base_uri": "https://localhost:8080/"
        },
        "id": "0kKsXTKgtF0l",
        "outputId": "4f1bf156-6360-454c-985b-4c54a0ed5c8f",
        "execution": {
          "iopub.status.busy": "2024-08-28T02:44:15.517590Z",
          "iopub.execute_input": "2024-08-28T02:44:15.518015Z",
          "iopub.status.idle": "2024-08-28T02:44:15.525260Z",
          "shell.execute_reply.started": "2024-08-28T02:44:15.517974Z",
          "shell.execute_reply": "2024-08-28T02:44:15.523966Z"
        },
        "trusted": true
      },
      "execution_count": null,
      "outputs": [
        {
          "execution_count": 19,
          "output_type": "execute_result",
          "data": {
            "text/plain": "7.0"
          },
          "metadata": {}
        }
      ]
    },
    {
      "cell_type": "code",
      "source": [
        "df.info()"
      ],
      "metadata": {
        "colab": {
          "base_uri": "https://localhost:8080/"
        },
        "id": "18d1NLKWtF0m",
        "outputId": "1c953173-ed3b-482f-b65d-f5327be41ca2",
        "execution": {
          "iopub.status.busy": "2024-08-28T02:44:16.829034Z",
          "iopub.execute_input": "2024-08-28T02:44:16.829978Z",
          "iopub.status.idle": "2024-08-28T02:44:16.848724Z",
          "shell.execute_reply.started": "2024-08-28T02:44:16.829925Z",
          "shell.execute_reply": "2024-08-28T02:44:16.847537Z"
        },
        "trusted": true
      },
      "execution_count": null,
      "outputs": [
        {
          "name": "stdout",
          "text": "<class 'pandas.core.frame.DataFrame'>\nRangeIndex: 15000 entries, 0 to 14999\nData columns (total 12 columns):\n #   Column          Non-Null Count  Dtype  \n---  ------          --------------  -----  \n 0   Unnamed: 0      15000 non-null  int64  \n 1   overall         15000 non-null  float64\n 2   verified        15000 non-null  bool   \n 3   reviewTime      15000 non-null  object \n 4   reviewerID      15000 non-null  object \n 5   asin            15000 non-null  object \n 6   style           15000 non-null  object \n 7   reviewerName    14999 non-null  object \n 8   reviewText      15000 non-null  object \n 9   summary         14997 non-null  object \n 10  unixReviewTime  15000 non-null  int64  \n 11  vote            9257 non-null   float64\ndtypes: bool(1), float64(2), int64(2), object(7)\nmemory usage: 1.3+ MB\n",
          "output_type": "stream"
        }
      ]
    },
    {
      "cell_type": "code",
      "source": [
        "var=df.loc[df['reviewerName'].isna()]"
      ],
      "metadata": {
        "id": "hsjWrNeNtF0m",
        "execution": {
          "iopub.status.busy": "2024-08-28T02:44:18.261747Z",
          "iopub.execute_input": "2024-08-28T02:44:18.262156Z",
          "iopub.status.idle": "2024-08-28T02:44:18.269447Z",
          "shell.execute_reply.started": "2024-08-28T02:44:18.262118Z",
          "shell.execute_reply": "2024-08-28T02:44:18.268136Z"
        },
        "trusted": true
      },
      "execution_count": null,
      "outputs": []
    },
    {
      "cell_type": "code",
      "source": [
        "var.fillna('Amazon Customer')"
      ],
      "metadata": {
        "colab": {
          "base_uri": "https://localhost:8080/",
          "height": 133
        },
        "id": "Gf5C4GHgtF0n",
        "outputId": "71599766-8fcd-43a1-d562-b46699ee684b",
        "execution": {
          "iopub.status.busy": "2024-08-28T02:44:19.539217Z",
          "iopub.execute_input": "2024-08-28T02:44:19.539639Z",
          "iopub.status.idle": "2024-08-28T02:44:19.554706Z",
          "shell.execute_reply.started": "2024-08-28T02:44:19.539592Z",
          "shell.execute_reply": "2024-08-28T02:44:19.553548Z"
        },
        "trusted": true
      },
      "execution_count": null,
      "outputs": [
        {
          "execution_count": 22,
          "output_type": "execute_result",
          "data": {
            "text/plain": "      Unnamed: 0  overall  verified  reviewTime     reviewerID        asin  \\\n2607        2607      5.0      True  01 9, 2017  AOAEI81AGU95N  3959828241   \n\n                       style     reviewerName  \\\n2607  {'Format:': ' CD-ROM'}  Amazon Customer   \n\n                                             reviewText  \\\n2607  It was good to find a complete office for such...   \n\n                                summary  unixReviewTime  vote  \n2607  Very satisfied for older systems.      1483920000   2.0  ",
            "text/html": "<div>\n<style scoped>\n    .dataframe tbody tr th:only-of-type {\n        vertical-align: middle;\n    }\n\n    .dataframe tbody tr th {\n        vertical-align: top;\n    }\n\n    .dataframe thead th {\n        text-align: right;\n    }\n</style>\n<table border=\"1\" class=\"dataframe\">\n  <thead>\n    <tr style=\"text-align: right;\">\n      <th></th>\n      <th>Unnamed: 0</th>\n      <th>overall</th>\n      <th>verified</th>\n      <th>reviewTime</th>\n      <th>reviewerID</th>\n      <th>asin</th>\n      <th>style</th>\n      <th>reviewerName</th>\n      <th>reviewText</th>\n      <th>summary</th>\n      <th>unixReviewTime</th>\n      <th>vote</th>\n    </tr>\n  </thead>\n  <tbody>\n    <tr>\n      <th>2607</th>\n      <td>2607</td>\n      <td>5.0</td>\n      <td>True</td>\n      <td>01 9, 2017</td>\n      <td>AOAEI81AGU95N</td>\n      <td>3959828241</td>\n      <td>{'Format:': ' CD-ROM'}</td>\n      <td>Amazon Customer</td>\n      <td>It was good to find a complete office for such...</td>\n      <td>Very satisfied for older systems.</td>\n      <td>1483920000</td>\n      <td>2.0</td>\n    </tr>\n  </tbody>\n</table>\n</div>"
          },
          "metadata": {}
        }
      ]
    },
    {
      "cell_type": "code",
      "source": [
        "df.info()"
      ],
      "metadata": {
        "colab": {
          "base_uri": "https://localhost:8080/"
        },
        "id": "68TBGJT-tF0n",
        "outputId": "a81935f4-b5f1-47a6-9177-50d941ebc138",
        "execution": {
          "iopub.status.busy": "2024-08-28T02:44:20.731553Z",
          "iopub.execute_input": "2024-08-28T02:44:20.731955Z",
          "iopub.status.idle": "2024-08-28T02:44:20.751133Z",
          "shell.execute_reply.started": "2024-08-28T02:44:20.731914Z",
          "shell.execute_reply": "2024-08-28T02:44:20.750048Z"
        },
        "trusted": true
      },
      "execution_count": null,
      "outputs": [
        {
          "name": "stdout",
          "text": "<class 'pandas.core.frame.DataFrame'>\nRangeIndex: 15000 entries, 0 to 14999\nData columns (total 12 columns):\n #   Column          Non-Null Count  Dtype  \n---  ------          --------------  -----  \n 0   Unnamed: 0      15000 non-null  int64  \n 1   overall         15000 non-null  float64\n 2   verified        15000 non-null  bool   \n 3   reviewTime      15000 non-null  object \n 4   reviewerID      15000 non-null  object \n 5   asin            15000 non-null  object \n 6   style           15000 non-null  object \n 7   reviewerName    14999 non-null  object \n 8   reviewText      15000 non-null  object \n 9   summary         14997 non-null  object \n 10  unixReviewTime  15000 non-null  int64  \n 11  vote            9257 non-null   float64\ndtypes: bool(1), float64(2), int64(2), object(7)\nmemory usage: 1.3+ MB\n",
          "output_type": "stream"
        }
      ]
    },
    {
      "cell_type": "code",
      "source": [
        "df['summary'].fillna('Five Stars')"
      ],
      "metadata": {
        "colab": {
          "base_uri": "https://localhost:8080/",
          "height": 458
        },
        "id": "huQblW-UtF0o",
        "outputId": "1218b7db-0c84-49bd-dd61-4cb86034ce5f",
        "execution": {
          "iopub.status.busy": "2024-08-28T02:44:21.895941Z",
          "iopub.execute_input": "2024-08-28T02:44:21.896370Z",
          "iopub.status.idle": "2024-08-28T02:44:21.907377Z",
          "shell.execute_reply.started": "2024-08-28T02:44:21.896330Z",
          "shell.execute_reply": "2024-08-28T02:44:21.906311Z"
        },
        "trusted": true
      },
      "execution_count": null,
      "outputs": [
        {
          "execution_count": 24,
          "output_type": "execute_result",
          "data": {
            "text/plain": "0                       Material Great\n1                               Health\n2                   ARE YOU KIDING ME?\n3                      missing pages!!\n4        Best study product out there!\n                     ...              \n14995                 Fun and Engaging\n14996             One of my favourites\n14997             it just gets better.\n14998                        STAY AWAY\n14999           Terrible waste of time\nName: summary, Length: 15000, dtype: object"
          },
          "metadata": {}
        }
      ]
    },
    {
      "cell_type": "code",
      "source": [
        "df.info()"
      ],
      "metadata": {
        "colab": {
          "base_uri": "https://localhost:8080/"
        },
        "id": "cXMZtt_ttF0p",
        "outputId": "a0e83efa-dc8a-4638-f485-d6617bd965e3",
        "execution": {
          "iopub.status.busy": "2024-08-28T02:44:23.003745Z",
          "iopub.execute_input": "2024-08-28T02:44:23.004168Z",
          "iopub.status.idle": "2024-08-28T02:44:23.022321Z",
          "shell.execute_reply.started": "2024-08-28T02:44:23.004119Z",
          "shell.execute_reply": "2024-08-28T02:44:23.021099Z"
        },
        "trusted": true
      },
      "execution_count": null,
      "outputs": [
        {
          "name": "stdout",
          "text": "<class 'pandas.core.frame.DataFrame'>\nRangeIndex: 15000 entries, 0 to 14999\nData columns (total 12 columns):\n #   Column          Non-Null Count  Dtype  \n---  ------          --------------  -----  \n 0   Unnamed: 0      15000 non-null  int64  \n 1   overall         15000 non-null  float64\n 2   verified        15000 non-null  bool   \n 3   reviewTime      15000 non-null  object \n 4   reviewerID      15000 non-null  object \n 5   asin            15000 non-null  object \n 6   style           15000 non-null  object \n 7   reviewerName    14999 non-null  object \n 8   reviewText      15000 non-null  object \n 9   summary         14997 non-null  object \n 10  unixReviewTime  15000 non-null  int64  \n 11  vote            9257 non-null   float64\ndtypes: bool(1), float64(2), int64(2), object(7)\nmemory usage: 1.3+ MB\n",
          "output_type": "stream"
        }
      ]
    },
    {
      "cell_type": "code",
      "source": [
        "df=df.fillna('Five Stars')"
      ],
      "metadata": {
        "id": "sBGbQFm7tF0p",
        "execution": {
          "iopub.status.busy": "2024-08-28T02:44:24.059645Z",
          "iopub.execute_input": "2024-08-28T02:44:24.060088Z",
          "iopub.status.idle": "2024-08-28T02:44:24.078453Z",
          "shell.execute_reply.started": "2024-08-28T02:44:24.060045Z",
          "shell.execute_reply": "2024-08-28T02:44:24.077352Z"
        },
        "trusted": true
      },
      "execution_count": null,
      "outputs": []
    },
    {
      "cell_type": "code",
      "source": [
        "df.info()"
      ],
      "metadata": {
        "colab": {
          "base_uri": "https://localhost:8080/"
        },
        "id": "5Upp-JdHtF0q",
        "outputId": "d411027f-771c-4f46-e052-7f979969cd4e",
        "execution": {
          "iopub.status.busy": "2024-08-28T02:44:25.107928Z",
          "iopub.execute_input": "2024-08-28T02:44:25.108343Z",
          "iopub.status.idle": "2024-08-28T02:44:25.128968Z",
          "shell.execute_reply.started": "2024-08-28T02:44:25.108280Z",
          "shell.execute_reply": "2024-08-28T02:44:25.127570Z"
        },
        "trusted": true
      },
      "execution_count": null,
      "outputs": [
        {
          "name": "stdout",
          "text": "<class 'pandas.core.frame.DataFrame'>\nRangeIndex: 15000 entries, 0 to 14999\nData columns (total 12 columns):\n #   Column          Non-Null Count  Dtype  \n---  ------          --------------  -----  \n 0   Unnamed: 0      15000 non-null  int64  \n 1   overall         15000 non-null  float64\n 2   verified        15000 non-null  bool   \n 3   reviewTime      15000 non-null  object \n 4   reviewerID      15000 non-null  object \n 5   asin            15000 non-null  object \n 6   style           15000 non-null  object \n 7   reviewerName    15000 non-null  object \n 8   reviewText      15000 non-null  object \n 9   summary         15000 non-null  object \n 10  unixReviewTime  15000 non-null  int64  \n 11  vote            15000 non-null  object \ndtypes: bool(1), float64(1), int64(2), object(8)\nmemory usage: 1.3+ MB\n",
          "output_type": "stream"
        }
      ]
    },
    {
      "cell_type": "code",
      "source": [
        "df1=df.copy()"
      ],
      "metadata": {
        "id": "uz7xAqfktF0r",
        "execution": {
          "iopub.status.busy": "2024-08-28T02:44:26.046276Z",
          "iopub.execute_input": "2024-08-28T02:44:26.046702Z",
          "iopub.status.idle": "2024-08-28T02:44:26.058065Z",
          "shell.execute_reply.started": "2024-08-28T02:44:26.046661Z",
          "shell.execute_reply": "2024-08-28T02:44:26.056975Z"
        },
        "trusted": true
      },
      "execution_count": null,
      "outputs": []
    },
    {
      "cell_type": "code",
      "source": [
        "df1"
      ],
      "metadata": {
        "colab": {
          "base_uri": "https://localhost:8080/",
          "height": 875
        },
        "id": "7yg9TzDstF0r",
        "outputId": "9e8c3933-30f8-4688-af8c-4d1858db7325",
        "execution": {
          "iopub.status.busy": "2024-08-28T02:44:27.013559Z",
          "iopub.execute_input": "2024-08-28T02:44:27.014003Z",
          "iopub.status.idle": "2024-08-28T02:44:27.033023Z",
          "shell.execute_reply.started": "2024-08-28T02:44:27.013956Z",
          "shell.execute_reply": "2024-08-28T02:44:27.031946Z"
        },
        "trusted": true
      },
      "execution_count": null,
      "outputs": [
        {
          "execution_count": 29,
          "output_type": "execute_result",
          "data": {
            "text/plain": "       Unnamed: 0  overall  verified   reviewTime      reviewerID        asin  \\\n0               0      4.0      True  03 11, 2014  A240ORQ2LF9LUI  0077613252   \n1               1      4.0      True  02 23, 2014  A1YCCU0YRLS0FE  0077613252   \n2               2      1.0      True  02 17, 2014  A1BJHRQDYVAY2J  0077613252   \n3               3      3.0      True  02 17, 2014   APRDVZ6QBIQXT  0077613252   \n4               4      5.0     False  10 14, 2013  A2JZTTBSLS1QXV  0077775473   \n...           ...      ...       ...          ...             ...         ...   \n14995       14995      4.0     False   03 9, 2004  A2H0T0PY5IMEFX  B0000CEM5O   \n14996       14996      5.0     False  01 17, 2004  A3B8FP0ME75PG0  B0000CEM5O   \n14997       14997      4.0     False   01 1, 2004   A8LT66GHJAOQY  B0000CEM5O   \n14998       14998      1.0     False  01 28, 2004  A2278SA5JW1PSR  B0000CE220   \n14999       14999      1.0     False   01 3, 2004   A8UWGZA5FI1NT  B0000CE220   \n\n                            style         reviewerName  \\\n0      {'Format:': ' Loose Leaf'}           Michelle W   \n1      {'Format:': ' Loose Leaf'}  Rosalind White Ames   \n2      {'Format:': ' Loose Leaf'}       Allan R. Baker   \n3      {'Format:': ' Loose Leaf'}                 Lucy   \n4          {'Format:': ' CD-ROM'}            Albert V.   \n...                           ...                  ...   \n14995        {'Platform:': ' PC'}     Alan Dale Daniel   \n14996        {'Platform:': ' PC'}      Amazon Customer   \n14997        {'Platform:': ' PC'}        destiny morna   \n14998      {'Format:': ' CD-ROM'}                Carol   \n14999      {'Format:': ' CD-ROM'}      Matthew Purtill   \n\n                                              reviewText  \\\n0      The materials arrived early and were in excell...   \n1      I am really enjoying this book with the worksh...   \n2      IF YOU ARE TAKING THIS CLASS DON\"T WASTE YOUR ...   \n3      This book was missing pages!!! Important pages...   \n4      I have used LearnSmart and can officially say ...   \n...                                                  ...   \n14995  Ok, Ok.... I am 50+ years old and I bought thi...   \n14996  I've playled all the Nancy Drew games up to ga...   \n14997  This is the third Nancy Drew game that i have ...   \n14998  This software came installed on my new pc.  Al...   \n14999  I'm back with McAfee's tech \"support\".  It too...   \n\n                             summary  unixReviewTime        vote  \n0                     Material Great      1394496000  Five Stars  \n1                             Health      1393113600  Five Stars  \n2                 ARE YOU KIDING ME?      1392595200         7.0  \n3                    missing pages!!      1392595200         3.0  \n4      Best study product out there!      1381708800  Five Stars  \n...                              ...             ...         ...  \n14995               Fun and Engaging      1078790400         6.0  \n14996           One of my favourites      1074297600         2.0  \n14997           it just gets better.      1072915200        16.0  \n14998                      STAY AWAY      1075248000         4.0  \n14999         Terrible waste of time      1073088000  Five Stars  \n\n[15000 rows x 12 columns]",
            "text/html": "<div>\n<style scoped>\n    .dataframe tbody tr th:only-of-type {\n        vertical-align: middle;\n    }\n\n    .dataframe tbody tr th {\n        vertical-align: top;\n    }\n\n    .dataframe thead th {\n        text-align: right;\n    }\n</style>\n<table border=\"1\" class=\"dataframe\">\n  <thead>\n    <tr style=\"text-align: right;\">\n      <th></th>\n      <th>Unnamed: 0</th>\n      <th>overall</th>\n      <th>verified</th>\n      <th>reviewTime</th>\n      <th>reviewerID</th>\n      <th>asin</th>\n      <th>style</th>\n      <th>reviewerName</th>\n      <th>reviewText</th>\n      <th>summary</th>\n      <th>unixReviewTime</th>\n      <th>vote</th>\n    </tr>\n  </thead>\n  <tbody>\n    <tr>\n      <th>0</th>\n      <td>0</td>\n      <td>4.0</td>\n      <td>True</td>\n      <td>03 11, 2014</td>\n      <td>A240ORQ2LF9LUI</td>\n      <td>0077613252</td>\n      <td>{'Format:': ' Loose Leaf'}</td>\n      <td>Michelle W</td>\n      <td>The materials arrived early and were in excell...</td>\n      <td>Material Great</td>\n      <td>1394496000</td>\n      <td>Five Stars</td>\n    </tr>\n    <tr>\n      <th>1</th>\n      <td>1</td>\n      <td>4.0</td>\n      <td>True</td>\n      <td>02 23, 2014</td>\n      <td>A1YCCU0YRLS0FE</td>\n      <td>0077613252</td>\n      <td>{'Format:': ' Loose Leaf'}</td>\n      <td>Rosalind White Ames</td>\n      <td>I am really enjoying this book with the worksh...</td>\n      <td>Health</td>\n      <td>1393113600</td>\n      <td>Five Stars</td>\n    </tr>\n    <tr>\n      <th>2</th>\n      <td>2</td>\n      <td>1.0</td>\n      <td>True</td>\n      <td>02 17, 2014</td>\n      <td>A1BJHRQDYVAY2J</td>\n      <td>0077613252</td>\n      <td>{'Format:': ' Loose Leaf'}</td>\n      <td>Allan R. Baker</td>\n      <td>IF YOU ARE TAKING THIS CLASS DON\"T WASTE YOUR ...</td>\n      <td>ARE YOU KIDING ME?</td>\n      <td>1392595200</td>\n      <td>7.0</td>\n    </tr>\n    <tr>\n      <th>3</th>\n      <td>3</td>\n      <td>3.0</td>\n      <td>True</td>\n      <td>02 17, 2014</td>\n      <td>APRDVZ6QBIQXT</td>\n      <td>0077613252</td>\n      <td>{'Format:': ' Loose Leaf'}</td>\n      <td>Lucy</td>\n      <td>This book was missing pages!!! Important pages...</td>\n      <td>missing pages!!</td>\n      <td>1392595200</td>\n      <td>3.0</td>\n    </tr>\n    <tr>\n      <th>4</th>\n      <td>4</td>\n      <td>5.0</td>\n      <td>False</td>\n      <td>10 14, 2013</td>\n      <td>A2JZTTBSLS1QXV</td>\n      <td>0077775473</td>\n      <td>{'Format:': ' CD-ROM'}</td>\n      <td>Albert V.</td>\n      <td>I have used LearnSmart and can officially say ...</td>\n      <td>Best study product out there!</td>\n      <td>1381708800</td>\n      <td>Five Stars</td>\n    </tr>\n    <tr>\n      <th>...</th>\n      <td>...</td>\n      <td>...</td>\n      <td>...</td>\n      <td>...</td>\n      <td>...</td>\n      <td>...</td>\n      <td>...</td>\n      <td>...</td>\n      <td>...</td>\n      <td>...</td>\n      <td>...</td>\n      <td>...</td>\n    </tr>\n    <tr>\n      <th>14995</th>\n      <td>14995</td>\n      <td>4.0</td>\n      <td>False</td>\n      <td>03 9, 2004</td>\n      <td>A2H0T0PY5IMEFX</td>\n      <td>B0000CEM5O</td>\n      <td>{'Platform:': ' PC'}</td>\n      <td>Alan Dale Daniel</td>\n      <td>Ok, Ok.... I am 50+ years old and I bought thi...</td>\n      <td>Fun and Engaging</td>\n      <td>1078790400</td>\n      <td>6.0</td>\n    </tr>\n    <tr>\n      <th>14996</th>\n      <td>14996</td>\n      <td>5.0</td>\n      <td>False</td>\n      <td>01 17, 2004</td>\n      <td>A3B8FP0ME75PG0</td>\n      <td>B0000CEM5O</td>\n      <td>{'Platform:': ' PC'}</td>\n      <td>Amazon Customer</td>\n      <td>I've playled all the Nancy Drew games up to ga...</td>\n      <td>One of my favourites</td>\n      <td>1074297600</td>\n      <td>2.0</td>\n    </tr>\n    <tr>\n      <th>14997</th>\n      <td>14997</td>\n      <td>4.0</td>\n      <td>False</td>\n      <td>01 1, 2004</td>\n      <td>A8LT66GHJAOQY</td>\n      <td>B0000CEM5O</td>\n      <td>{'Platform:': ' PC'}</td>\n      <td>destiny morna</td>\n      <td>This is the third Nancy Drew game that i have ...</td>\n      <td>it just gets better.</td>\n      <td>1072915200</td>\n      <td>16.0</td>\n    </tr>\n    <tr>\n      <th>14998</th>\n      <td>14998</td>\n      <td>1.0</td>\n      <td>False</td>\n      <td>01 28, 2004</td>\n      <td>A2278SA5JW1PSR</td>\n      <td>B0000CE220</td>\n      <td>{'Format:': ' CD-ROM'}</td>\n      <td>Carol</td>\n      <td>This software came installed on my new pc.  Al...</td>\n      <td>STAY AWAY</td>\n      <td>1075248000</td>\n      <td>4.0</td>\n    </tr>\n    <tr>\n      <th>14999</th>\n      <td>14999</td>\n      <td>1.0</td>\n      <td>False</td>\n      <td>01 3, 2004</td>\n      <td>A8UWGZA5FI1NT</td>\n      <td>B0000CE220</td>\n      <td>{'Format:': ' CD-ROM'}</td>\n      <td>Matthew Purtill</td>\n      <td>I'm back with McAfee's tech \"support\".  It too...</td>\n      <td>Terrible waste of time</td>\n      <td>1073088000</td>\n      <td>Five Stars</td>\n    </tr>\n  </tbody>\n</table>\n<p>15000 rows × 12 columns</p>\n</div>"
          },
          "metadata": {}
        }
      ]
    },
    {
      "cell_type": "code",
      "source": [
        "df1.info()"
      ],
      "metadata": {
        "colab": {
          "base_uri": "https://localhost:8080/"
        },
        "id": "kYhX972ftF0s",
        "outputId": "889c36a6-8b0f-49ee-af3a-35193329aa7d",
        "execution": {
          "iopub.status.busy": "2024-08-28T02:44:27.894496Z",
          "iopub.execute_input": "2024-08-28T02:44:27.894917Z",
          "iopub.status.idle": "2024-08-28T02:44:27.914002Z",
          "shell.execute_reply.started": "2024-08-28T02:44:27.894876Z",
          "shell.execute_reply": "2024-08-28T02:44:27.912558Z"
        },
        "trusted": true
      },
      "execution_count": null,
      "outputs": [
        {
          "name": "stdout",
          "text": "<class 'pandas.core.frame.DataFrame'>\nRangeIndex: 15000 entries, 0 to 14999\nData columns (total 12 columns):\n #   Column          Non-Null Count  Dtype  \n---  ------          --------------  -----  \n 0   Unnamed: 0      15000 non-null  int64  \n 1   overall         15000 non-null  float64\n 2   verified        15000 non-null  bool   \n 3   reviewTime      15000 non-null  object \n 4   reviewerID      15000 non-null  object \n 5   asin            15000 non-null  object \n 6   style           15000 non-null  object \n 7   reviewerName    15000 non-null  object \n 8   reviewText      15000 non-null  object \n 9   summary         15000 non-null  object \n 10  unixReviewTime  15000 non-null  int64  \n 11  vote            15000 non-null  object \ndtypes: bool(1), float64(1), int64(2), object(8)\nmemory usage: 1.3+ MB\n",
          "output_type": "stream"
        }
      ]
    },
    {
      "cell_type": "code",
      "source": [
        "df1.columns"
      ],
      "metadata": {
        "colab": {
          "base_uri": "https://localhost:8080/"
        },
        "id": "qt-gF0_ItF0t",
        "outputId": "7b6fa1e7-f6a7-42e3-d4bf-f8803934a0ae",
        "execution": {
          "iopub.status.busy": "2024-08-28T02:44:28.815940Z",
          "iopub.execute_input": "2024-08-28T02:44:28.816353Z",
          "iopub.status.idle": "2024-08-28T02:44:28.823699Z",
          "shell.execute_reply.started": "2024-08-28T02:44:28.816314Z",
          "shell.execute_reply": "2024-08-28T02:44:28.822647Z"
        },
        "trusted": true
      },
      "execution_count": null,
      "outputs": [
        {
          "execution_count": 31,
          "output_type": "execute_result",
          "data": {
            "text/plain": "Index(['Unnamed: 0', 'overall', 'verified', 'reviewTime', 'reviewerID', 'asin',\n       'style', 'reviewerName', 'reviewText', 'summary', 'unixReviewTime',\n       'vote'],\n      dtype='object')"
          },
          "metadata": {}
        }
      ]
    },
    {
      "cell_type": "code",
      "source": [
        "df1.sample(20)"
      ],
      "metadata": {
        "colab": {
          "base_uri": "https://localhost:8080/",
          "height": 1000
        },
        "id": "zXPVuZWptF0u",
        "outputId": "f09e7cbc-768e-4a12-97ed-af72acf50eb3",
        "execution": {
          "iopub.status.busy": "2024-08-28T02:44:29.761443Z",
          "iopub.execute_input": "2024-08-28T02:44:29.762123Z",
          "iopub.status.idle": "2024-08-28T02:44:29.785504Z",
          "shell.execute_reply.started": "2024-08-28T02:44:29.762063Z",
          "shell.execute_reply": "2024-08-28T02:44:29.784234Z"
        },
        "trusted": true
      },
      "execution_count": null,
      "outputs": [
        {
          "execution_count": 32,
          "output_type": "execute_result",
          "data": {
            "text/plain": "       Unnamed: 0  overall  verified   reviewTime      reviewerID        asin  \\\n5384         5384      5.0      True   01 4, 2011  A3TWNH584UBMTO  B000050ZRE   \n5158         5158      5.0     False   12 1, 2001   AE6VEZPN9VQRG  B000050HEI   \n13457       13457      2.0     False  01 19, 2004  A213COKPEN9R5Z  B00009L1HM   \n6094         6094      1.0     False  05 16, 2001  A1KJ94X41TJLX0  B00005AFI1   \n11467       11467      1.0     False  01 22, 2003   AAMYWGM3E2QGP  B00006UHPF   \n3710         3710      5.0     False   08 9, 2007  A14CKCNHD5OO98  B00002SANG   \n4803         4803      4.0     False   11 5, 2004  A1VUU243PHSEEZ  B00004XQP3   \n10180       10180      2.0     False  10 23, 2003  A2L4MTEEBOKO4A  B000069VAW   \n12880       12880      5.0     False  08 11, 2006  A10LAL8YPPTN03  B00008ZGOE   \n2632         2632      3.0      True  05 25, 2017  A1LLH5TJI7GQC3  3959828160   \n9535         9535      5.0     False  03 25, 2002  A2GBBDNZLYC4A9  B000063V0V   \n2               2      1.0      True  02 17, 2014  A1BJHRQDYVAY2J  0077613252   \n4441         4441      3.0     False   12 4, 2001  A28ANPKNFQXTP3  B00004U9LR   \n1011         1011      3.0      True  08 24, 2014   AXDHEPM9JF0XF  0763855553   \n14910       14910      5.0      True  05 11, 2015  A345UYSZMR3MZE  B0000CEM5O   \n6898         6898      5.0      True  07 27, 2016  A27ZM0R8Z24UDS  B00005LBVS   \n5908         5908      5.0      True  07 21, 2010  A1OTRRHLR0X8TD  B00005AFI2   \n5893         5893      2.0     False  03 23, 2002   AH3DICR6VXGA8  B00005AFI3   \n3498         3498      2.0     False  05 28, 2000  A37AM8S772SCJA  B00002S5IG   \n12662       12662      5.0     False  05 12, 2007  A10197VRSMVIX9  B00008NRU8   \n\n                               style        reviewerName  \\\n5384     {'Color:': ' 0.7903320173'}          ticats4444   \n5158          {'Format:': ' CD-ROM'}       Sarah Blethen   \n13457         {'Format:': ' CD-ROM'}         S. Crandall   \n6094          {'Format:': ' CD-ROM'}         Alexis Rios   \n11467         {'Format:': ' CD-ROM'}    Sherry Danielson   \n3710          {'Format:': ' CD-ROM'}     Kindle Customer   \n4803          {'Format:': ' CD-ROM'}  Alatariel Carnesir   \n10180         {'Format:': ' CD-ROM'}      Richard Fisher   \n12880         {'Format:': ' CD-ROM'}             E.Lopez   \n2632          {'Format:': ' CD-ROM'}               Harry   \n9535          {'Format:': ' CD-ROM'}        Jeff Johnson   \n2         {'Format:': ' Loose Leaf'}      Allan R. Baker   \n4441          {'Format:': ' CD-ROM'}    Safedin Kajoshaj   \n1011          {'Format:': ' CD-ROM'}         Joe Garnick   \n14910  {'Platform:': ' PC Download'}         Megan olsen   \n6898          {'Format:': ' CD-ROM'}          Leah Vooys   \n5908          {'Format:': ' CD-ROM'}                 Jim   \n5893          {'Format:': ' CD-ROM'}              Boofee   \n3498          {'Format:': ' CD-ROM'}         Rob Douglas   \n12662         {'Format:': ' CD-ROM'}        Anne Kearney   \n\n                                              reviewText  \\\n5384   outstanding product -- if you are having troub...   \n5158   This is the best comp. game ever! And believe ...   \n13457  Contrary to what the box says, as of right now...   \n6094   I tested the beta version of Office XP (Last c...   \n11467  I could not install this software on my comput...   \n3710   I loved this software.  I'm older, but I neede...   \n4803   I found this game to be very enjoyable.  Yes, ...   \n10180  When I brought home Studio 8 I thought that I ...   \n12880  I have both PSP7 and PSP8 and I love them both...   \n2632                            Didn't really need this.   \n9535   For those of you do not know, Flash is the sta...   \n2      IF YOU ARE TAKING THIS CLASS DON\"T WASTE YOUR ...   \n4441   I have been using StarOffice for the last year...   \n1011          It's office, a necessary evil of bloatware   \n14910  This is one of the BEST ones!!!! Get it you wo...   \n6898   Love playing this game.  Works on my windows 7...   \n5908   This was a used book I purchased.  It was in e...   \n5893   I bought this thinking it would allow me bette...   \n3498   After careful consideration of all programs in...   \n12662  Excellent product!!! Had me speaking my first ...   \n\n                                                 summary  unixReviewTime  \\\n5384          hawking network dish adapter for Mac users      1294099200   \n5158                      13 year old Nancy Drew Fanatic      1007164800   \n13457                    Won't convert from Quicken 2004      1074470400   \n6094                         Same stuff, with a new look       989971200   \n11467                                           horrible      1043193600   \n3710                                    Great adventure!      1186617600   \n4803                                       A  good game!      1099612800   \n10180             Lot's of promise but not well executed      1066867200   \n12880                                         I love it!      1155254400   \n2632                                         Three Stars      1495670400   \n9535   Amazing leaps and bounds above Flash 5.0 a tru...      1017014400   \n2                                     ARE YOU KIDING ME?      1392595200   \n4441                          Better off waiting for 6.0      1007424000   \n1011                                         Three Stars      1408838400   \n14910                      This is one of the BEST ones!      1431302400   \n6898                                          Five Stars      1469577600   \n5908                  Another great purchase from Amazon      1279670400   \n5893       Not worth the upgrade if you aren't using IIS      1016841600   \n3498                               what a disappointment       959472000   \n12662                                        Arabic Easy      1178928000   \n\n             vote  \n5384          2.0  \n5158          4.0  \n13457         2.0  \n6094         18.0  \n11467         3.0  \n3710   Five Stars  \n4803   Five Stars  \n10180         4.0  \n12880  Five Stars  \n2632   Five Stars  \n9535          3.0  \n2             7.0  \n4441          8.0  \n1011   Five Stars  \n14910  Five Stars  \n6898   Five Stars  \n5908   Five Stars  \n5893          3.0  \n3498         12.0  \n12662  Five Stars  ",
            "text/html": "<div>\n<style scoped>\n    .dataframe tbody tr th:only-of-type {\n        vertical-align: middle;\n    }\n\n    .dataframe tbody tr th {\n        vertical-align: top;\n    }\n\n    .dataframe thead th {\n        text-align: right;\n    }\n</style>\n<table border=\"1\" class=\"dataframe\">\n  <thead>\n    <tr style=\"text-align: right;\">\n      <th></th>\n      <th>Unnamed: 0</th>\n      <th>overall</th>\n      <th>verified</th>\n      <th>reviewTime</th>\n      <th>reviewerID</th>\n      <th>asin</th>\n      <th>style</th>\n      <th>reviewerName</th>\n      <th>reviewText</th>\n      <th>summary</th>\n      <th>unixReviewTime</th>\n      <th>vote</th>\n    </tr>\n  </thead>\n  <tbody>\n    <tr>\n      <th>5384</th>\n      <td>5384</td>\n      <td>5.0</td>\n      <td>True</td>\n      <td>01 4, 2011</td>\n      <td>A3TWNH584UBMTO</td>\n      <td>B000050ZRE</td>\n      <td>{'Color:': ' 0.7903320173'}</td>\n      <td>ticats4444</td>\n      <td>outstanding product -- if you are having troub...</td>\n      <td>hawking network dish adapter for Mac users</td>\n      <td>1294099200</td>\n      <td>2.0</td>\n    </tr>\n    <tr>\n      <th>5158</th>\n      <td>5158</td>\n      <td>5.0</td>\n      <td>False</td>\n      <td>12 1, 2001</td>\n      <td>AE6VEZPN9VQRG</td>\n      <td>B000050HEI</td>\n      <td>{'Format:': ' CD-ROM'}</td>\n      <td>Sarah Blethen</td>\n      <td>This is the best comp. game ever! And believe ...</td>\n      <td>13 year old Nancy Drew Fanatic</td>\n      <td>1007164800</td>\n      <td>4.0</td>\n    </tr>\n    <tr>\n      <th>13457</th>\n      <td>13457</td>\n      <td>2.0</td>\n      <td>False</td>\n      <td>01 19, 2004</td>\n      <td>A213COKPEN9R5Z</td>\n      <td>B00009L1HM</td>\n      <td>{'Format:': ' CD-ROM'}</td>\n      <td>S. Crandall</td>\n      <td>Contrary to what the box says, as of right now...</td>\n      <td>Won't convert from Quicken 2004</td>\n      <td>1074470400</td>\n      <td>2.0</td>\n    </tr>\n    <tr>\n      <th>6094</th>\n      <td>6094</td>\n      <td>1.0</td>\n      <td>False</td>\n      <td>05 16, 2001</td>\n      <td>A1KJ94X41TJLX0</td>\n      <td>B00005AFI1</td>\n      <td>{'Format:': ' CD-ROM'}</td>\n      <td>Alexis Rios</td>\n      <td>I tested the beta version of Office XP (Last c...</td>\n      <td>Same stuff, with a new look</td>\n      <td>989971200</td>\n      <td>18.0</td>\n    </tr>\n    <tr>\n      <th>11467</th>\n      <td>11467</td>\n      <td>1.0</td>\n      <td>False</td>\n      <td>01 22, 2003</td>\n      <td>AAMYWGM3E2QGP</td>\n      <td>B00006UHPF</td>\n      <td>{'Format:': ' CD-ROM'}</td>\n      <td>Sherry Danielson</td>\n      <td>I could not install this software on my comput...</td>\n      <td>horrible</td>\n      <td>1043193600</td>\n      <td>3.0</td>\n    </tr>\n    <tr>\n      <th>3710</th>\n      <td>3710</td>\n      <td>5.0</td>\n      <td>False</td>\n      <td>08 9, 2007</td>\n      <td>A14CKCNHD5OO98</td>\n      <td>B00002SANG</td>\n      <td>{'Format:': ' CD-ROM'}</td>\n      <td>Kindle Customer</td>\n      <td>I loved this software.  I'm older, but I neede...</td>\n      <td>Great adventure!</td>\n      <td>1186617600</td>\n      <td>Five Stars</td>\n    </tr>\n    <tr>\n      <th>4803</th>\n      <td>4803</td>\n      <td>4.0</td>\n      <td>False</td>\n      <td>11 5, 2004</td>\n      <td>A1VUU243PHSEEZ</td>\n      <td>B00004XQP3</td>\n      <td>{'Format:': ' CD-ROM'}</td>\n      <td>Alatariel Carnesir</td>\n      <td>I found this game to be very enjoyable.  Yes, ...</td>\n      <td>A  good game!</td>\n      <td>1099612800</td>\n      <td>Five Stars</td>\n    </tr>\n    <tr>\n      <th>10180</th>\n      <td>10180</td>\n      <td>2.0</td>\n      <td>False</td>\n      <td>10 23, 2003</td>\n      <td>A2L4MTEEBOKO4A</td>\n      <td>B000069VAW</td>\n      <td>{'Format:': ' CD-ROM'}</td>\n      <td>Richard Fisher</td>\n      <td>When I brought home Studio 8 I thought that I ...</td>\n      <td>Lot's of promise but not well executed</td>\n      <td>1066867200</td>\n      <td>4.0</td>\n    </tr>\n    <tr>\n      <th>12880</th>\n      <td>12880</td>\n      <td>5.0</td>\n      <td>False</td>\n      <td>08 11, 2006</td>\n      <td>A10LAL8YPPTN03</td>\n      <td>B00008ZGOE</td>\n      <td>{'Format:': ' CD-ROM'}</td>\n      <td>E.Lopez</td>\n      <td>I have both PSP7 and PSP8 and I love them both...</td>\n      <td>I love it!</td>\n      <td>1155254400</td>\n      <td>Five Stars</td>\n    </tr>\n    <tr>\n      <th>2632</th>\n      <td>2632</td>\n      <td>3.0</td>\n      <td>True</td>\n      <td>05 25, 2017</td>\n      <td>A1LLH5TJI7GQC3</td>\n      <td>3959828160</td>\n      <td>{'Format:': ' CD-ROM'}</td>\n      <td>Harry</td>\n      <td>Didn't really need this.</td>\n      <td>Three Stars</td>\n      <td>1495670400</td>\n      <td>Five Stars</td>\n    </tr>\n    <tr>\n      <th>9535</th>\n      <td>9535</td>\n      <td>5.0</td>\n      <td>False</td>\n      <td>03 25, 2002</td>\n      <td>A2GBBDNZLYC4A9</td>\n      <td>B000063V0V</td>\n      <td>{'Format:': ' CD-ROM'}</td>\n      <td>Jeff Johnson</td>\n      <td>For those of you do not know, Flash is the sta...</td>\n      <td>Amazing leaps and bounds above Flash 5.0 a tru...</td>\n      <td>1017014400</td>\n      <td>3.0</td>\n    </tr>\n    <tr>\n      <th>2</th>\n      <td>2</td>\n      <td>1.0</td>\n      <td>True</td>\n      <td>02 17, 2014</td>\n      <td>A1BJHRQDYVAY2J</td>\n      <td>0077613252</td>\n      <td>{'Format:': ' Loose Leaf'}</td>\n      <td>Allan R. Baker</td>\n      <td>IF YOU ARE TAKING THIS CLASS DON\"T WASTE YOUR ...</td>\n      <td>ARE YOU KIDING ME?</td>\n      <td>1392595200</td>\n      <td>7.0</td>\n    </tr>\n    <tr>\n      <th>4441</th>\n      <td>4441</td>\n      <td>3.0</td>\n      <td>False</td>\n      <td>12 4, 2001</td>\n      <td>A28ANPKNFQXTP3</td>\n      <td>B00004U9LR</td>\n      <td>{'Format:': ' CD-ROM'}</td>\n      <td>Safedin Kajoshaj</td>\n      <td>I have been using StarOffice for the last year...</td>\n      <td>Better off waiting for 6.0</td>\n      <td>1007424000</td>\n      <td>8.0</td>\n    </tr>\n    <tr>\n      <th>1011</th>\n      <td>1011</td>\n      <td>3.0</td>\n      <td>True</td>\n      <td>08 24, 2014</td>\n      <td>AXDHEPM9JF0XF</td>\n      <td>0763855553</td>\n      <td>{'Format:': ' CD-ROM'}</td>\n      <td>Joe Garnick</td>\n      <td>It's office, a necessary evil of bloatware</td>\n      <td>Three Stars</td>\n      <td>1408838400</td>\n      <td>Five Stars</td>\n    </tr>\n    <tr>\n      <th>14910</th>\n      <td>14910</td>\n      <td>5.0</td>\n      <td>True</td>\n      <td>05 11, 2015</td>\n      <td>A345UYSZMR3MZE</td>\n      <td>B0000CEM5O</td>\n      <td>{'Platform:': ' PC Download'}</td>\n      <td>Megan olsen</td>\n      <td>This is one of the BEST ones!!!! Get it you wo...</td>\n      <td>This is one of the BEST ones!</td>\n      <td>1431302400</td>\n      <td>Five Stars</td>\n    </tr>\n    <tr>\n      <th>6898</th>\n      <td>6898</td>\n      <td>5.0</td>\n      <td>True</td>\n      <td>07 27, 2016</td>\n      <td>A27ZM0R8Z24UDS</td>\n      <td>B00005LBVS</td>\n      <td>{'Format:': ' CD-ROM'}</td>\n      <td>Leah Vooys</td>\n      <td>Love playing this game.  Works on my windows 7...</td>\n      <td>Five Stars</td>\n      <td>1469577600</td>\n      <td>Five Stars</td>\n    </tr>\n    <tr>\n      <th>5908</th>\n      <td>5908</td>\n      <td>5.0</td>\n      <td>True</td>\n      <td>07 21, 2010</td>\n      <td>A1OTRRHLR0X8TD</td>\n      <td>B00005AFI2</td>\n      <td>{'Format:': ' CD-ROM'}</td>\n      <td>Jim</td>\n      <td>This was a used book I purchased.  It was in e...</td>\n      <td>Another great purchase from Amazon</td>\n      <td>1279670400</td>\n      <td>Five Stars</td>\n    </tr>\n    <tr>\n      <th>5893</th>\n      <td>5893</td>\n      <td>2.0</td>\n      <td>False</td>\n      <td>03 23, 2002</td>\n      <td>AH3DICR6VXGA8</td>\n      <td>B00005AFI3</td>\n      <td>{'Format:': ' CD-ROM'}</td>\n      <td>Boofee</td>\n      <td>I bought this thinking it would allow me bette...</td>\n      <td>Not worth the upgrade if you aren't using IIS</td>\n      <td>1016841600</td>\n      <td>3.0</td>\n    </tr>\n    <tr>\n      <th>3498</th>\n      <td>3498</td>\n      <td>2.0</td>\n      <td>False</td>\n      <td>05 28, 2000</td>\n      <td>A37AM8S772SCJA</td>\n      <td>B00002S5IG</td>\n      <td>{'Format:': ' CD-ROM'}</td>\n      <td>Rob Douglas</td>\n      <td>After careful consideration of all programs in...</td>\n      <td>what a disappointment</td>\n      <td>959472000</td>\n      <td>12.0</td>\n    </tr>\n    <tr>\n      <th>12662</th>\n      <td>12662</td>\n      <td>5.0</td>\n      <td>False</td>\n      <td>05 12, 2007</td>\n      <td>A10197VRSMVIX9</td>\n      <td>B00008NRU8</td>\n      <td>{'Format:': ' CD-ROM'}</td>\n      <td>Anne Kearney</td>\n      <td>Excellent product!!! Had me speaking my first ...</td>\n      <td>Arabic Easy</td>\n      <td>1178928000</td>\n      <td>Five Stars</td>\n    </tr>\n  </tbody>\n</table>\n</div>"
          },
          "metadata": {}
        }
      ]
    },
    {
      "cell_type": "code",
      "source": [
        "df1"
      ],
      "metadata": {
        "colab": {
          "base_uri": "https://localhost:8080/",
          "height": 875
        },
        "id": "k6B0RlZmtF0w",
        "outputId": "b5fa8771-b553-4f14-d5ae-fddf2a3e3921",
        "execution": {
          "iopub.status.busy": "2024-08-28T02:44:30.728948Z",
          "iopub.execute_input": "2024-08-28T02:44:30.729392Z",
          "iopub.status.idle": "2024-08-28T02:44:30.749233Z",
          "shell.execute_reply.started": "2024-08-28T02:44:30.729348Z",
          "shell.execute_reply": "2024-08-28T02:44:30.747933Z"
        },
        "trusted": true
      },
      "execution_count": null,
      "outputs": [
        {
          "execution_count": 33,
          "output_type": "execute_result",
          "data": {
            "text/plain": "       Unnamed: 0  overall  verified   reviewTime      reviewerID        asin  \\\n0               0      4.0      True  03 11, 2014  A240ORQ2LF9LUI  0077613252   \n1               1      4.0      True  02 23, 2014  A1YCCU0YRLS0FE  0077613252   \n2               2      1.0      True  02 17, 2014  A1BJHRQDYVAY2J  0077613252   \n3               3      3.0      True  02 17, 2014   APRDVZ6QBIQXT  0077613252   \n4               4      5.0     False  10 14, 2013  A2JZTTBSLS1QXV  0077775473   \n...           ...      ...       ...          ...             ...         ...   \n14995       14995      4.0     False   03 9, 2004  A2H0T0PY5IMEFX  B0000CEM5O   \n14996       14996      5.0     False  01 17, 2004  A3B8FP0ME75PG0  B0000CEM5O   \n14997       14997      4.0     False   01 1, 2004   A8LT66GHJAOQY  B0000CEM5O   \n14998       14998      1.0     False  01 28, 2004  A2278SA5JW1PSR  B0000CE220   \n14999       14999      1.0     False   01 3, 2004   A8UWGZA5FI1NT  B0000CE220   \n\n                            style         reviewerName  \\\n0      {'Format:': ' Loose Leaf'}           Michelle W   \n1      {'Format:': ' Loose Leaf'}  Rosalind White Ames   \n2      {'Format:': ' Loose Leaf'}       Allan R. Baker   \n3      {'Format:': ' Loose Leaf'}                 Lucy   \n4          {'Format:': ' CD-ROM'}            Albert V.   \n...                           ...                  ...   \n14995        {'Platform:': ' PC'}     Alan Dale Daniel   \n14996        {'Platform:': ' PC'}      Amazon Customer   \n14997        {'Platform:': ' PC'}        destiny morna   \n14998      {'Format:': ' CD-ROM'}                Carol   \n14999      {'Format:': ' CD-ROM'}      Matthew Purtill   \n\n                                              reviewText  \\\n0      The materials arrived early and were in excell...   \n1      I am really enjoying this book with the worksh...   \n2      IF YOU ARE TAKING THIS CLASS DON\"T WASTE YOUR ...   \n3      This book was missing pages!!! Important pages...   \n4      I have used LearnSmart and can officially say ...   \n...                                                  ...   \n14995  Ok, Ok.... I am 50+ years old and I bought thi...   \n14996  I've playled all the Nancy Drew games up to ga...   \n14997  This is the third Nancy Drew game that i have ...   \n14998  This software came installed on my new pc.  Al...   \n14999  I'm back with McAfee's tech \"support\".  It too...   \n\n                             summary  unixReviewTime        vote  \n0                     Material Great      1394496000  Five Stars  \n1                             Health      1393113600  Five Stars  \n2                 ARE YOU KIDING ME?      1392595200         7.0  \n3                    missing pages!!      1392595200         3.0  \n4      Best study product out there!      1381708800  Five Stars  \n...                              ...             ...         ...  \n14995               Fun and Engaging      1078790400         6.0  \n14996           One of my favourites      1074297600         2.0  \n14997           it just gets better.      1072915200        16.0  \n14998                      STAY AWAY      1075248000         4.0  \n14999         Terrible waste of time      1073088000  Five Stars  \n\n[15000 rows x 12 columns]",
            "text/html": "<div>\n<style scoped>\n    .dataframe tbody tr th:only-of-type {\n        vertical-align: middle;\n    }\n\n    .dataframe tbody tr th {\n        vertical-align: top;\n    }\n\n    .dataframe thead th {\n        text-align: right;\n    }\n</style>\n<table border=\"1\" class=\"dataframe\">\n  <thead>\n    <tr style=\"text-align: right;\">\n      <th></th>\n      <th>Unnamed: 0</th>\n      <th>overall</th>\n      <th>verified</th>\n      <th>reviewTime</th>\n      <th>reviewerID</th>\n      <th>asin</th>\n      <th>style</th>\n      <th>reviewerName</th>\n      <th>reviewText</th>\n      <th>summary</th>\n      <th>unixReviewTime</th>\n      <th>vote</th>\n    </tr>\n  </thead>\n  <tbody>\n    <tr>\n      <th>0</th>\n      <td>0</td>\n      <td>4.0</td>\n      <td>True</td>\n      <td>03 11, 2014</td>\n      <td>A240ORQ2LF9LUI</td>\n      <td>0077613252</td>\n      <td>{'Format:': ' Loose Leaf'}</td>\n      <td>Michelle W</td>\n      <td>The materials arrived early and were in excell...</td>\n      <td>Material Great</td>\n      <td>1394496000</td>\n      <td>Five Stars</td>\n    </tr>\n    <tr>\n      <th>1</th>\n      <td>1</td>\n      <td>4.0</td>\n      <td>True</td>\n      <td>02 23, 2014</td>\n      <td>A1YCCU0YRLS0FE</td>\n      <td>0077613252</td>\n      <td>{'Format:': ' Loose Leaf'}</td>\n      <td>Rosalind White Ames</td>\n      <td>I am really enjoying this book with the worksh...</td>\n      <td>Health</td>\n      <td>1393113600</td>\n      <td>Five Stars</td>\n    </tr>\n    <tr>\n      <th>2</th>\n      <td>2</td>\n      <td>1.0</td>\n      <td>True</td>\n      <td>02 17, 2014</td>\n      <td>A1BJHRQDYVAY2J</td>\n      <td>0077613252</td>\n      <td>{'Format:': ' Loose Leaf'}</td>\n      <td>Allan R. Baker</td>\n      <td>IF YOU ARE TAKING THIS CLASS DON\"T WASTE YOUR ...</td>\n      <td>ARE YOU KIDING ME?</td>\n      <td>1392595200</td>\n      <td>7.0</td>\n    </tr>\n    <tr>\n      <th>3</th>\n      <td>3</td>\n      <td>3.0</td>\n      <td>True</td>\n      <td>02 17, 2014</td>\n      <td>APRDVZ6QBIQXT</td>\n      <td>0077613252</td>\n      <td>{'Format:': ' Loose Leaf'}</td>\n      <td>Lucy</td>\n      <td>This book was missing pages!!! Important pages...</td>\n      <td>missing pages!!</td>\n      <td>1392595200</td>\n      <td>3.0</td>\n    </tr>\n    <tr>\n      <th>4</th>\n      <td>4</td>\n      <td>5.0</td>\n      <td>False</td>\n      <td>10 14, 2013</td>\n      <td>A2JZTTBSLS1QXV</td>\n      <td>0077775473</td>\n      <td>{'Format:': ' CD-ROM'}</td>\n      <td>Albert V.</td>\n      <td>I have used LearnSmart and can officially say ...</td>\n      <td>Best study product out there!</td>\n      <td>1381708800</td>\n      <td>Five Stars</td>\n    </tr>\n    <tr>\n      <th>...</th>\n      <td>...</td>\n      <td>...</td>\n      <td>...</td>\n      <td>...</td>\n      <td>...</td>\n      <td>...</td>\n      <td>...</td>\n      <td>...</td>\n      <td>...</td>\n      <td>...</td>\n      <td>...</td>\n      <td>...</td>\n    </tr>\n    <tr>\n      <th>14995</th>\n      <td>14995</td>\n      <td>4.0</td>\n      <td>False</td>\n      <td>03 9, 2004</td>\n      <td>A2H0T0PY5IMEFX</td>\n      <td>B0000CEM5O</td>\n      <td>{'Platform:': ' PC'}</td>\n      <td>Alan Dale Daniel</td>\n      <td>Ok, Ok.... I am 50+ years old and I bought thi...</td>\n      <td>Fun and Engaging</td>\n      <td>1078790400</td>\n      <td>6.0</td>\n    </tr>\n    <tr>\n      <th>14996</th>\n      <td>14996</td>\n      <td>5.0</td>\n      <td>False</td>\n      <td>01 17, 2004</td>\n      <td>A3B8FP0ME75PG0</td>\n      <td>B0000CEM5O</td>\n      <td>{'Platform:': ' PC'}</td>\n      <td>Amazon Customer</td>\n      <td>I've playled all the Nancy Drew games up to ga...</td>\n      <td>One of my favourites</td>\n      <td>1074297600</td>\n      <td>2.0</td>\n    </tr>\n    <tr>\n      <th>14997</th>\n      <td>14997</td>\n      <td>4.0</td>\n      <td>False</td>\n      <td>01 1, 2004</td>\n      <td>A8LT66GHJAOQY</td>\n      <td>B0000CEM5O</td>\n      <td>{'Platform:': ' PC'}</td>\n      <td>destiny morna</td>\n      <td>This is the third Nancy Drew game that i have ...</td>\n      <td>it just gets better.</td>\n      <td>1072915200</td>\n      <td>16.0</td>\n    </tr>\n    <tr>\n      <th>14998</th>\n      <td>14998</td>\n      <td>1.0</td>\n      <td>False</td>\n      <td>01 28, 2004</td>\n      <td>A2278SA5JW1PSR</td>\n      <td>B0000CE220</td>\n      <td>{'Format:': ' CD-ROM'}</td>\n      <td>Carol</td>\n      <td>This software came installed on my new pc.  Al...</td>\n      <td>STAY AWAY</td>\n      <td>1075248000</td>\n      <td>4.0</td>\n    </tr>\n    <tr>\n      <th>14999</th>\n      <td>14999</td>\n      <td>1.0</td>\n      <td>False</td>\n      <td>01 3, 2004</td>\n      <td>A8UWGZA5FI1NT</td>\n      <td>B0000CE220</td>\n      <td>{'Format:': ' CD-ROM'}</td>\n      <td>Matthew Purtill</td>\n      <td>I'm back with McAfee's tech \"support\".  It too...</td>\n      <td>Terrible waste of time</td>\n      <td>1073088000</td>\n      <td>Five Stars</td>\n    </tr>\n  </tbody>\n</table>\n<p>15000 rows × 12 columns</p>\n</div>"
          },
          "metadata": {}
        }
      ]
    },
    {
      "cell_type": "code",
      "source": [
        "df1.info()"
      ],
      "metadata": {
        "colab": {
          "base_uri": "https://localhost:8080/"
        },
        "id": "z-dNDKDNtF0x",
        "outputId": "8a25b7d7-5b7b-4a40-8d07-8e82c2eb0570",
        "execution": {
          "iopub.status.busy": "2024-08-28T02:44:34.830067Z",
          "iopub.execute_input": "2024-08-28T02:44:34.830504Z",
          "iopub.status.idle": "2024-08-28T02:44:34.850271Z",
          "shell.execute_reply.started": "2024-08-28T02:44:34.830464Z",
          "shell.execute_reply": "2024-08-28T02:44:34.849107Z"
        },
        "trusted": true
      },
      "execution_count": null,
      "outputs": [
        {
          "name": "stdout",
          "text": "<class 'pandas.core.frame.DataFrame'>\nRangeIndex: 15000 entries, 0 to 14999\nData columns (total 12 columns):\n #   Column          Non-Null Count  Dtype  \n---  ------          --------------  -----  \n 0   Unnamed: 0      15000 non-null  int64  \n 1   overall         15000 non-null  float64\n 2   verified        15000 non-null  bool   \n 3   reviewTime      15000 non-null  object \n 4   reviewerID      15000 non-null  object \n 5   asin            15000 non-null  object \n 6   style           15000 non-null  object \n 7   reviewerName    15000 non-null  object \n 8   reviewText      15000 non-null  object \n 9   summary         15000 non-null  object \n 10  unixReviewTime  15000 non-null  int64  \n 11  vote            15000 non-null  object \ndtypes: bool(1), float64(1), int64(2), object(8)\nmemory usage: 1.3+ MB\n",
          "output_type": "stream"
        }
      ]
    },
    {
      "cell_type": "code",
      "source": [
        "df1=df1.drop('reviewTime',axis=1)"
      ],
      "metadata": {
        "id": "c2Mdq-QstF00",
        "execution": {
          "iopub.status.busy": "2024-08-28T02:44:36.007558Z",
          "iopub.execute_input": "2024-08-28T02:44:36.008414Z",
          "iopub.status.idle": "2024-08-28T02:44:36.015946Z",
          "shell.execute_reply.started": "2024-08-28T02:44:36.008361Z",
          "shell.execute_reply": "2024-08-28T02:44:36.014400Z"
        },
        "trusted": true
      },
      "execution_count": null,
      "outputs": []
    },
    {
      "cell_type": "code",
      "source": [
        "df1"
      ],
      "metadata": {
        "colab": {
          "base_uri": "https://localhost:8080/",
          "height": 701
        },
        "id": "-NPPR9hZtF1Z",
        "outputId": "16fc5e7b-a924-4a60-bc92-14114e45cf60",
        "execution": {
          "iopub.status.busy": "2024-08-28T02:44:37.040642Z",
          "iopub.execute_input": "2024-08-28T02:44:37.041058Z",
          "iopub.status.idle": "2024-08-28T02:44:37.064128Z",
          "shell.execute_reply.started": "2024-08-28T02:44:37.041015Z",
          "shell.execute_reply": "2024-08-28T02:44:37.063016Z"
        },
        "trusted": true
      },
      "execution_count": null,
      "outputs": [
        {
          "execution_count": 36,
          "output_type": "execute_result",
          "data": {
            "text/plain": "       Unnamed: 0  overall  verified      reviewerID        asin  \\\n0               0      4.0      True  A240ORQ2LF9LUI  0077613252   \n1               1      4.0      True  A1YCCU0YRLS0FE  0077613252   \n2               2      1.0      True  A1BJHRQDYVAY2J  0077613252   \n3               3      3.0      True   APRDVZ6QBIQXT  0077613252   \n4               4      5.0     False  A2JZTTBSLS1QXV  0077775473   \n...           ...      ...       ...             ...         ...   \n14995       14995      4.0     False  A2H0T0PY5IMEFX  B0000CEM5O   \n14996       14996      5.0     False  A3B8FP0ME75PG0  B0000CEM5O   \n14997       14997      4.0     False   A8LT66GHJAOQY  B0000CEM5O   \n14998       14998      1.0     False  A2278SA5JW1PSR  B0000CE220   \n14999       14999      1.0     False   A8UWGZA5FI1NT  B0000CE220   \n\n                            style         reviewerName  \\\n0      {'Format:': ' Loose Leaf'}           Michelle W   \n1      {'Format:': ' Loose Leaf'}  Rosalind White Ames   \n2      {'Format:': ' Loose Leaf'}       Allan R. Baker   \n3      {'Format:': ' Loose Leaf'}                 Lucy   \n4          {'Format:': ' CD-ROM'}            Albert V.   \n...                           ...                  ...   \n14995        {'Platform:': ' PC'}     Alan Dale Daniel   \n14996        {'Platform:': ' PC'}      Amazon Customer   \n14997        {'Platform:': ' PC'}        destiny morna   \n14998      {'Format:': ' CD-ROM'}                Carol   \n14999      {'Format:': ' CD-ROM'}      Matthew Purtill   \n\n                                              reviewText  \\\n0      The materials arrived early and were in excell...   \n1      I am really enjoying this book with the worksh...   \n2      IF YOU ARE TAKING THIS CLASS DON\"T WASTE YOUR ...   \n3      This book was missing pages!!! Important pages...   \n4      I have used LearnSmart and can officially say ...   \n...                                                  ...   \n14995  Ok, Ok.... I am 50+ years old and I bought thi...   \n14996  I've playled all the Nancy Drew games up to ga...   \n14997  This is the third Nancy Drew game that i have ...   \n14998  This software came installed on my new pc.  Al...   \n14999  I'm back with McAfee's tech \"support\".  It too...   \n\n                             summary  unixReviewTime        vote  \n0                     Material Great      1394496000  Five Stars  \n1                             Health      1393113600  Five Stars  \n2                 ARE YOU KIDING ME?      1392595200         7.0  \n3                    missing pages!!      1392595200         3.0  \n4      Best study product out there!      1381708800  Five Stars  \n...                              ...             ...         ...  \n14995               Fun and Engaging      1078790400         6.0  \n14996           One of my favourites      1074297600         2.0  \n14997           it just gets better.      1072915200        16.0  \n14998                      STAY AWAY      1075248000         4.0  \n14999         Terrible waste of time      1073088000  Five Stars  \n\n[15000 rows x 11 columns]",
            "text/html": "<div>\n<style scoped>\n    .dataframe tbody tr th:only-of-type {\n        vertical-align: middle;\n    }\n\n    .dataframe tbody tr th {\n        vertical-align: top;\n    }\n\n    .dataframe thead th {\n        text-align: right;\n    }\n</style>\n<table border=\"1\" class=\"dataframe\">\n  <thead>\n    <tr style=\"text-align: right;\">\n      <th></th>\n      <th>Unnamed: 0</th>\n      <th>overall</th>\n      <th>verified</th>\n      <th>reviewerID</th>\n      <th>asin</th>\n      <th>style</th>\n      <th>reviewerName</th>\n      <th>reviewText</th>\n      <th>summary</th>\n      <th>unixReviewTime</th>\n      <th>vote</th>\n    </tr>\n  </thead>\n  <tbody>\n    <tr>\n      <th>0</th>\n      <td>0</td>\n      <td>4.0</td>\n      <td>True</td>\n      <td>A240ORQ2LF9LUI</td>\n      <td>0077613252</td>\n      <td>{'Format:': ' Loose Leaf'}</td>\n      <td>Michelle W</td>\n      <td>The materials arrived early and were in excell...</td>\n      <td>Material Great</td>\n      <td>1394496000</td>\n      <td>Five Stars</td>\n    </tr>\n    <tr>\n      <th>1</th>\n      <td>1</td>\n      <td>4.0</td>\n      <td>True</td>\n      <td>A1YCCU0YRLS0FE</td>\n      <td>0077613252</td>\n      <td>{'Format:': ' Loose Leaf'}</td>\n      <td>Rosalind White Ames</td>\n      <td>I am really enjoying this book with the worksh...</td>\n      <td>Health</td>\n      <td>1393113600</td>\n      <td>Five Stars</td>\n    </tr>\n    <tr>\n      <th>2</th>\n      <td>2</td>\n      <td>1.0</td>\n      <td>True</td>\n      <td>A1BJHRQDYVAY2J</td>\n      <td>0077613252</td>\n      <td>{'Format:': ' Loose Leaf'}</td>\n      <td>Allan R. Baker</td>\n      <td>IF YOU ARE TAKING THIS CLASS DON\"T WASTE YOUR ...</td>\n      <td>ARE YOU KIDING ME?</td>\n      <td>1392595200</td>\n      <td>7.0</td>\n    </tr>\n    <tr>\n      <th>3</th>\n      <td>3</td>\n      <td>3.0</td>\n      <td>True</td>\n      <td>APRDVZ6QBIQXT</td>\n      <td>0077613252</td>\n      <td>{'Format:': ' Loose Leaf'}</td>\n      <td>Lucy</td>\n      <td>This book was missing pages!!! Important pages...</td>\n      <td>missing pages!!</td>\n      <td>1392595200</td>\n      <td>3.0</td>\n    </tr>\n    <tr>\n      <th>4</th>\n      <td>4</td>\n      <td>5.0</td>\n      <td>False</td>\n      <td>A2JZTTBSLS1QXV</td>\n      <td>0077775473</td>\n      <td>{'Format:': ' CD-ROM'}</td>\n      <td>Albert V.</td>\n      <td>I have used LearnSmart and can officially say ...</td>\n      <td>Best study product out there!</td>\n      <td>1381708800</td>\n      <td>Five Stars</td>\n    </tr>\n    <tr>\n      <th>...</th>\n      <td>...</td>\n      <td>...</td>\n      <td>...</td>\n      <td>...</td>\n      <td>...</td>\n      <td>...</td>\n      <td>...</td>\n      <td>...</td>\n      <td>...</td>\n      <td>...</td>\n      <td>...</td>\n    </tr>\n    <tr>\n      <th>14995</th>\n      <td>14995</td>\n      <td>4.0</td>\n      <td>False</td>\n      <td>A2H0T0PY5IMEFX</td>\n      <td>B0000CEM5O</td>\n      <td>{'Platform:': ' PC'}</td>\n      <td>Alan Dale Daniel</td>\n      <td>Ok, Ok.... I am 50+ years old and I bought thi...</td>\n      <td>Fun and Engaging</td>\n      <td>1078790400</td>\n      <td>6.0</td>\n    </tr>\n    <tr>\n      <th>14996</th>\n      <td>14996</td>\n      <td>5.0</td>\n      <td>False</td>\n      <td>A3B8FP0ME75PG0</td>\n      <td>B0000CEM5O</td>\n      <td>{'Platform:': ' PC'}</td>\n      <td>Amazon Customer</td>\n      <td>I've playled all the Nancy Drew games up to ga...</td>\n      <td>One of my favourites</td>\n      <td>1074297600</td>\n      <td>2.0</td>\n    </tr>\n    <tr>\n      <th>14997</th>\n      <td>14997</td>\n      <td>4.0</td>\n      <td>False</td>\n      <td>A8LT66GHJAOQY</td>\n      <td>B0000CEM5O</td>\n      <td>{'Platform:': ' PC'}</td>\n      <td>destiny morna</td>\n      <td>This is the third Nancy Drew game that i have ...</td>\n      <td>it just gets better.</td>\n      <td>1072915200</td>\n      <td>16.0</td>\n    </tr>\n    <tr>\n      <th>14998</th>\n      <td>14998</td>\n      <td>1.0</td>\n      <td>False</td>\n      <td>A2278SA5JW1PSR</td>\n      <td>B0000CE220</td>\n      <td>{'Format:': ' CD-ROM'}</td>\n      <td>Carol</td>\n      <td>This software came installed on my new pc.  Al...</td>\n      <td>STAY AWAY</td>\n      <td>1075248000</td>\n      <td>4.0</td>\n    </tr>\n    <tr>\n      <th>14999</th>\n      <td>14999</td>\n      <td>1.0</td>\n      <td>False</td>\n      <td>A8UWGZA5FI1NT</td>\n      <td>B0000CE220</td>\n      <td>{'Format:': ' CD-ROM'}</td>\n      <td>Matthew Purtill</td>\n      <td>I'm back with McAfee's tech \"support\".  It too...</td>\n      <td>Terrible waste of time</td>\n      <td>1073088000</td>\n      <td>Five Stars</td>\n    </tr>\n  </tbody>\n</table>\n<p>15000 rows × 11 columns</p>\n</div>"
          },
          "metadata": {}
        }
      ]
    },
    {
      "cell_type": "code",
      "source": [
        "#placing the naive bayes classifier"
      ],
      "metadata": {
        "id": "7C8zA9dptF1a",
        "execution": {
          "iopub.status.busy": "2024-08-28T02:44:38.036603Z",
          "iopub.execute_input": "2024-08-28T02:44:38.037034Z",
          "iopub.status.idle": "2024-08-28T02:44:38.042108Z",
          "shell.execute_reply.started": "2024-08-28T02:44:38.036991Z",
          "shell.execute_reply": "2024-08-28T02:44:38.040942Z"
        },
        "trusted": true
      },
      "execution_count": null,
      "outputs": []
    },
    {
      "cell_type": "code",
      "source": [
        "df1"
      ],
      "metadata": {
        "colab": {
          "base_uri": "https://localhost:8080/",
          "height": 701
        },
        "id": "10A07nrxtF1b",
        "outputId": "79fe152b-a9f4-4ebe-88e6-11c95eb4fc04",
        "execution": {
          "iopub.status.busy": "2024-08-28T02:44:39.067824Z",
          "iopub.execute_input": "2024-08-28T02:44:39.068272Z",
          "iopub.status.idle": "2024-08-28T02:44:39.086315Z",
          "shell.execute_reply.started": "2024-08-28T02:44:39.068232Z",
          "shell.execute_reply": "2024-08-28T02:44:39.085111Z"
        },
        "trusted": true
      },
      "execution_count": null,
      "outputs": [
        {
          "execution_count": 38,
          "output_type": "execute_result",
          "data": {
            "text/plain": "       Unnamed: 0  overall  verified      reviewerID        asin  \\\n0               0      4.0      True  A240ORQ2LF9LUI  0077613252   \n1               1      4.0      True  A1YCCU0YRLS0FE  0077613252   \n2               2      1.0      True  A1BJHRQDYVAY2J  0077613252   \n3               3      3.0      True   APRDVZ6QBIQXT  0077613252   \n4               4      5.0     False  A2JZTTBSLS1QXV  0077775473   \n...           ...      ...       ...             ...         ...   \n14995       14995      4.0     False  A2H0T0PY5IMEFX  B0000CEM5O   \n14996       14996      5.0     False  A3B8FP0ME75PG0  B0000CEM5O   \n14997       14997      4.0     False   A8LT66GHJAOQY  B0000CEM5O   \n14998       14998      1.0     False  A2278SA5JW1PSR  B0000CE220   \n14999       14999      1.0     False   A8UWGZA5FI1NT  B0000CE220   \n\n                            style         reviewerName  \\\n0      {'Format:': ' Loose Leaf'}           Michelle W   \n1      {'Format:': ' Loose Leaf'}  Rosalind White Ames   \n2      {'Format:': ' Loose Leaf'}       Allan R. Baker   \n3      {'Format:': ' Loose Leaf'}                 Lucy   \n4          {'Format:': ' CD-ROM'}            Albert V.   \n...                           ...                  ...   \n14995        {'Platform:': ' PC'}     Alan Dale Daniel   \n14996        {'Platform:': ' PC'}      Amazon Customer   \n14997        {'Platform:': ' PC'}        destiny morna   \n14998      {'Format:': ' CD-ROM'}                Carol   \n14999      {'Format:': ' CD-ROM'}      Matthew Purtill   \n\n                                              reviewText  \\\n0      The materials arrived early and were in excell...   \n1      I am really enjoying this book with the worksh...   \n2      IF YOU ARE TAKING THIS CLASS DON\"T WASTE YOUR ...   \n3      This book was missing pages!!! Important pages...   \n4      I have used LearnSmart and can officially say ...   \n...                                                  ...   \n14995  Ok, Ok.... I am 50+ years old and I bought thi...   \n14996  I've playled all the Nancy Drew games up to ga...   \n14997  This is the third Nancy Drew game that i have ...   \n14998  This software came installed on my new pc.  Al...   \n14999  I'm back with McAfee's tech \"support\".  It too...   \n\n                             summary  unixReviewTime        vote  \n0                     Material Great      1394496000  Five Stars  \n1                             Health      1393113600  Five Stars  \n2                 ARE YOU KIDING ME?      1392595200         7.0  \n3                    missing pages!!      1392595200         3.0  \n4      Best study product out there!      1381708800  Five Stars  \n...                              ...             ...         ...  \n14995               Fun and Engaging      1078790400         6.0  \n14996           One of my favourites      1074297600         2.0  \n14997           it just gets better.      1072915200        16.0  \n14998                      STAY AWAY      1075248000         4.0  \n14999         Terrible waste of time      1073088000  Five Stars  \n\n[15000 rows x 11 columns]",
            "text/html": "<div>\n<style scoped>\n    .dataframe tbody tr th:only-of-type {\n        vertical-align: middle;\n    }\n\n    .dataframe tbody tr th {\n        vertical-align: top;\n    }\n\n    .dataframe thead th {\n        text-align: right;\n    }\n</style>\n<table border=\"1\" class=\"dataframe\">\n  <thead>\n    <tr style=\"text-align: right;\">\n      <th></th>\n      <th>Unnamed: 0</th>\n      <th>overall</th>\n      <th>verified</th>\n      <th>reviewerID</th>\n      <th>asin</th>\n      <th>style</th>\n      <th>reviewerName</th>\n      <th>reviewText</th>\n      <th>summary</th>\n      <th>unixReviewTime</th>\n      <th>vote</th>\n    </tr>\n  </thead>\n  <tbody>\n    <tr>\n      <th>0</th>\n      <td>0</td>\n      <td>4.0</td>\n      <td>True</td>\n      <td>A240ORQ2LF9LUI</td>\n      <td>0077613252</td>\n      <td>{'Format:': ' Loose Leaf'}</td>\n      <td>Michelle W</td>\n      <td>The materials arrived early and were in excell...</td>\n      <td>Material Great</td>\n      <td>1394496000</td>\n      <td>Five Stars</td>\n    </tr>\n    <tr>\n      <th>1</th>\n      <td>1</td>\n      <td>4.0</td>\n      <td>True</td>\n      <td>A1YCCU0YRLS0FE</td>\n      <td>0077613252</td>\n      <td>{'Format:': ' Loose Leaf'}</td>\n      <td>Rosalind White Ames</td>\n      <td>I am really enjoying this book with the worksh...</td>\n      <td>Health</td>\n      <td>1393113600</td>\n      <td>Five Stars</td>\n    </tr>\n    <tr>\n      <th>2</th>\n      <td>2</td>\n      <td>1.0</td>\n      <td>True</td>\n      <td>A1BJHRQDYVAY2J</td>\n      <td>0077613252</td>\n      <td>{'Format:': ' Loose Leaf'}</td>\n      <td>Allan R. Baker</td>\n      <td>IF YOU ARE TAKING THIS CLASS DON\"T WASTE YOUR ...</td>\n      <td>ARE YOU KIDING ME?</td>\n      <td>1392595200</td>\n      <td>7.0</td>\n    </tr>\n    <tr>\n      <th>3</th>\n      <td>3</td>\n      <td>3.0</td>\n      <td>True</td>\n      <td>APRDVZ6QBIQXT</td>\n      <td>0077613252</td>\n      <td>{'Format:': ' Loose Leaf'}</td>\n      <td>Lucy</td>\n      <td>This book was missing pages!!! Important pages...</td>\n      <td>missing pages!!</td>\n      <td>1392595200</td>\n      <td>3.0</td>\n    </tr>\n    <tr>\n      <th>4</th>\n      <td>4</td>\n      <td>5.0</td>\n      <td>False</td>\n      <td>A2JZTTBSLS1QXV</td>\n      <td>0077775473</td>\n      <td>{'Format:': ' CD-ROM'}</td>\n      <td>Albert V.</td>\n      <td>I have used LearnSmart and can officially say ...</td>\n      <td>Best study product out there!</td>\n      <td>1381708800</td>\n      <td>Five Stars</td>\n    </tr>\n    <tr>\n      <th>...</th>\n      <td>...</td>\n      <td>...</td>\n      <td>...</td>\n      <td>...</td>\n      <td>...</td>\n      <td>...</td>\n      <td>...</td>\n      <td>...</td>\n      <td>...</td>\n      <td>...</td>\n      <td>...</td>\n    </tr>\n    <tr>\n      <th>14995</th>\n      <td>14995</td>\n      <td>4.0</td>\n      <td>False</td>\n      <td>A2H0T0PY5IMEFX</td>\n      <td>B0000CEM5O</td>\n      <td>{'Platform:': ' PC'}</td>\n      <td>Alan Dale Daniel</td>\n      <td>Ok, Ok.... I am 50+ years old and I bought thi...</td>\n      <td>Fun and Engaging</td>\n      <td>1078790400</td>\n      <td>6.0</td>\n    </tr>\n    <tr>\n      <th>14996</th>\n      <td>14996</td>\n      <td>5.0</td>\n      <td>False</td>\n      <td>A3B8FP0ME75PG0</td>\n      <td>B0000CEM5O</td>\n      <td>{'Platform:': ' PC'}</td>\n      <td>Amazon Customer</td>\n      <td>I've playled all the Nancy Drew games up to ga...</td>\n      <td>One of my favourites</td>\n      <td>1074297600</td>\n      <td>2.0</td>\n    </tr>\n    <tr>\n      <th>14997</th>\n      <td>14997</td>\n      <td>4.0</td>\n      <td>False</td>\n      <td>A8LT66GHJAOQY</td>\n      <td>B0000CEM5O</td>\n      <td>{'Platform:': ' PC'}</td>\n      <td>destiny morna</td>\n      <td>This is the third Nancy Drew game that i have ...</td>\n      <td>it just gets better.</td>\n      <td>1072915200</td>\n      <td>16.0</td>\n    </tr>\n    <tr>\n      <th>14998</th>\n      <td>14998</td>\n      <td>1.0</td>\n      <td>False</td>\n      <td>A2278SA5JW1PSR</td>\n      <td>B0000CE220</td>\n      <td>{'Format:': ' CD-ROM'}</td>\n      <td>Carol</td>\n      <td>This software came installed on my new pc.  Al...</td>\n      <td>STAY AWAY</td>\n      <td>1075248000</td>\n      <td>4.0</td>\n    </tr>\n    <tr>\n      <th>14999</th>\n      <td>14999</td>\n      <td>1.0</td>\n      <td>False</td>\n      <td>A8UWGZA5FI1NT</td>\n      <td>B0000CE220</td>\n      <td>{'Format:': ' CD-ROM'}</td>\n      <td>Matthew Purtill</td>\n      <td>I'm back with McAfee's tech \"support\".  It too...</td>\n      <td>Terrible waste of time</td>\n      <td>1073088000</td>\n      <td>Five Stars</td>\n    </tr>\n  </tbody>\n</table>\n<p>15000 rows × 11 columns</p>\n</div>"
          },
          "metadata": {}
        }
      ]
    },
    {
      "cell_type": "code",
      "source": [
        "df1=df1.iloc[:,1:]"
      ],
      "metadata": {
        "id": "G0bMknGdtF1b",
        "execution": {
          "iopub.status.busy": "2024-08-28T02:44:40.001883Z",
          "iopub.execute_input": "2024-08-28T02:44:40.002322Z",
          "iopub.status.idle": "2024-08-28T02:44:40.010582Z",
          "shell.execute_reply.started": "2024-08-28T02:44:40.002267Z",
          "shell.execute_reply": "2024-08-28T02:44:40.009488Z"
        },
        "trusted": true
      },
      "execution_count": null,
      "outputs": []
    },
    {
      "cell_type": "code",
      "source": [
        "df1"
      ],
      "metadata": {
        "colab": {
          "base_uri": "https://localhost:8080/",
          "height": 632
        },
        "id": "3V95WAZXtF1c",
        "outputId": "c024411c-c50f-4274-c26f-65d8ef25198c",
        "execution": {
          "iopub.status.busy": "2024-08-28T02:44:41.067206Z",
          "iopub.execute_input": "2024-08-28T02:44:41.067632Z",
          "iopub.status.idle": "2024-08-28T02:44:41.084939Z",
          "shell.execute_reply.started": "2024-08-28T02:44:41.067591Z",
          "shell.execute_reply": "2024-08-28T02:44:41.083857Z"
        },
        "trusted": true
      },
      "execution_count": null,
      "outputs": [
        {
          "execution_count": 40,
          "output_type": "execute_result",
          "data": {
            "text/plain": "       overall  verified      reviewerID        asin  \\\n0          4.0      True  A240ORQ2LF9LUI  0077613252   \n1          4.0      True  A1YCCU0YRLS0FE  0077613252   \n2          1.0      True  A1BJHRQDYVAY2J  0077613252   \n3          3.0      True   APRDVZ6QBIQXT  0077613252   \n4          5.0     False  A2JZTTBSLS1QXV  0077775473   \n...        ...       ...             ...         ...   \n14995      4.0     False  A2H0T0PY5IMEFX  B0000CEM5O   \n14996      5.0     False  A3B8FP0ME75PG0  B0000CEM5O   \n14997      4.0     False   A8LT66GHJAOQY  B0000CEM5O   \n14998      1.0     False  A2278SA5JW1PSR  B0000CE220   \n14999      1.0     False   A8UWGZA5FI1NT  B0000CE220   \n\n                            style         reviewerName  \\\n0      {'Format:': ' Loose Leaf'}           Michelle W   \n1      {'Format:': ' Loose Leaf'}  Rosalind White Ames   \n2      {'Format:': ' Loose Leaf'}       Allan R. Baker   \n3      {'Format:': ' Loose Leaf'}                 Lucy   \n4          {'Format:': ' CD-ROM'}            Albert V.   \n...                           ...                  ...   \n14995        {'Platform:': ' PC'}     Alan Dale Daniel   \n14996        {'Platform:': ' PC'}      Amazon Customer   \n14997        {'Platform:': ' PC'}        destiny morna   \n14998      {'Format:': ' CD-ROM'}                Carol   \n14999      {'Format:': ' CD-ROM'}      Matthew Purtill   \n\n                                              reviewText  \\\n0      The materials arrived early and were in excell...   \n1      I am really enjoying this book with the worksh...   \n2      IF YOU ARE TAKING THIS CLASS DON\"T WASTE YOUR ...   \n3      This book was missing pages!!! Important pages...   \n4      I have used LearnSmart and can officially say ...   \n...                                                  ...   \n14995  Ok, Ok.... I am 50+ years old and I bought thi...   \n14996  I've playled all the Nancy Drew games up to ga...   \n14997  This is the third Nancy Drew game that i have ...   \n14998  This software came installed on my new pc.  Al...   \n14999  I'm back with McAfee's tech \"support\".  It too...   \n\n                             summary  unixReviewTime        vote  \n0                     Material Great      1394496000  Five Stars  \n1                             Health      1393113600  Five Stars  \n2                 ARE YOU KIDING ME?      1392595200         7.0  \n3                    missing pages!!      1392595200         3.0  \n4      Best study product out there!      1381708800  Five Stars  \n...                              ...             ...         ...  \n14995               Fun and Engaging      1078790400         6.0  \n14996           One of my favourites      1074297600         2.0  \n14997           it just gets better.      1072915200        16.0  \n14998                      STAY AWAY      1075248000         4.0  \n14999         Terrible waste of time      1073088000  Five Stars  \n\n[15000 rows x 10 columns]",
            "text/html": "<div>\n<style scoped>\n    .dataframe tbody tr th:only-of-type {\n        vertical-align: middle;\n    }\n\n    .dataframe tbody tr th {\n        vertical-align: top;\n    }\n\n    .dataframe thead th {\n        text-align: right;\n    }\n</style>\n<table border=\"1\" class=\"dataframe\">\n  <thead>\n    <tr style=\"text-align: right;\">\n      <th></th>\n      <th>overall</th>\n      <th>verified</th>\n      <th>reviewerID</th>\n      <th>asin</th>\n      <th>style</th>\n      <th>reviewerName</th>\n      <th>reviewText</th>\n      <th>summary</th>\n      <th>unixReviewTime</th>\n      <th>vote</th>\n    </tr>\n  </thead>\n  <tbody>\n    <tr>\n      <th>0</th>\n      <td>4.0</td>\n      <td>True</td>\n      <td>A240ORQ2LF9LUI</td>\n      <td>0077613252</td>\n      <td>{'Format:': ' Loose Leaf'}</td>\n      <td>Michelle W</td>\n      <td>The materials arrived early and were in excell...</td>\n      <td>Material Great</td>\n      <td>1394496000</td>\n      <td>Five Stars</td>\n    </tr>\n    <tr>\n      <th>1</th>\n      <td>4.0</td>\n      <td>True</td>\n      <td>A1YCCU0YRLS0FE</td>\n      <td>0077613252</td>\n      <td>{'Format:': ' Loose Leaf'}</td>\n      <td>Rosalind White Ames</td>\n      <td>I am really enjoying this book with the worksh...</td>\n      <td>Health</td>\n      <td>1393113600</td>\n      <td>Five Stars</td>\n    </tr>\n    <tr>\n      <th>2</th>\n      <td>1.0</td>\n      <td>True</td>\n      <td>A1BJHRQDYVAY2J</td>\n      <td>0077613252</td>\n      <td>{'Format:': ' Loose Leaf'}</td>\n      <td>Allan R. Baker</td>\n      <td>IF YOU ARE TAKING THIS CLASS DON\"T WASTE YOUR ...</td>\n      <td>ARE YOU KIDING ME?</td>\n      <td>1392595200</td>\n      <td>7.0</td>\n    </tr>\n    <tr>\n      <th>3</th>\n      <td>3.0</td>\n      <td>True</td>\n      <td>APRDVZ6QBIQXT</td>\n      <td>0077613252</td>\n      <td>{'Format:': ' Loose Leaf'}</td>\n      <td>Lucy</td>\n      <td>This book was missing pages!!! Important pages...</td>\n      <td>missing pages!!</td>\n      <td>1392595200</td>\n      <td>3.0</td>\n    </tr>\n    <tr>\n      <th>4</th>\n      <td>5.0</td>\n      <td>False</td>\n      <td>A2JZTTBSLS1QXV</td>\n      <td>0077775473</td>\n      <td>{'Format:': ' CD-ROM'}</td>\n      <td>Albert V.</td>\n      <td>I have used LearnSmart and can officially say ...</td>\n      <td>Best study product out there!</td>\n      <td>1381708800</td>\n      <td>Five Stars</td>\n    </tr>\n    <tr>\n      <th>...</th>\n      <td>...</td>\n      <td>...</td>\n      <td>...</td>\n      <td>...</td>\n      <td>...</td>\n      <td>...</td>\n      <td>...</td>\n      <td>...</td>\n      <td>...</td>\n      <td>...</td>\n    </tr>\n    <tr>\n      <th>14995</th>\n      <td>4.0</td>\n      <td>False</td>\n      <td>A2H0T0PY5IMEFX</td>\n      <td>B0000CEM5O</td>\n      <td>{'Platform:': ' PC'}</td>\n      <td>Alan Dale Daniel</td>\n      <td>Ok, Ok.... I am 50+ years old and I bought thi...</td>\n      <td>Fun and Engaging</td>\n      <td>1078790400</td>\n      <td>6.0</td>\n    </tr>\n    <tr>\n      <th>14996</th>\n      <td>5.0</td>\n      <td>False</td>\n      <td>A3B8FP0ME75PG0</td>\n      <td>B0000CEM5O</td>\n      <td>{'Platform:': ' PC'}</td>\n      <td>Amazon Customer</td>\n      <td>I've playled all the Nancy Drew games up to ga...</td>\n      <td>One of my favourites</td>\n      <td>1074297600</td>\n      <td>2.0</td>\n    </tr>\n    <tr>\n      <th>14997</th>\n      <td>4.0</td>\n      <td>False</td>\n      <td>A8LT66GHJAOQY</td>\n      <td>B0000CEM5O</td>\n      <td>{'Platform:': ' PC'}</td>\n      <td>destiny morna</td>\n      <td>This is the third Nancy Drew game that i have ...</td>\n      <td>it just gets better.</td>\n      <td>1072915200</td>\n      <td>16.0</td>\n    </tr>\n    <tr>\n      <th>14998</th>\n      <td>1.0</td>\n      <td>False</td>\n      <td>A2278SA5JW1PSR</td>\n      <td>B0000CE220</td>\n      <td>{'Format:': ' CD-ROM'}</td>\n      <td>Carol</td>\n      <td>This software came installed on my new pc.  Al...</td>\n      <td>STAY AWAY</td>\n      <td>1075248000</td>\n      <td>4.0</td>\n    </tr>\n    <tr>\n      <th>14999</th>\n      <td>1.0</td>\n      <td>False</td>\n      <td>A8UWGZA5FI1NT</td>\n      <td>B0000CE220</td>\n      <td>{'Format:': ' CD-ROM'}</td>\n      <td>Matthew Purtill</td>\n      <td>I'm back with McAfee's tech \"support\".  It too...</td>\n      <td>Terrible waste of time</td>\n      <td>1073088000</td>\n      <td>Five Stars</td>\n    </tr>\n  </tbody>\n</table>\n<p>15000 rows × 10 columns</p>\n</div>"
          },
          "metadata": {}
        }
      ]
    },
    {
      "cell_type": "code",
      "source": [
        "df1.columns"
      ],
      "metadata": {
        "colab": {
          "base_uri": "https://localhost:8080/"
        },
        "id": "FN0bQzyItF1c",
        "outputId": "c31df97f-60a5-4e66-a2d9-51280b2de161",
        "execution": {
          "iopub.status.busy": "2024-08-28T02:44:42.099831Z",
          "iopub.execute_input": "2024-08-28T02:44:42.100232Z",
          "iopub.status.idle": "2024-08-28T02:44:42.107446Z",
          "shell.execute_reply.started": "2024-08-28T02:44:42.100193Z",
          "shell.execute_reply": "2024-08-28T02:44:42.106351Z"
        },
        "trusted": true
      },
      "execution_count": null,
      "outputs": [
        {
          "execution_count": 41,
          "output_type": "execute_result",
          "data": {
            "text/plain": "Index(['overall', 'verified', 'reviewerID', 'asin', 'style', 'reviewerName',\n       'reviewText', 'summary', 'unixReviewTime', 'vote'],\n      dtype='object')"
          },
          "metadata": {}
        }
      ]
    },
    {
      "cell_type": "code",
      "source": [
        "df1['style'].value_counts()\n"
      ],
      "metadata": {
        "colab": {
          "base_uri": "https://localhost:8080/",
          "height": 490
        },
        "id": "A7QD7WiwtF1d",
        "outputId": "f237c1d5-5367-4eaa-d10d-ebca6df728c3",
        "execution": {
          "iopub.status.busy": "2024-08-28T02:44:43.127124Z",
          "iopub.execute_input": "2024-08-28T02:44:43.127552Z",
          "iopub.status.idle": "2024-08-28T02:44:43.138358Z",
          "shell.execute_reply.started": "2024-08-28T02:44:43.127511Z",
          "shell.execute_reply": "2024-08-28T02:44:43.137103Z"
        },
        "trusted": true
      },
      "execution_count": null,
      "outputs": [
        {
          "execution_count": 42,
          "output_type": "execute_result",
          "data": {
            "text/plain": "style\n{'Format:': ' CD-ROM'}         13416\n{'Format:': ' DVD-ROM'}          219\n{'Platform:': ' PC'}             181\n{'Format:': ' Hardcover'}        153\n{'Format:': ' Video Game'}       153\n                               ...  \n{'Color:': ' 0.8410823032'}        1\n{'Color:': ' 0.1591909296'}        1\n{'Color:': ' 0.6679289304'}        1\n{'Color:': ' 0.4876864718'}        1\n{'Color:': ' 0.0875053853'}        1\nName: count, Length: 220, dtype: int64"
          },
          "metadata": {}
        }
      ]
    },
    {
      "cell_type": "code",
      "source": [
        "df1['reviewerName'].value_counts()"
      ],
      "metadata": {
        "colab": {
          "base_uri": "https://localhost:8080/",
          "height": 490
        },
        "id": "jbGmdEi2tF1d",
        "outputId": "76747105-2a34-4907-f44d-ec46382c145a",
        "execution": {
          "iopub.status.busy": "2024-08-28T02:44:44.088534Z",
          "iopub.execute_input": "2024-08-28T02:44:44.088948Z",
          "iopub.status.idle": "2024-08-28T02:44:44.104585Z",
          "shell.execute_reply.started": "2024-08-28T02:44:44.088907Z",
          "shell.execute_reply": "2024-08-28T02:44:44.103377Z"
        },
        "trusted": true
      },
      "execution_count": null,
      "outputs": [
        {
          "execution_count": 43,
          "output_type": "execute_result",
          "data": {
            "text/plain": "reviewerName\nAmazon Customer             1177\nKindle Customer               75\nAndre Da Costa                32\nDavid Wilson                  21\nRobert Herschede              19\n                            ... \nLilly B. Gardner               1\nMr. Anthony H. Wilkerson       1\nRoberta A. Keogan              1\nJohn J. Ruppel II              1\nMatthew Purtill                1\nName: count, Length: 11872, dtype: int64"
          },
          "metadata": {}
        }
      ]
    },
    {
      "cell_type": "code",
      "source": [
        "df1['reviewText'].value_counts()"
      ],
      "metadata": {
        "colab": {
          "base_uri": "https://localhost:8080/",
          "height": 941
        },
        "id": "u7JuoVA8tF1e",
        "outputId": "169f9854-478f-45e6-8150-095e37d46bfa",
        "execution": {
          "iopub.status.busy": "2024-08-28T02:44:45.421356Z",
          "iopub.execute_input": "2024-08-28T02:44:45.422387Z",
          "iopub.status.idle": "2024-08-28T02:44:45.449334Z",
          "shell.execute_reply.started": "2024-08-28T02:44:45.422338Z",
          "shell.execute_reply": "2024-08-28T02:44:45.448142Z"
        },
        "trusted": true
      },
      "execution_count": null,
      "outputs": [
        {
          "execution_count": 44,
          "output_type": "execute_result",
          "data": {
            "text/plain": "reviewText\nGood                                                                                                                                                                                                                                                                                                                                                                                                                                                                                                                                                                                                                                                                                                                                                                                                                                                                                                                                                                                                                                                                                                                                                                                                                                                                                                                                                                                                                                                    8\ngreat                                                                                                                                                                                                                                                                                                                                                                                                                                                                                                                                                                                                                                                                                                                                                                                                                                                                                                                                                                                                                                                                                                                                                                                                                                                                                                                                                                                                                                                   6\nWorks great                                                                                                                                                                                                                                                                                                                                                                                                                                                                                                                                                                                                                                                                                                                                                                                                                                                                                                                                                                                                                                                                                                                                                                                                                                                                                                                                                                                                                                             6\nIf you are thinking about buying norton software simply because they are free after rebates, then reconsider it. Although it's well known Symantec makes reliable softwares, When we talk about their rebates, they are liars. Yes, liars Cthey really deserve this. Based on my personal experience, I even think theirs are worse than the notorious I/O Magic's (aka, Hi-Val, Digital research). I bought several Norton softwares during last December, and submitted the upgrade rebates right away with required items, Guess what, until today I got only one of them, and it has been almost 6 months. I guess they are testing my memory but unfortunately I kept a good record of every rebate I submitted. That's what we should do if we are going to buy Symantec softwares with rebates involved, although the best thing I would recommend is to avoid as long as you can.                                                                                                                                                                                                                                                                                                                                                                                                                                                                                                                                                               6\nGreat                                                                                                                                                                                                                                                                                                                                                                                                                                                                                                                                                                                                                                                                                                                                                                                                                                                                                                                                                                                                                                                                                                                                                                                                                                                                                                                                                                                                                                                   6\n                                                                                                                                                                                                                                                                                                                                                                                                                                                                                                                                                                                                                                                                                                                                                                                                                                                                                                                                                                                                                                                                                                                                                                                                                                                                                                                                                                                                                                                       ..\nAmazing, a company that claims to be on top of the times, and they only support Windows products with live internet.  ONLY if you have an IPAD can you read the digital edition off line.  Cutomer support tells me this is a deal they have with Apple??? What a bunch of bogus BS.  I travel and was promised by the sales guy who signed me up that my Surface pro would get the full edition every morning so I could read it on the plane.  NO IT CAN'T!!!\\n\\nDon't fall for the sales pitch.\\n\\nI'm tempted to cancel my subscription!                                                                                                                                                                                                                                                                                                                                                                                                                                                                                                                                                                                                                                                                                                                                                                                                                                                                                                            1\nWSJ- \"Your money\" is ours! should be a better slogan for this paper.\\nI was charged $455 in early Jan. 2013 without my consent. When I received my credit card bill late in the month, I called to say I no longer wanted the paper- online or physical- and had never agreed to be charged. I was told they would credit my card back but only partially.\\nSomehow, we missed the fact that they never credited us at all in 2013. Fast forward to early Jan. 2014. Charged again- I spoke to Andy - he would credit the account. So Sorry! Can't do anything about 2013. Oh yes, we see that on your record you cancelled one year ago and that you deserve credit. I can't approve that. Spoke to a higher-up guy, Dan. So Sorry! I also see that you had cancelled. Can't do anything about that. Must have higher approval. He spoke to some others - (Mack and Mercedes?) came back- Okay I will credit both the Jan. 14 and Jan. 13 charges. No later than one week.\\nThey indeed credited my Jan. 2014 charges (finally!), but still have not been credited my 2013 billing. Spoke to Jonathan in late March who referred me to a supervisor who was not available to speak to me. I am still waiting for her call. Jonathan said- oh yes , I see your records right here.\\nThis is not a single person issue, but obviously a company-sponsored policy to refuse credit for non-requested charges of customers.\\nYour Money??? Their Money!    1\nThe content of the Journal is great, and the format of having it on your ipad is pretty cool. Unfortunately the implementation of the app is awful.  If you look at it on a laptop or in print, you'll do fine..  but god help you if you try to read it on an ipad.  The app crashes so often that it's practically useless.  Very disappointing.                                                                                                                                                                                                                                                                                                                                                                                                                                                                                                                                                                                                                                                                                                                                                                                                                                                                                                                                                                                                                                                                                                      1\nI have been a WSJ customer for over four decades without ever having encountered any problems renewing my subscription.  Right now I have been trying unsuccessfully to renew my subscription for nearly a month.  The customer service personnel that answer the phone and purport to try and resolve the issue are completely ineffectual and they claim to have no way to resolve the matter.  No one seems to be able to figure out what the problem is.  This is the weirdest customer service problem I have ever had with any vender with whom I am trying to purchase a service.  English is not the first language of any of the customer service people that answer the phone, which would not be a problem if they could actually understand English and communicate effectively in English nonetheless, however none of them seem capable.  They all say very nicely in broken English that they are doing the best that they can, and then they accomplish nothing and do not follow through on resolving the issue. I have hit a wall and I have no idea how to break through. This is so frustrating and disappointing. I miss my WSJ!                                                                                                                                                                                                                                                                                                   1\nI'm back with McAfee's tech \"support\".  It took me 12 hours in my first attempt to install this.  Then another few. I now get errors on my PC, it messed up my IE, and has been a nightmare.  I was able to install one part of the package and then a second.  Then the support person told me to do something else and it deleted the antivirus.  I've been through several attempts with these people and they haven't really been able to help me.  I have been told for nearly two weeks that a level-2 support person would contact me and he/she still hasn't.\\n  Then when you ask a question, they don't answer the question you asked them.  The tech supports ask you something totally different like they're reading off of a script.  When my e-mails have been answered, I've received the same answer as one which I already tried but didn't work.\\n  Oops.  This review says I must give them at least 1 star.  Otherwise, I would have given it a zero.                                                                                                                                                                                                                                                                                                                                                                                                                                                                              1\nName: count, Length: 14860, dtype: int64"
          },
          "metadata": {}
        }
      ]
    },
    {
      "cell_type": "code",
      "source": [
        "df1['reviewText']"
      ],
      "metadata": {
        "colab": {
          "base_uri": "https://localhost:8080/",
          "height": 458
        },
        "id": "Duca2gjGtF1e",
        "outputId": "1c54be74-a4d1-488c-f1cc-7ff5f70a9bcc",
        "execution": {
          "iopub.status.busy": "2024-08-28T02:44:46.491967Z",
          "iopub.execute_input": "2024-08-28T02:44:46.492430Z",
          "iopub.status.idle": "2024-08-28T02:44:46.502109Z",
          "shell.execute_reply.started": "2024-08-28T02:44:46.492387Z",
          "shell.execute_reply": "2024-08-28T02:44:46.500868Z"
        },
        "trusted": true
      },
      "execution_count": null,
      "outputs": [
        {
          "execution_count": 45,
          "output_type": "execute_result",
          "data": {
            "text/plain": "0        The materials arrived early and were in excell...\n1        I am really enjoying this book with the worksh...\n2        IF YOU ARE TAKING THIS CLASS DON\"T WASTE YOUR ...\n3        This book was missing pages!!! Important pages...\n4        I have used LearnSmart and can officially say ...\n                               ...                        \n14995    Ok, Ok.... I am 50+ years old and I bought thi...\n14996    I've playled all the Nancy Drew games up to ga...\n14997    This is the third Nancy Drew game that i have ...\n14998    This software came installed on my new pc.  Al...\n14999    I'm back with McAfee's tech \"support\".  It too...\nName: reviewText, Length: 15000, dtype: object"
          },
          "metadata": {}
        }
      ]
    },
    {
      "cell_type": "code",
      "source": [
        "df1['reviewText'] = df1['reviewText'].str.lower()"
      ],
      "metadata": {
        "id": "LUyRpDXBtF1f",
        "execution": {
          "iopub.status.busy": "2024-08-28T02:44:47.870755Z",
          "iopub.execute_input": "2024-08-28T02:44:47.871187Z",
          "iopub.status.idle": "2024-08-28T02:44:47.896815Z",
          "shell.execute_reply.started": "2024-08-28T02:44:47.871147Z",
          "shell.execute_reply": "2024-08-28T02:44:47.895684Z"
        },
        "trusted": true
      },
      "execution_count": null,
      "outputs": []
    },
    {
      "cell_type": "code",
      "source": [
        "import re  #Regular Expressions\n",
        "def remove_html_tags(text):\n",
        "    pattern = re.compile('<.*?>')\n",
        "    return pattern.sub(r'', text)"
      ],
      "metadata": {
        "id": "6pjByTLytF1f",
        "execution": {
          "iopub.status.busy": "2024-08-28T02:44:51.335007Z",
          "iopub.execute_input": "2024-08-28T02:44:51.335440Z",
          "iopub.status.idle": "2024-08-28T02:44:51.341027Z",
          "shell.execute_reply.started": "2024-08-28T02:44:51.335399Z",
          "shell.execute_reply": "2024-08-28T02:44:51.339844Z"
        },
        "trusted": true
      },
      "execution_count": null,
      "outputs": []
    },
    {
      "cell_type": "code",
      "source": [
        "df1['reviewText'] = df1['reviewText'].apply(remove_html_tags)"
      ],
      "metadata": {
        "id": "gh0B-ybrtF1g",
        "execution": {
          "iopub.status.busy": "2024-08-28T02:44:54.689321Z",
          "iopub.execute_input": "2024-08-28T02:44:54.689737Z",
          "iopub.status.idle": "2024-08-28T02:44:54.718624Z",
          "shell.execute_reply.started": "2024-08-28T02:44:54.689697Z",
          "shell.execute_reply": "2024-08-28T02:44:54.717409Z"
        },
        "trusted": true
      },
      "execution_count": null,
      "outputs": []
    },
    {
      "cell_type": "code",
      "source": [
        "df1"
      ],
      "metadata": {
        "colab": {
          "base_uri": "https://localhost:8080/",
          "height": 597
        },
        "id": "Lwxq3wZ7tF1g",
        "outputId": "8806dcf7-c657-4a28-b0a9-97952e3cca46",
        "execution": {
          "iopub.status.busy": "2024-08-28T02:45:03.602830Z",
          "iopub.execute_input": "2024-08-28T02:45:03.603326Z",
          "iopub.status.idle": "2024-08-28T02:45:03.621945Z",
          "shell.execute_reply.started": "2024-08-28T02:45:03.603267Z",
          "shell.execute_reply": "2024-08-28T02:45:03.620871Z"
        },
        "trusted": true
      },
      "execution_count": null,
      "outputs": [
        {
          "execution_count": 49,
          "output_type": "execute_result",
          "data": {
            "text/plain": "       overall  verified      reviewerID        asin  \\\n0          4.0      True  A240ORQ2LF9LUI  0077613252   \n1          4.0      True  A1YCCU0YRLS0FE  0077613252   \n2          1.0      True  A1BJHRQDYVAY2J  0077613252   \n3          3.0      True   APRDVZ6QBIQXT  0077613252   \n4          5.0     False  A2JZTTBSLS1QXV  0077775473   \n...        ...       ...             ...         ...   \n14995      4.0     False  A2H0T0PY5IMEFX  B0000CEM5O   \n14996      5.0     False  A3B8FP0ME75PG0  B0000CEM5O   \n14997      4.0     False   A8LT66GHJAOQY  B0000CEM5O   \n14998      1.0     False  A2278SA5JW1PSR  B0000CE220   \n14999      1.0     False   A8UWGZA5FI1NT  B0000CE220   \n\n                            style         reviewerName  \\\n0      {'Format:': ' Loose Leaf'}           Michelle W   \n1      {'Format:': ' Loose Leaf'}  Rosalind White Ames   \n2      {'Format:': ' Loose Leaf'}       Allan R. Baker   \n3      {'Format:': ' Loose Leaf'}                 Lucy   \n4          {'Format:': ' CD-ROM'}            Albert V.   \n...                           ...                  ...   \n14995        {'Platform:': ' PC'}     Alan Dale Daniel   \n14996        {'Platform:': ' PC'}      Amazon Customer   \n14997        {'Platform:': ' PC'}        destiny morna   \n14998      {'Format:': ' CD-ROM'}                Carol   \n14999      {'Format:': ' CD-ROM'}      Matthew Purtill   \n\n                                              reviewText  \\\n0      the materials arrived early and were in excell...   \n1      i am really enjoying this book with the worksh...   \n2      if you are taking this class don\"t waste your ...   \n3      this book was missing pages!!! important pages...   \n4      i have used learnsmart and can officially say ...   \n...                                                  ...   \n14995  ok, ok.... i am 50+ years old and i bought thi...   \n14996  i've playled all the nancy drew games up to ga...   \n14997  this is the third nancy drew game that i have ...   \n14998  this software came installed on my new pc.  al...   \n14999  i'm back with mcafee's tech \"support\".  it too...   \n\n                             summary  unixReviewTime        vote  \n0                     Material Great      1394496000  Five Stars  \n1                             Health      1393113600  Five Stars  \n2                 ARE YOU KIDING ME?      1392595200         7.0  \n3                    missing pages!!      1392595200         3.0  \n4      Best study product out there!      1381708800  Five Stars  \n...                              ...             ...         ...  \n14995               Fun and Engaging      1078790400         6.0  \n14996           One of my favourites      1074297600         2.0  \n14997           it just gets better.      1072915200        16.0  \n14998                      STAY AWAY      1075248000         4.0  \n14999         Terrible waste of time      1073088000  Five Stars  \n\n[15000 rows x 10 columns]",
            "text/html": "<div>\n<style scoped>\n    .dataframe tbody tr th:only-of-type {\n        vertical-align: middle;\n    }\n\n    .dataframe tbody tr th {\n        vertical-align: top;\n    }\n\n    .dataframe thead th {\n        text-align: right;\n    }\n</style>\n<table border=\"1\" class=\"dataframe\">\n  <thead>\n    <tr style=\"text-align: right;\">\n      <th></th>\n      <th>overall</th>\n      <th>verified</th>\n      <th>reviewerID</th>\n      <th>asin</th>\n      <th>style</th>\n      <th>reviewerName</th>\n      <th>reviewText</th>\n      <th>summary</th>\n      <th>unixReviewTime</th>\n      <th>vote</th>\n    </tr>\n  </thead>\n  <tbody>\n    <tr>\n      <th>0</th>\n      <td>4.0</td>\n      <td>True</td>\n      <td>A240ORQ2LF9LUI</td>\n      <td>0077613252</td>\n      <td>{'Format:': ' Loose Leaf'}</td>\n      <td>Michelle W</td>\n      <td>the materials arrived early and were in excell...</td>\n      <td>Material Great</td>\n      <td>1394496000</td>\n      <td>Five Stars</td>\n    </tr>\n    <tr>\n      <th>1</th>\n      <td>4.0</td>\n      <td>True</td>\n      <td>A1YCCU0YRLS0FE</td>\n      <td>0077613252</td>\n      <td>{'Format:': ' Loose Leaf'}</td>\n      <td>Rosalind White Ames</td>\n      <td>i am really enjoying this book with the worksh...</td>\n      <td>Health</td>\n      <td>1393113600</td>\n      <td>Five Stars</td>\n    </tr>\n    <tr>\n      <th>2</th>\n      <td>1.0</td>\n      <td>True</td>\n      <td>A1BJHRQDYVAY2J</td>\n      <td>0077613252</td>\n      <td>{'Format:': ' Loose Leaf'}</td>\n      <td>Allan R. Baker</td>\n      <td>if you are taking this class don\"t waste your ...</td>\n      <td>ARE YOU KIDING ME?</td>\n      <td>1392595200</td>\n      <td>7.0</td>\n    </tr>\n    <tr>\n      <th>3</th>\n      <td>3.0</td>\n      <td>True</td>\n      <td>APRDVZ6QBIQXT</td>\n      <td>0077613252</td>\n      <td>{'Format:': ' Loose Leaf'}</td>\n      <td>Lucy</td>\n      <td>this book was missing pages!!! important pages...</td>\n      <td>missing pages!!</td>\n      <td>1392595200</td>\n      <td>3.0</td>\n    </tr>\n    <tr>\n      <th>4</th>\n      <td>5.0</td>\n      <td>False</td>\n      <td>A2JZTTBSLS1QXV</td>\n      <td>0077775473</td>\n      <td>{'Format:': ' CD-ROM'}</td>\n      <td>Albert V.</td>\n      <td>i have used learnsmart and can officially say ...</td>\n      <td>Best study product out there!</td>\n      <td>1381708800</td>\n      <td>Five Stars</td>\n    </tr>\n    <tr>\n      <th>...</th>\n      <td>...</td>\n      <td>...</td>\n      <td>...</td>\n      <td>...</td>\n      <td>...</td>\n      <td>...</td>\n      <td>...</td>\n      <td>...</td>\n      <td>...</td>\n      <td>...</td>\n    </tr>\n    <tr>\n      <th>14995</th>\n      <td>4.0</td>\n      <td>False</td>\n      <td>A2H0T0PY5IMEFX</td>\n      <td>B0000CEM5O</td>\n      <td>{'Platform:': ' PC'}</td>\n      <td>Alan Dale Daniel</td>\n      <td>ok, ok.... i am 50+ years old and i bought thi...</td>\n      <td>Fun and Engaging</td>\n      <td>1078790400</td>\n      <td>6.0</td>\n    </tr>\n    <tr>\n      <th>14996</th>\n      <td>5.0</td>\n      <td>False</td>\n      <td>A3B8FP0ME75PG0</td>\n      <td>B0000CEM5O</td>\n      <td>{'Platform:': ' PC'}</td>\n      <td>Amazon Customer</td>\n      <td>i've playled all the nancy drew games up to ga...</td>\n      <td>One of my favourites</td>\n      <td>1074297600</td>\n      <td>2.0</td>\n    </tr>\n    <tr>\n      <th>14997</th>\n      <td>4.0</td>\n      <td>False</td>\n      <td>A8LT66GHJAOQY</td>\n      <td>B0000CEM5O</td>\n      <td>{'Platform:': ' PC'}</td>\n      <td>destiny morna</td>\n      <td>this is the third nancy drew game that i have ...</td>\n      <td>it just gets better.</td>\n      <td>1072915200</td>\n      <td>16.0</td>\n    </tr>\n    <tr>\n      <th>14998</th>\n      <td>1.0</td>\n      <td>False</td>\n      <td>A2278SA5JW1PSR</td>\n      <td>B0000CE220</td>\n      <td>{'Format:': ' CD-ROM'}</td>\n      <td>Carol</td>\n      <td>this software came installed on my new pc.  al...</td>\n      <td>STAY AWAY</td>\n      <td>1075248000</td>\n      <td>4.0</td>\n    </tr>\n    <tr>\n      <th>14999</th>\n      <td>1.0</td>\n      <td>False</td>\n      <td>A8UWGZA5FI1NT</td>\n      <td>B0000CE220</td>\n      <td>{'Format:': ' CD-ROM'}</td>\n      <td>Matthew Purtill</td>\n      <td>i'm back with mcafee's tech \"support\".  it too...</td>\n      <td>Terrible waste of time</td>\n      <td>1073088000</td>\n      <td>Five Stars</td>\n    </tr>\n  </tbody>\n</table>\n<p>15000 rows × 10 columns</p>\n</div>"
          },
          "metadata": {}
        }
      ]
    },
    {
      "cell_type": "code",
      "source": [
        "def remove_url(text):\n",
        "    pattern = re.compile(r'https?://\\S+|www.\\.\\S+')\n",
        "    return pattern.sub(r'', text)"
      ],
      "metadata": {
        "id": "KuwfS6EZtF1h",
        "execution": {
          "iopub.status.busy": "2024-08-28T02:45:09.122444Z",
          "iopub.execute_input": "2024-08-28T02:45:09.122824Z",
          "iopub.status.idle": "2024-08-28T02:45:09.128193Z",
          "shell.execute_reply.started": "2024-08-28T02:45:09.122788Z",
          "shell.execute_reply": "2024-08-28T02:45:09.126975Z"
        },
        "trusted": true
      },
      "execution_count": null,
      "outputs": []
    },
    {
      "cell_type": "code",
      "source": [
        "df1['reviewText'] = df1['reviewText'].apply(remove_url)"
      ],
      "metadata": {
        "id": "p31TL5FRtF1i",
        "execution": {
          "iopub.status.busy": "2024-08-28T02:45:11.142267Z",
          "iopub.execute_input": "2024-08-28T02:45:11.143484Z",
          "iopub.status.idle": "2024-08-28T02:45:11.267233Z",
          "shell.execute_reply.started": "2024-08-28T02:45:11.143423Z",
          "shell.execute_reply": "2024-08-28T02:45:11.266120Z"
        },
        "trusted": true
      },
      "execution_count": null,
      "outputs": []
    },
    {
      "cell_type": "code",
      "source": [
        "import string,time\n",
        "string.punctuation"
      ],
      "metadata": {
        "colab": {
          "base_uri": "https://localhost:8080/",
          "height": 35
        },
        "id": "yGIQUoKMtF1i",
        "outputId": "5be73383-9c73-4ff0-9729-ac5819c2ca03",
        "execution": {
          "iopub.status.busy": "2024-08-28T02:45:14.120810Z",
          "iopub.execute_input": "2024-08-28T02:45:14.121232Z",
          "iopub.status.idle": "2024-08-28T02:45:14.128869Z",
          "shell.execute_reply.started": "2024-08-28T02:45:14.121192Z",
          "shell.execute_reply": "2024-08-28T02:45:14.127702Z"
        },
        "trusted": true
      },
      "execution_count": null,
      "outputs": [
        {
          "execution_count": 52,
          "output_type": "execute_result",
          "data": {
            "text/plain": "'!\"#$%&\\'()*+,-./:;<=>?@[\\\\]^_`{|}~'"
          },
          "metadata": {}
        }
      ]
    },
    {
      "cell_type": "code",
      "source": [
        "exclude = string.punctuation"
      ],
      "metadata": {
        "id": "CtKhBcCetF1k",
        "execution": {
          "iopub.status.busy": "2024-08-28T02:45:17.283534Z",
          "iopub.execute_input": "2024-08-28T02:45:17.284638Z",
          "iopub.status.idle": "2024-08-28T02:45:17.290189Z",
          "shell.execute_reply.started": "2024-08-28T02:45:17.284570Z",
          "shell.execute_reply": "2024-08-28T02:45:17.288697Z"
        },
        "trusted": true
      },
      "execution_count": null,
      "outputs": []
    },
    {
      "cell_type": "code",
      "source": [
        "def remove_punc1(text):\n",
        "    return text.translate(str.maketrans('','',exclude))"
      ],
      "metadata": {
        "id": "BRZIFwXOtF1k",
        "execution": {
          "iopub.status.busy": "2024-08-28T02:45:20.480831Z",
          "iopub.execute_input": "2024-08-28T02:45:20.481376Z",
          "iopub.status.idle": "2024-08-28T02:45:20.488967Z",
          "shell.execute_reply.started": "2024-08-28T02:45:20.481319Z",
          "shell.execute_reply": "2024-08-28T02:45:20.486356Z"
        },
        "trusted": true
      },
      "execution_count": null,
      "outputs": []
    },
    {
      "cell_type": "code",
      "source": [
        "df1['reviewText'] = df1['reviewText'].apply(remove_punc1)"
      ],
      "metadata": {
        "id": "xdsALgiXtF1l",
        "execution": {
          "iopub.status.busy": "2024-08-28T02:45:22.107160Z",
          "iopub.execute_input": "2024-08-28T02:45:22.107577Z",
          "iopub.status.idle": "2024-08-28T02:45:22.231878Z",
          "shell.execute_reply.started": "2024-08-28T02:45:22.107535Z",
          "shell.execute_reply": "2024-08-28T02:45:22.230939Z"
        },
        "trusted": true
      },
      "execution_count": null,
      "outputs": []
    },
    {
      "cell_type": "code",
      "source": [
        "from nltk.corpus import stopwords"
      ],
      "metadata": {
        "id": "9jpE0J6wtF1l",
        "execution": {
          "iopub.status.busy": "2024-08-28T02:45:25.319765Z",
          "iopub.execute_input": "2024-08-28T02:45:25.320200Z",
          "iopub.status.idle": "2024-08-28T02:45:26.638274Z",
          "shell.execute_reply.started": "2024-08-28T02:45:25.320161Z",
          "shell.execute_reply": "2024-08-28T02:45:26.637146Z"
        },
        "trusted": true
      },
      "execution_count": null,
      "outputs": []
    },
    {
      "cell_type": "code",
      "source": [
        "!pip install nltk"
      ],
      "metadata": {
        "colab": {
          "base_uri": "https://localhost:8080/"
        },
        "id": "neuyh2xvtF1l",
        "outputId": "ff5bdfd5-406a-421e-b310-1a5ca846b921",
        "execution": {
          "iopub.status.busy": "2024-08-28T02:45:28.449474Z",
          "iopub.execute_input": "2024-08-28T02:45:28.450809Z",
          "iopub.status.idle": "2024-08-28T02:46:01.969504Z",
          "shell.execute_reply.started": "2024-08-28T02:45:28.450755Z",
          "shell.execute_reply": "2024-08-28T02:46:01.968204Z"
        },
        "trusted": true
      },
      "execution_count": null,
      "outputs": [
        {
          "name": "stdout",
          "text": "Requirement already satisfied: nltk in /opt/conda/lib/python3.10/site-packages (3.2.4)\nRequirement already satisfied: six in /opt/conda/lib/python3.10/site-packages (from nltk) (1.16.0)\n",
          "output_type": "stream"
        }
      ]
    },
    {
      "cell_type": "code",
      "source": [
        "import nltk\n",
        "nltk.download('stopwords')"
      ],
      "metadata": {
        "colab": {
          "base_uri": "https://localhost:8080/"
        },
        "id": "c0Gnh_tftF1m",
        "outputId": "7bcb5831-39eb-4575-d2ec-dba1b1279cd2",
        "execution": {
          "iopub.status.busy": "2024-08-28T02:46:06.725696Z",
          "iopub.execute_input": "2024-08-28T02:46:06.726563Z",
          "iopub.status.idle": "2024-08-28T02:46:26.772482Z",
          "shell.execute_reply.started": "2024-08-28T02:46:06.726504Z",
          "shell.execute_reply": "2024-08-28T02:46:26.771348Z"
        },
        "trusted": true
      },
      "execution_count": null,
      "outputs": [
        {
          "name": "stdout",
          "text": "[nltk_data] Error loading stopwords: <urlopen error [Errno -3]\n[nltk_data]     Temporary failure in name resolution>\n",
          "output_type": "stream"
        },
        {
          "execution_count": 58,
          "output_type": "execute_result",
          "data": {
            "text/plain": "False"
          },
          "metadata": {}
        }
      ]
    },
    {
      "cell_type": "code",
      "source": [
        "stopwords.words('english')\n"
      ],
      "metadata": {
        "colab": {
          "base_uri": "https://localhost:8080/"
        },
        "id": "DN8p2HZgtF1m",
        "outputId": "a899003d-57bd-487b-93e5-d3e6bc87d64a",
        "execution": {
          "iopub.status.busy": "2024-08-28T02:46:29.776898Z",
          "iopub.execute_input": "2024-08-28T02:46:29.777343Z",
          "iopub.status.idle": "2024-08-28T02:46:29.794190Z",
          "shell.execute_reply.started": "2024-08-28T02:46:29.777276Z",
          "shell.execute_reply": "2024-08-28T02:46:29.793098Z"
        },
        "trusted": true
      },
      "execution_count": null,
      "outputs": [
        {
          "execution_count": 59,
          "output_type": "execute_result",
          "data": {
            "text/plain": "['i',\n 'me',\n 'my',\n 'myself',\n 'we',\n 'our',\n 'ours',\n 'ourselves',\n 'you',\n \"you're\",\n \"you've\",\n \"you'll\",\n \"you'd\",\n 'your',\n 'yours',\n 'yourself',\n 'yourselves',\n 'he',\n 'him',\n 'his',\n 'himself',\n 'she',\n \"she's\",\n 'her',\n 'hers',\n 'herself',\n 'it',\n \"it's\",\n 'its',\n 'itself',\n 'they',\n 'them',\n 'their',\n 'theirs',\n 'themselves',\n 'what',\n 'which',\n 'who',\n 'whom',\n 'this',\n 'that',\n \"that'll\",\n 'these',\n 'those',\n 'am',\n 'is',\n 'are',\n 'was',\n 'were',\n 'be',\n 'been',\n 'being',\n 'have',\n 'has',\n 'had',\n 'having',\n 'do',\n 'does',\n 'did',\n 'doing',\n 'a',\n 'an',\n 'the',\n 'and',\n 'but',\n 'if',\n 'or',\n 'because',\n 'as',\n 'until',\n 'while',\n 'of',\n 'at',\n 'by',\n 'for',\n 'with',\n 'about',\n 'against',\n 'between',\n 'into',\n 'through',\n 'during',\n 'before',\n 'after',\n 'above',\n 'below',\n 'to',\n 'from',\n 'up',\n 'down',\n 'in',\n 'out',\n 'on',\n 'off',\n 'over',\n 'under',\n 'again',\n 'further',\n 'then',\n 'once',\n 'here',\n 'there',\n 'when',\n 'where',\n 'why',\n 'how',\n 'all',\n 'any',\n 'both',\n 'each',\n 'few',\n 'more',\n 'most',\n 'other',\n 'some',\n 'such',\n 'no',\n 'nor',\n 'not',\n 'only',\n 'own',\n 'same',\n 'so',\n 'than',\n 'too',\n 'very',\n 's',\n 't',\n 'can',\n 'will',\n 'just',\n 'don',\n \"don't\",\n 'should',\n \"should've\",\n 'now',\n 'd',\n 'll',\n 'm',\n 'o',\n 're',\n 've',\n 'y',\n 'ain',\n 'aren',\n \"aren't\",\n 'couldn',\n \"couldn't\",\n 'didn',\n \"didn't\",\n 'doesn',\n \"doesn't\",\n 'hadn',\n \"hadn't\",\n 'hasn',\n \"hasn't\",\n 'haven',\n \"haven't\",\n 'isn',\n \"isn't\",\n 'ma',\n 'mightn',\n \"mightn't\",\n 'mustn',\n \"mustn't\",\n 'needn',\n \"needn't\",\n 'shan',\n \"shan't\",\n 'shouldn',\n \"shouldn't\",\n 'wasn',\n \"wasn't\",\n 'weren',\n \"weren't\",\n 'won',\n \"won't\",\n 'wouldn',\n \"wouldn't\"]"
          },
          "metadata": {}
        }
      ]
    },
    {
      "cell_type": "code",
      "source": [
        "def remove_stopwords(text):\n",
        "    new_text = []\n",
        "\n",
        "    for word in text.split():\n",
        "        if word in stopwords.words('english'):\n",
        "            new_text.append('')\n",
        "        else:\n",
        "            new_text.append(word)\n",
        "    x = new_text[:]\n",
        "    new_text.clear()\n",
        "    return \" \".join(x)"
      ],
      "metadata": {
        "id": "LfEavDSEtF1n",
        "execution": {
          "iopub.status.busy": "2024-08-28T02:46:39.935701Z",
          "iopub.execute_input": "2024-08-28T02:46:39.936135Z",
          "iopub.status.idle": "2024-08-28T02:46:39.942580Z",
          "shell.execute_reply.started": "2024-08-28T02:46:39.936084Z",
          "shell.execute_reply": "2024-08-28T02:46:39.941433Z"
        },
        "trusted": true
      },
      "execution_count": null,
      "outputs": []
    },
    {
      "cell_type": "code",
      "source": [
        "df1['reviewText'] = df1['reviewText'].apply(remove_stopwords)"
      ],
      "metadata": {
        "id": "2rQaAtZ1tF1n",
        "execution": {
          "iopub.status.busy": "2024-08-28T02:46:41.985003Z",
          "iopub.execute_input": "2024-08-28T02:46:41.985459Z",
          "iopub.status.idle": "2024-08-28T02:50:12.925927Z",
          "shell.execute_reply.started": "2024-08-28T02:46:41.985415Z",
          "shell.execute_reply": "2024-08-28T02:50:12.924571Z"
        },
        "trusted": true
      },
      "execution_count": null,
      "outputs": []
    },
    {
      "cell_type": "code",
      "source": [
        "from sklearn.preprocessing import LabelEncoder"
      ],
      "metadata": {
        "id": "tahIaLjHCTz4",
        "execution": {
          "iopub.status.busy": "2024-08-28T02:50:20.769278Z",
          "iopub.execute_input": "2024-08-28T02:50:20.770468Z",
          "iopub.status.idle": "2024-08-28T02:50:20.775616Z",
          "shell.execute_reply.started": "2024-08-28T02:50:20.770404Z",
          "shell.execute_reply": "2024-08-28T02:50:20.774365Z"
        },
        "trusted": true
      },
      "execution_count": null,
      "outputs": []
    },
    {
      "cell_type": "code",
      "source": [
        "obj=LabelEncoder()"
      ],
      "metadata": {
        "id": "sVzWd4dZDFX8",
        "execution": {
          "iopub.status.busy": "2024-08-28T02:50:23.615999Z",
          "iopub.execute_input": "2024-08-28T02:50:23.616422Z",
          "iopub.status.idle": "2024-08-28T02:50:23.621878Z",
          "shell.execute_reply.started": "2024-08-28T02:50:23.616382Z",
          "shell.execute_reply": "2024-08-28T02:50:23.620739Z"
        },
        "trusted": true
      },
      "execution_count": null,
      "outputs": []
    },
    {
      "cell_type": "code",
      "source": [
        "df1"
      ],
      "metadata": {
        "colab": {
          "base_uri": "https://localhost:8080/",
          "height": 597
        },
        "id": "KIpI6sZ7FQvu",
        "outputId": "5447600f-f731-440c-d36a-c2bb07ca1b05",
        "execution": {
          "iopub.status.busy": "2024-08-28T02:50:24.687907Z",
          "iopub.execute_input": "2024-08-28T02:50:24.688358Z",
          "iopub.status.idle": "2024-08-28T02:50:24.709232Z",
          "shell.execute_reply.started": "2024-08-28T02:50:24.688307Z",
          "shell.execute_reply": "2024-08-28T02:50:24.708135Z"
        },
        "trusted": true
      },
      "execution_count": null,
      "outputs": [
        {
          "execution_count": 64,
          "output_type": "execute_result",
          "data": {
            "text/plain": "       overall  verified      reviewerID        asin  \\\n0          4.0      True  A240ORQ2LF9LUI  0077613252   \n1          4.0      True  A1YCCU0YRLS0FE  0077613252   \n2          1.0      True  A1BJHRQDYVAY2J  0077613252   \n3          3.0      True   APRDVZ6QBIQXT  0077613252   \n4          5.0     False  A2JZTTBSLS1QXV  0077775473   \n...        ...       ...             ...         ...   \n14995      4.0     False  A2H0T0PY5IMEFX  B0000CEM5O   \n14996      5.0     False  A3B8FP0ME75PG0  B0000CEM5O   \n14997      4.0     False   A8LT66GHJAOQY  B0000CEM5O   \n14998      1.0     False  A2278SA5JW1PSR  B0000CE220   \n14999      1.0     False   A8UWGZA5FI1NT  B0000CE220   \n\n                            style         reviewerName  \\\n0      {'Format:': ' Loose Leaf'}           Michelle W   \n1      {'Format:': ' Loose Leaf'}  Rosalind White Ames   \n2      {'Format:': ' Loose Leaf'}       Allan R. Baker   \n3      {'Format:': ' Loose Leaf'}                 Lucy   \n4          {'Format:': ' CD-ROM'}            Albert V.   \n...                           ...                  ...   \n14995        {'Platform:': ' PC'}     Alan Dale Daniel   \n14996        {'Platform:': ' PC'}      Amazon Customer   \n14997        {'Platform:': ' PC'}        destiny morna   \n14998      {'Format:': ' CD-ROM'}                Carol   \n14999      {'Format:': ' CD-ROM'}      Matthew Purtill   \n\n                                              reviewText  \\\n0       materials arrived early    excellent conditio...   \n1        really enjoying  book   worksheets  make  re...   \n2         taking  class dont waste  money    called b...   \n3       book  missing pages important pages  couldnt ...   \n4        used learnsmart   officially say     amazing...   \n...                                                  ...   \n14995  ok ok   50 years old   bought  game   like  wa...   \n14996  ive playled   nancy drew games   game  one    ...   \n14997     third nancy drew game    played  others  tr...   \n14998   software came installed   new pc almost every...   \n14999  im back  mcafees tech support  took  12 hours ...   \n\n                             summary  unixReviewTime        vote  \n0                     Material Great      1394496000  Five Stars  \n1                             Health      1393113600  Five Stars  \n2                 ARE YOU KIDING ME?      1392595200         7.0  \n3                    missing pages!!      1392595200         3.0  \n4      Best study product out there!      1381708800  Five Stars  \n...                              ...             ...         ...  \n14995               Fun and Engaging      1078790400         6.0  \n14996           One of my favourites      1074297600         2.0  \n14997           it just gets better.      1072915200        16.0  \n14998                      STAY AWAY      1075248000         4.0  \n14999         Terrible waste of time      1073088000  Five Stars  \n\n[15000 rows x 10 columns]",
            "text/html": "<div>\n<style scoped>\n    .dataframe tbody tr th:only-of-type {\n        vertical-align: middle;\n    }\n\n    .dataframe tbody tr th {\n        vertical-align: top;\n    }\n\n    .dataframe thead th {\n        text-align: right;\n    }\n</style>\n<table border=\"1\" class=\"dataframe\">\n  <thead>\n    <tr style=\"text-align: right;\">\n      <th></th>\n      <th>overall</th>\n      <th>verified</th>\n      <th>reviewerID</th>\n      <th>asin</th>\n      <th>style</th>\n      <th>reviewerName</th>\n      <th>reviewText</th>\n      <th>summary</th>\n      <th>unixReviewTime</th>\n      <th>vote</th>\n    </tr>\n  </thead>\n  <tbody>\n    <tr>\n      <th>0</th>\n      <td>4.0</td>\n      <td>True</td>\n      <td>A240ORQ2LF9LUI</td>\n      <td>0077613252</td>\n      <td>{'Format:': ' Loose Leaf'}</td>\n      <td>Michelle W</td>\n      <td>materials arrived early    excellent conditio...</td>\n      <td>Material Great</td>\n      <td>1394496000</td>\n      <td>Five Stars</td>\n    </tr>\n    <tr>\n      <th>1</th>\n      <td>4.0</td>\n      <td>True</td>\n      <td>A1YCCU0YRLS0FE</td>\n      <td>0077613252</td>\n      <td>{'Format:': ' Loose Leaf'}</td>\n      <td>Rosalind White Ames</td>\n      <td>really enjoying  book   worksheets  make  re...</td>\n      <td>Health</td>\n      <td>1393113600</td>\n      <td>Five Stars</td>\n    </tr>\n    <tr>\n      <th>2</th>\n      <td>1.0</td>\n      <td>True</td>\n      <td>A1BJHRQDYVAY2J</td>\n      <td>0077613252</td>\n      <td>{'Format:': ' Loose Leaf'}</td>\n      <td>Allan R. Baker</td>\n      <td>taking  class dont waste  money    called b...</td>\n      <td>ARE YOU KIDING ME?</td>\n      <td>1392595200</td>\n      <td>7.0</td>\n    </tr>\n    <tr>\n      <th>3</th>\n      <td>3.0</td>\n      <td>True</td>\n      <td>APRDVZ6QBIQXT</td>\n      <td>0077613252</td>\n      <td>{'Format:': ' Loose Leaf'}</td>\n      <td>Lucy</td>\n      <td>book  missing pages important pages  couldnt ...</td>\n      <td>missing pages!!</td>\n      <td>1392595200</td>\n      <td>3.0</td>\n    </tr>\n    <tr>\n      <th>4</th>\n      <td>5.0</td>\n      <td>False</td>\n      <td>A2JZTTBSLS1QXV</td>\n      <td>0077775473</td>\n      <td>{'Format:': ' CD-ROM'}</td>\n      <td>Albert V.</td>\n      <td>used learnsmart   officially say     amazing...</td>\n      <td>Best study product out there!</td>\n      <td>1381708800</td>\n      <td>Five Stars</td>\n    </tr>\n    <tr>\n      <th>...</th>\n      <td>...</td>\n      <td>...</td>\n      <td>...</td>\n      <td>...</td>\n      <td>...</td>\n      <td>...</td>\n      <td>...</td>\n      <td>...</td>\n      <td>...</td>\n      <td>...</td>\n    </tr>\n    <tr>\n      <th>14995</th>\n      <td>4.0</td>\n      <td>False</td>\n      <td>A2H0T0PY5IMEFX</td>\n      <td>B0000CEM5O</td>\n      <td>{'Platform:': ' PC'}</td>\n      <td>Alan Dale Daniel</td>\n      <td>ok ok   50 years old   bought  game   like  wa...</td>\n      <td>Fun and Engaging</td>\n      <td>1078790400</td>\n      <td>6.0</td>\n    </tr>\n    <tr>\n      <th>14996</th>\n      <td>5.0</td>\n      <td>False</td>\n      <td>A3B8FP0ME75PG0</td>\n      <td>B0000CEM5O</td>\n      <td>{'Platform:': ' PC'}</td>\n      <td>Amazon Customer</td>\n      <td>ive playled   nancy drew games   game  one    ...</td>\n      <td>One of my favourites</td>\n      <td>1074297600</td>\n      <td>2.0</td>\n    </tr>\n    <tr>\n      <th>14997</th>\n      <td>4.0</td>\n      <td>False</td>\n      <td>A8LT66GHJAOQY</td>\n      <td>B0000CEM5O</td>\n      <td>{'Platform:': ' PC'}</td>\n      <td>destiny morna</td>\n      <td>third nancy drew game    played  others  tr...</td>\n      <td>it just gets better.</td>\n      <td>1072915200</td>\n      <td>16.0</td>\n    </tr>\n    <tr>\n      <th>14998</th>\n      <td>1.0</td>\n      <td>False</td>\n      <td>A2278SA5JW1PSR</td>\n      <td>B0000CE220</td>\n      <td>{'Format:': ' CD-ROM'}</td>\n      <td>Carol</td>\n      <td>software came installed   new pc almost every...</td>\n      <td>STAY AWAY</td>\n      <td>1075248000</td>\n      <td>4.0</td>\n    </tr>\n    <tr>\n      <th>14999</th>\n      <td>1.0</td>\n      <td>False</td>\n      <td>A8UWGZA5FI1NT</td>\n      <td>B0000CE220</td>\n      <td>{'Format:': ' CD-ROM'}</td>\n      <td>Matthew Purtill</td>\n      <td>im back  mcafees tech support  took  12 hours ...</td>\n      <td>Terrible waste of time</td>\n      <td>1073088000</td>\n      <td>Five Stars</td>\n    </tr>\n  </tbody>\n</table>\n<p>15000 rows × 10 columns</p>\n</div>"
          },
          "metadata": {}
        }
      ]
    },
    {
      "cell_type": "code",
      "source": [
        "df1['vote'].value_counts()"
      ],
      "metadata": {
        "colab": {
          "base_uri": "https://localhost:8080/",
          "height": 490
        },
        "id": "0DaaO1tjFr_q",
        "outputId": "116abf9a-38e0-4850-889e-4688be55709d",
        "execution": {
          "iopub.status.busy": "2024-08-28T02:50:26.106970Z",
          "iopub.execute_input": "2024-08-28T02:50:26.107405Z",
          "iopub.status.idle": "2024-08-28T02:50:26.120116Z",
          "shell.execute_reply.started": "2024-08-28T02:50:26.107364Z",
          "shell.execute_reply": "2024-08-28T02:50:26.118891Z"
        },
        "trusted": true
      },
      "execution_count": null,
      "outputs": [
        {
          "execution_count": 65,
          "output_type": "execute_result",
          "data": {
            "text/plain": "vote\nFive Stars    5743\n2.0           1301\n3.0           1006\n4.0            782\n5.0            692\n              ... \n903.0            1\n129.0            1\n110.0            1\n421.0            1\n122.0            1\nName: count, Length: 175, dtype: int64"
          },
          "metadata": {}
        }
      ]
    },
    {
      "cell_type": "code",
      "source": [
        "np.where((df['vote']=='Five Stars'),5.0,5.0)"
      ],
      "metadata": {
        "colab": {
          "base_uri": "https://localhost:8080/"
        },
        "id": "7bB05HhLFznJ",
        "outputId": "fc13ce67-d864-40d6-e401-2e8371f830ac",
        "execution": {
          "iopub.status.busy": "2024-08-28T02:50:27.182415Z",
          "iopub.execute_input": "2024-08-28T02:50:27.182936Z",
          "iopub.status.idle": "2024-08-28T02:50:27.199842Z",
          "shell.execute_reply.started": "2024-08-28T02:50:27.182876Z",
          "shell.execute_reply": "2024-08-28T02:50:27.198434Z"
        },
        "trusted": true
      },
      "execution_count": null,
      "outputs": [
        {
          "execution_count": 66,
          "output_type": "execute_result",
          "data": {
            "text/plain": "array([5., 5., 5., ..., 5., 5., 5.])"
          },
          "metadata": {}
        }
      ]
    },
    {
      "cell_type": "code",
      "source": [
        "df1['vote']"
      ],
      "metadata": {
        "colab": {
          "base_uri": "https://localhost:8080/",
          "height": 458
        },
        "id": "LvdqTrmpGJKP",
        "outputId": "4d8cec12-a790-43ab-d292-8901e7773949",
        "execution": {
          "iopub.status.busy": "2024-08-28T02:50:28.160335Z",
          "iopub.execute_input": "2024-08-28T02:50:28.161192Z",
          "iopub.status.idle": "2024-08-28T02:50:28.169190Z",
          "shell.execute_reply.started": "2024-08-28T02:50:28.161148Z",
          "shell.execute_reply": "2024-08-28T02:50:28.168085Z"
        },
        "trusted": true
      },
      "execution_count": null,
      "outputs": [
        {
          "execution_count": 67,
          "output_type": "execute_result",
          "data": {
            "text/plain": "0        Five Stars\n1        Five Stars\n2               7.0\n3               3.0\n4        Five Stars\n            ...    \n14995           6.0\n14996           2.0\n14997          16.0\n14998           4.0\n14999    Five Stars\nName: vote, Length: 15000, dtype: object"
          },
          "metadata": {}
        }
      ]
    },
    {
      "cell_type": "code",
      "source": [
        "df1['vote'] = df1['vote'].replace(['Five Stars'], [5.0])\n",
        "\n"
      ],
      "metadata": {
        "id": "WCYM4vC1GXvS",
        "execution": {
          "iopub.status.busy": "2024-08-28T02:50:29.417985Z",
          "iopub.execute_input": "2024-08-28T02:50:29.418454Z",
          "iopub.status.idle": "2024-08-28T02:50:29.429232Z",
          "shell.execute_reply.started": "2024-08-28T02:50:29.418409Z",
          "shell.execute_reply": "2024-08-28T02:50:29.427976Z"
        },
        "trusted": true,
        "outputId": "159bd4de-08de-4188-e76b-15bdeeaf9da9"
      },
      "execution_count": null,
      "outputs": [
        {
          "name": "stderr",
          "text": "/tmp/ipykernel_36/3349342945.py:1: FutureWarning: Downcasting behavior in `replace` is deprecated and will be removed in a future version. To retain the old behavior, explicitly call `result.infer_objects(copy=False)`. To opt-in to the future behavior, set `pd.set_option('future.no_silent_downcasting', True)`\n  df1['vote'] = df1['vote'].replace(['Five Stars'], [5.0])\n",
          "output_type": "stream"
        }
      ]
    },
    {
      "cell_type": "code",
      "source": [
        "df1['vote']"
      ],
      "metadata": {
        "colab": {
          "base_uri": "https://localhost:8080/",
          "height": 458
        },
        "id": "qoWROToYHG44",
        "outputId": "655267fc-9a7d-420f-c223-31ba4ed8eaea",
        "execution": {
          "iopub.status.busy": "2024-08-28T02:50:33.862619Z",
          "iopub.execute_input": "2024-08-28T02:50:33.863025Z",
          "iopub.status.idle": "2024-08-28T02:50:33.872267Z",
          "shell.execute_reply.started": "2024-08-28T02:50:33.862985Z",
          "shell.execute_reply": "2024-08-28T02:50:33.870970Z"
        },
        "trusted": true
      },
      "execution_count": null,
      "outputs": [
        {
          "execution_count": 69,
          "output_type": "execute_result",
          "data": {
            "text/plain": "0         5.0\n1         5.0\n2         7.0\n3         3.0\n4         5.0\n         ... \n14995     6.0\n14996     2.0\n14997    16.0\n14998     4.0\n14999     5.0\nName: vote, Length: 15000, dtype: float64"
          },
          "metadata": {}
        }
      ]
    },
    {
      "cell_type": "code",
      "source": [
        "df1"
      ],
      "metadata": {
        "colab": {
          "base_uri": "https://localhost:8080/",
          "height": 597
        },
        "id": "d0XNzgTEHM3H",
        "outputId": "11e8cdf5-3822-4aa7-afb0-3257e3b37a7c",
        "execution": {
          "iopub.status.busy": "2024-08-28T02:50:34.859477Z",
          "iopub.execute_input": "2024-08-28T02:50:34.859903Z",
          "iopub.status.idle": "2024-08-28T02:50:34.879609Z",
          "shell.execute_reply.started": "2024-08-28T02:50:34.859860Z",
          "shell.execute_reply": "2024-08-28T02:50:34.878463Z"
        },
        "trusted": true
      },
      "execution_count": null,
      "outputs": [
        {
          "execution_count": 70,
          "output_type": "execute_result",
          "data": {
            "text/plain": "       overall  verified      reviewerID        asin  \\\n0          4.0      True  A240ORQ2LF9LUI  0077613252   \n1          4.0      True  A1YCCU0YRLS0FE  0077613252   \n2          1.0      True  A1BJHRQDYVAY2J  0077613252   \n3          3.0      True   APRDVZ6QBIQXT  0077613252   \n4          5.0     False  A2JZTTBSLS1QXV  0077775473   \n...        ...       ...             ...         ...   \n14995      4.0     False  A2H0T0PY5IMEFX  B0000CEM5O   \n14996      5.0     False  A3B8FP0ME75PG0  B0000CEM5O   \n14997      4.0     False   A8LT66GHJAOQY  B0000CEM5O   \n14998      1.0     False  A2278SA5JW1PSR  B0000CE220   \n14999      1.0     False   A8UWGZA5FI1NT  B0000CE220   \n\n                            style         reviewerName  \\\n0      {'Format:': ' Loose Leaf'}           Michelle W   \n1      {'Format:': ' Loose Leaf'}  Rosalind White Ames   \n2      {'Format:': ' Loose Leaf'}       Allan R. Baker   \n3      {'Format:': ' Loose Leaf'}                 Lucy   \n4          {'Format:': ' CD-ROM'}            Albert V.   \n...                           ...                  ...   \n14995        {'Platform:': ' PC'}     Alan Dale Daniel   \n14996        {'Platform:': ' PC'}      Amazon Customer   \n14997        {'Platform:': ' PC'}        destiny morna   \n14998      {'Format:': ' CD-ROM'}                Carol   \n14999      {'Format:': ' CD-ROM'}      Matthew Purtill   \n\n                                              reviewText  \\\n0       materials arrived early    excellent conditio...   \n1        really enjoying  book   worksheets  make  re...   \n2         taking  class dont waste  money    called b...   \n3       book  missing pages important pages  couldnt ...   \n4        used learnsmart   officially say     amazing...   \n...                                                  ...   \n14995  ok ok   50 years old   bought  game   like  wa...   \n14996  ive playled   nancy drew games   game  one    ...   \n14997     third nancy drew game    played  others  tr...   \n14998   software came installed   new pc almost every...   \n14999  im back  mcafees tech support  took  12 hours ...   \n\n                             summary  unixReviewTime  vote  \n0                     Material Great      1394496000   5.0  \n1                             Health      1393113600   5.0  \n2                 ARE YOU KIDING ME?      1392595200   7.0  \n3                    missing pages!!      1392595200   3.0  \n4      Best study product out there!      1381708800   5.0  \n...                              ...             ...   ...  \n14995               Fun and Engaging      1078790400   6.0  \n14996           One of my favourites      1074297600   2.0  \n14997           it just gets better.      1072915200  16.0  \n14998                      STAY AWAY      1075248000   4.0  \n14999         Terrible waste of time      1073088000   5.0  \n\n[15000 rows x 10 columns]",
            "text/html": "<div>\n<style scoped>\n    .dataframe tbody tr th:only-of-type {\n        vertical-align: middle;\n    }\n\n    .dataframe tbody tr th {\n        vertical-align: top;\n    }\n\n    .dataframe thead th {\n        text-align: right;\n    }\n</style>\n<table border=\"1\" class=\"dataframe\">\n  <thead>\n    <tr style=\"text-align: right;\">\n      <th></th>\n      <th>overall</th>\n      <th>verified</th>\n      <th>reviewerID</th>\n      <th>asin</th>\n      <th>style</th>\n      <th>reviewerName</th>\n      <th>reviewText</th>\n      <th>summary</th>\n      <th>unixReviewTime</th>\n      <th>vote</th>\n    </tr>\n  </thead>\n  <tbody>\n    <tr>\n      <th>0</th>\n      <td>4.0</td>\n      <td>True</td>\n      <td>A240ORQ2LF9LUI</td>\n      <td>0077613252</td>\n      <td>{'Format:': ' Loose Leaf'}</td>\n      <td>Michelle W</td>\n      <td>materials arrived early    excellent conditio...</td>\n      <td>Material Great</td>\n      <td>1394496000</td>\n      <td>5.0</td>\n    </tr>\n    <tr>\n      <th>1</th>\n      <td>4.0</td>\n      <td>True</td>\n      <td>A1YCCU0YRLS0FE</td>\n      <td>0077613252</td>\n      <td>{'Format:': ' Loose Leaf'}</td>\n      <td>Rosalind White Ames</td>\n      <td>really enjoying  book   worksheets  make  re...</td>\n      <td>Health</td>\n      <td>1393113600</td>\n      <td>5.0</td>\n    </tr>\n    <tr>\n      <th>2</th>\n      <td>1.0</td>\n      <td>True</td>\n      <td>A1BJHRQDYVAY2J</td>\n      <td>0077613252</td>\n      <td>{'Format:': ' Loose Leaf'}</td>\n      <td>Allan R. Baker</td>\n      <td>taking  class dont waste  money    called b...</td>\n      <td>ARE YOU KIDING ME?</td>\n      <td>1392595200</td>\n      <td>7.0</td>\n    </tr>\n    <tr>\n      <th>3</th>\n      <td>3.0</td>\n      <td>True</td>\n      <td>APRDVZ6QBIQXT</td>\n      <td>0077613252</td>\n      <td>{'Format:': ' Loose Leaf'}</td>\n      <td>Lucy</td>\n      <td>book  missing pages important pages  couldnt ...</td>\n      <td>missing pages!!</td>\n      <td>1392595200</td>\n      <td>3.0</td>\n    </tr>\n    <tr>\n      <th>4</th>\n      <td>5.0</td>\n      <td>False</td>\n      <td>A2JZTTBSLS1QXV</td>\n      <td>0077775473</td>\n      <td>{'Format:': ' CD-ROM'}</td>\n      <td>Albert V.</td>\n      <td>used learnsmart   officially say     amazing...</td>\n      <td>Best study product out there!</td>\n      <td>1381708800</td>\n      <td>5.0</td>\n    </tr>\n    <tr>\n      <th>...</th>\n      <td>...</td>\n      <td>...</td>\n      <td>...</td>\n      <td>...</td>\n      <td>...</td>\n      <td>...</td>\n      <td>...</td>\n      <td>...</td>\n      <td>...</td>\n      <td>...</td>\n    </tr>\n    <tr>\n      <th>14995</th>\n      <td>4.0</td>\n      <td>False</td>\n      <td>A2H0T0PY5IMEFX</td>\n      <td>B0000CEM5O</td>\n      <td>{'Platform:': ' PC'}</td>\n      <td>Alan Dale Daniel</td>\n      <td>ok ok   50 years old   bought  game   like  wa...</td>\n      <td>Fun and Engaging</td>\n      <td>1078790400</td>\n      <td>6.0</td>\n    </tr>\n    <tr>\n      <th>14996</th>\n      <td>5.0</td>\n      <td>False</td>\n      <td>A3B8FP0ME75PG0</td>\n      <td>B0000CEM5O</td>\n      <td>{'Platform:': ' PC'}</td>\n      <td>Amazon Customer</td>\n      <td>ive playled   nancy drew games   game  one    ...</td>\n      <td>One of my favourites</td>\n      <td>1074297600</td>\n      <td>2.0</td>\n    </tr>\n    <tr>\n      <th>14997</th>\n      <td>4.0</td>\n      <td>False</td>\n      <td>A8LT66GHJAOQY</td>\n      <td>B0000CEM5O</td>\n      <td>{'Platform:': ' PC'}</td>\n      <td>destiny morna</td>\n      <td>third nancy drew game    played  others  tr...</td>\n      <td>it just gets better.</td>\n      <td>1072915200</td>\n      <td>16.0</td>\n    </tr>\n    <tr>\n      <th>14998</th>\n      <td>1.0</td>\n      <td>False</td>\n      <td>A2278SA5JW1PSR</td>\n      <td>B0000CE220</td>\n      <td>{'Format:': ' CD-ROM'}</td>\n      <td>Carol</td>\n      <td>software came installed   new pc almost every...</td>\n      <td>STAY AWAY</td>\n      <td>1075248000</td>\n      <td>4.0</td>\n    </tr>\n    <tr>\n      <th>14999</th>\n      <td>1.0</td>\n      <td>False</td>\n      <td>A8UWGZA5FI1NT</td>\n      <td>B0000CE220</td>\n      <td>{'Format:': ' CD-ROM'}</td>\n      <td>Matthew Purtill</td>\n      <td>im back  mcafees tech support  took  12 hours ...</td>\n      <td>Terrible waste of time</td>\n      <td>1073088000</td>\n      <td>5.0</td>\n    </tr>\n  </tbody>\n</table>\n<p>15000 rows × 10 columns</p>\n</div>"
          },
          "metadata": {}
        }
      ]
    },
    {
      "cell_type": "code",
      "source": [
        "df1['overall'].value_counts()"
      ],
      "metadata": {
        "colab": {
          "base_uri": "https://localhost:8080/",
          "height": 272
        },
        "id": "wgPXaedVIDmW",
        "outputId": "a3310b54-6b4e-4f58-c4e1-17c01b4eb315",
        "execution": {
          "iopub.status.busy": "2024-08-28T02:50:38.755041Z",
          "iopub.execute_input": "2024-08-28T02:50:38.755507Z",
          "iopub.status.idle": "2024-08-28T02:50:38.764518Z",
          "shell.execute_reply.started": "2024-08-28T02:50:38.755462Z",
          "shell.execute_reply": "2024-08-28T02:50:38.763443Z"
        },
        "trusted": true
      },
      "execution_count": null,
      "outputs": [
        {
          "execution_count": 71,
          "output_type": "execute_result",
          "data": {
            "text/plain": "overall\n5.0    6612\n1.0    3573\n4.0    2423\n3.0    1272\n2.0    1120\nName: count, dtype: int64"
          },
          "metadata": {}
        }
      ]
    },
    {
      "cell_type": "code",
      "source": [
        "df1.vote.value_counts()"
      ],
      "metadata": {
        "colab": {
          "base_uri": "https://localhost:8080/",
          "height": 490
        },
        "id": "lpqoF7U1IiuW",
        "outputId": "bfbb52ca-5dc9-4359-c0e6-7131b36bc303",
        "execution": {
          "iopub.status.busy": "2024-08-28T02:50:40.109186Z",
          "iopub.execute_input": "2024-08-28T02:50:40.109637Z",
          "iopub.status.idle": "2024-08-28T02:50:40.119769Z",
          "shell.execute_reply.started": "2024-08-28T02:50:40.109594Z",
          "shell.execute_reply": "2024-08-28T02:50:40.118586Z"
        },
        "trusted": true
      },
      "execution_count": null,
      "outputs": [
        {
          "execution_count": 72,
          "output_type": "execute_result",
          "data": {
            "text/plain": "vote\n5.0      6435\n2.0      1301\n3.0      1006\n4.0       782\n6.0       590\n         ... \n432.0       1\n337.0       1\n147.0       1\n136.0       1\n122.0       1\nName: count, Length: 174, dtype: int64"
          },
          "metadata": {}
        }
      ]
    },
    {
      "cell_type": "code",
      "source": [
        "columns_to_encode = ['reviewerID','asin','style','reviewerName','unixReviewTime','vote']\n",
        "\n",
        "# Apply Label Encoding to each column in the list\n",
        "for col in columns_to_encode:\n",
        "    df1[col] = obj.fit_transform(df1[col])\n"
      ],
      "metadata": {
        "id": "bPYsujPFFLAe",
        "execution": {
          "iopub.status.busy": "2024-08-28T02:50:41.049352Z",
          "iopub.execute_input": "2024-08-28T02:50:41.049789Z",
          "iopub.status.idle": "2024-08-28T02:50:41.128419Z",
          "shell.execute_reply.started": "2024-08-28T02:50:41.049746Z",
          "shell.execute_reply": "2024-08-28T02:50:41.127362Z"
        },
        "trusted": true
      },
      "execution_count": null,
      "outputs": []
    },
    {
      "cell_type": "code",
      "source": [
        "df1"
      ],
      "metadata": {
        "colab": {
          "base_uri": "https://localhost:8080/",
          "height": 424
        },
        "id": "On2ejfJuG_5u",
        "outputId": "932e7410-167d-48d6-8cdd-1549b652df16",
        "execution": {
          "iopub.status.busy": "2024-08-28T02:50:43.070501Z",
          "iopub.execute_input": "2024-08-28T02:50:43.070940Z",
          "iopub.status.idle": "2024-08-28T02:50:43.089197Z",
          "shell.execute_reply.started": "2024-08-28T02:50:43.070898Z",
          "shell.execute_reply": "2024-08-28T02:50:43.088006Z"
        },
        "trusted": true
      },
      "execution_count": null,
      "outputs": [
        {
          "execution_count": 74,
          "output_type": "execute_result",
          "data": {
            "text/plain": "       overall  verified  reviewerID  asin  style  reviewerName  \\\n0          4.0      True        4147     0    204          6873   \n1          4.0      True        3533     0    204          8579   \n2          1.0      True        1208     0    204           386   \n3          3.0      True       12790     0    204          6103   \n4          5.0     False        5722     1    196           325   \n...        ...       ...         ...   ...    ...           ...   \n14995      4.0     False        5404   777    216           302   \n14996      5.0     False        8412   777    216           433   \n14997      4.0     False       11044   777    216         10781   \n14998      1.0     False        3935   774    196          1592   \n14999      1.0     False       11067   774    196          6658   \n\n                                              reviewText  \\\n0       materials arrived early    excellent conditio...   \n1        really enjoying  book   worksheets  make  re...   \n2         taking  class dont waste  money    called b...   \n3       book  missing pages important pages  couldnt ...   \n4        used learnsmart   officially say     amazing...   \n...                                                  ...   \n14995  ok ok   50 years old   bought  game   like  wa...   \n14996  ive playled   nancy drew games   game  one    ...   \n14997     third nancy drew game    played  others  tr...   \n14998   software came installed   new pc almost every...   \n14999  im back  mcafees tech support  took  12 hours ...   \n\n                             summary  unixReviewTime  vote  \n0                     Material Great            4076     3  \n1                             Health            4060     3  \n2                 ARE YOU KIDING ME?            4054     5  \n3                    missing pages!!            4054     1  \n4      Best study product out there!            3949     3  \n...                              ...             ...   ...  \n14995               Fun and Engaging            1425     4  \n14996           One of my favourites            1374     0  \n14997           it just gets better.            1358    14  \n14998                      STAY AWAY            1385     2  \n14999         Terrible waste of time            1360     3  \n\n[15000 rows x 10 columns]",
            "text/html": "<div>\n<style scoped>\n    .dataframe tbody tr th:only-of-type {\n        vertical-align: middle;\n    }\n\n    .dataframe tbody tr th {\n        vertical-align: top;\n    }\n\n    .dataframe thead th {\n        text-align: right;\n    }\n</style>\n<table border=\"1\" class=\"dataframe\">\n  <thead>\n    <tr style=\"text-align: right;\">\n      <th></th>\n      <th>overall</th>\n      <th>verified</th>\n      <th>reviewerID</th>\n      <th>asin</th>\n      <th>style</th>\n      <th>reviewerName</th>\n      <th>reviewText</th>\n      <th>summary</th>\n      <th>unixReviewTime</th>\n      <th>vote</th>\n    </tr>\n  </thead>\n  <tbody>\n    <tr>\n      <th>0</th>\n      <td>4.0</td>\n      <td>True</td>\n      <td>4147</td>\n      <td>0</td>\n      <td>204</td>\n      <td>6873</td>\n      <td>materials arrived early    excellent conditio...</td>\n      <td>Material Great</td>\n      <td>4076</td>\n      <td>3</td>\n    </tr>\n    <tr>\n      <th>1</th>\n      <td>4.0</td>\n      <td>True</td>\n      <td>3533</td>\n      <td>0</td>\n      <td>204</td>\n      <td>8579</td>\n      <td>really enjoying  book   worksheets  make  re...</td>\n      <td>Health</td>\n      <td>4060</td>\n      <td>3</td>\n    </tr>\n    <tr>\n      <th>2</th>\n      <td>1.0</td>\n      <td>True</td>\n      <td>1208</td>\n      <td>0</td>\n      <td>204</td>\n      <td>386</td>\n      <td>taking  class dont waste  money    called b...</td>\n      <td>ARE YOU KIDING ME?</td>\n      <td>4054</td>\n      <td>5</td>\n    </tr>\n    <tr>\n      <th>3</th>\n      <td>3.0</td>\n      <td>True</td>\n      <td>12790</td>\n      <td>0</td>\n      <td>204</td>\n      <td>6103</td>\n      <td>book  missing pages important pages  couldnt ...</td>\n      <td>missing pages!!</td>\n      <td>4054</td>\n      <td>1</td>\n    </tr>\n    <tr>\n      <th>4</th>\n      <td>5.0</td>\n      <td>False</td>\n      <td>5722</td>\n      <td>1</td>\n      <td>196</td>\n      <td>325</td>\n      <td>used learnsmart   officially say     amazing...</td>\n      <td>Best study product out there!</td>\n      <td>3949</td>\n      <td>3</td>\n    </tr>\n    <tr>\n      <th>...</th>\n      <td>...</td>\n      <td>...</td>\n      <td>...</td>\n      <td>...</td>\n      <td>...</td>\n      <td>...</td>\n      <td>...</td>\n      <td>...</td>\n      <td>...</td>\n      <td>...</td>\n    </tr>\n    <tr>\n      <th>14995</th>\n      <td>4.0</td>\n      <td>False</td>\n      <td>5404</td>\n      <td>777</td>\n      <td>216</td>\n      <td>302</td>\n      <td>ok ok   50 years old   bought  game   like  wa...</td>\n      <td>Fun and Engaging</td>\n      <td>1425</td>\n      <td>4</td>\n    </tr>\n    <tr>\n      <th>14996</th>\n      <td>5.0</td>\n      <td>False</td>\n      <td>8412</td>\n      <td>777</td>\n      <td>216</td>\n      <td>433</td>\n      <td>ive playled   nancy drew games   game  one    ...</td>\n      <td>One of my favourites</td>\n      <td>1374</td>\n      <td>0</td>\n    </tr>\n    <tr>\n      <th>14997</th>\n      <td>4.0</td>\n      <td>False</td>\n      <td>11044</td>\n      <td>777</td>\n      <td>216</td>\n      <td>10781</td>\n      <td>third nancy drew game    played  others  tr...</td>\n      <td>it just gets better.</td>\n      <td>1358</td>\n      <td>14</td>\n    </tr>\n    <tr>\n      <th>14998</th>\n      <td>1.0</td>\n      <td>False</td>\n      <td>3935</td>\n      <td>774</td>\n      <td>196</td>\n      <td>1592</td>\n      <td>software came installed   new pc almost every...</td>\n      <td>STAY AWAY</td>\n      <td>1385</td>\n      <td>2</td>\n    </tr>\n    <tr>\n      <th>14999</th>\n      <td>1.0</td>\n      <td>False</td>\n      <td>11067</td>\n      <td>774</td>\n      <td>196</td>\n      <td>6658</td>\n      <td>im back  mcafees tech support  took  12 hours ...</td>\n      <td>Terrible waste of time</td>\n      <td>1360</td>\n      <td>3</td>\n    </tr>\n  </tbody>\n</table>\n<p>15000 rows × 10 columns</p>\n</div>"
          },
          "metadata": {}
        }
      ]
    },
    {
      "cell_type": "code",
      "source": [
        "df1['reviewText']"
      ],
      "metadata": {
        "colab": {
          "base_uri": "https://localhost:8080/",
          "height": 458
        },
        "id": "PDmovh7YQFmJ",
        "outputId": "b2234fca-7d07-4cee-9fca-7381c86c988d",
        "execution": {
          "iopub.status.busy": "2024-08-28T02:50:44.042502Z",
          "iopub.execute_input": "2024-08-28T02:50:44.042958Z",
          "iopub.status.idle": "2024-08-28T02:50:44.052064Z",
          "shell.execute_reply.started": "2024-08-28T02:50:44.042901Z",
          "shell.execute_reply": "2024-08-28T02:50:44.050814Z"
        },
        "trusted": true
      },
      "execution_count": null,
      "outputs": [
        {
          "execution_count": 75,
          "output_type": "execute_result",
          "data": {
            "text/plain": "0         materials arrived early    excellent conditio...\n1          really enjoying  book   worksheets  make  re...\n2           taking  class dont waste  money    called b...\n3         book  missing pages important pages  couldnt ...\n4          used learnsmart   officially say     amazing...\n                               ...                        \n14995    ok ok   50 years old   bought  game   like  wa...\n14996    ive playled   nancy drew games   game  one    ...\n14997       third nancy drew game    played  others  tr...\n14998     software came installed   new pc almost every...\n14999    im back  mcafees tech support  took  12 hours ...\nName: reviewText, Length: 15000, dtype: object"
          },
          "metadata": {}
        }
      ]
    },
    {
      "cell_type": "code",
      "source": [
        "df1"
      ],
      "metadata": {
        "colab": {
          "base_uri": "https://localhost:8080/",
          "height": 424
        },
        "id": "guZ2RO_-bOE_",
        "outputId": "2b5bb91a-306b-42bd-b9ad-67db496db7af",
        "execution": {
          "iopub.status.busy": "2024-08-28T02:50:46.886513Z",
          "iopub.execute_input": "2024-08-28T02:50:46.886973Z",
          "iopub.status.idle": "2024-08-28T02:50:46.904551Z",
          "shell.execute_reply.started": "2024-08-28T02:50:46.886899Z",
          "shell.execute_reply": "2024-08-28T02:50:46.903432Z"
        },
        "trusted": true
      },
      "execution_count": null,
      "outputs": [
        {
          "execution_count": 76,
          "output_type": "execute_result",
          "data": {
            "text/plain": "       overall  verified  reviewerID  asin  style  reviewerName  \\\n0          4.0      True        4147     0    204          6873   \n1          4.0      True        3533     0    204          8579   \n2          1.0      True        1208     0    204           386   \n3          3.0      True       12790     0    204          6103   \n4          5.0     False        5722     1    196           325   \n...        ...       ...         ...   ...    ...           ...   \n14995      4.0     False        5404   777    216           302   \n14996      5.0     False        8412   777    216           433   \n14997      4.0     False       11044   777    216         10781   \n14998      1.0     False        3935   774    196          1592   \n14999      1.0     False       11067   774    196          6658   \n\n                                              reviewText  \\\n0       materials arrived early    excellent conditio...   \n1        really enjoying  book   worksheets  make  re...   \n2         taking  class dont waste  money    called b...   \n3       book  missing pages important pages  couldnt ...   \n4        used learnsmart   officially say     amazing...   \n...                                                  ...   \n14995  ok ok   50 years old   bought  game   like  wa...   \n14996  ive playled   nancy drew games   game  one    ...   \n14997     third nancy drew game    played  others  tr...   \n14998   software came installed   new pc almost every...   \n14999  im back  mcafees tech support  took  12 hours ...   \n\n                             summary  unixReviewTime  vote  \n0                     Material Great            4076     3  \n1                             Health            4060     3  \n2                 ARE YOU KIDING ME?            4054     5  \n3                    missing pages!!            4054     1  \n4      Best study product out there!            3949     3  \n...                              ...             ...   ...  \n14995               Fun and Engaging            1425     4  \n14996           One of my favourites            1374     0  \n14997           it just gets better.            1358    14  \n14998                      STAY AWAY            1385     2  \n14999         Terrible waste of time            1360     3  \n\n[15000 rows x 10 columns]",
            "text/html": "<div>\n<style scoped>\n    .dataframe tbody tr th:only-of-type {\n        vertical-align: middle;\n    }\n\n    .dataframe tbody tr th {\n        vertical-align: top;\n    }\n\n    .dataframe thead th {\n        text-align: right;\n    }\n</style>\n<table border=\"1\" class=\"dataframe\">\n  <thead>\n    <tr style=\"text-align: right;\">\n      <th></th>\n      <th>overall</th>\n      <th>verified</th>\n      <th>reviewerID</th>\n      <th>asin</th>\n      <th>style</th>\n      <th>reviewerName</th>\n      <th>reviewText</th>\n      <th>summary</th>\n      <th>unixReviewTime</th>\n      <th>vote</th>\n    </tr>\n  </thead>\n  <tbody>\n    <tr>\n      <th>0</th>\n      <td>4.0</td>\n      <td>True</td>\n      <td>4147</td>\n      <td>0</td>\n      <td>204</td>\n      <td>6873</td>\n      <td>materials arrived early    excellent conditio...</td>\n      <td>Material Great</td>\n      <td>4076</td>\n      <td>3</td>\n    </tr>\n    <tr>\n      <th>1</th>\n      <td>4.0</td>\n      <td>True</td>\n      <td>3533</td>\n      <td>0</td>\n      <td>204</td>\n      <td>8579</td>\n      <td>really enjoying  book   worksheets  make  re...</td>\n      <td>Health</td>\n      <td>4060</td>\n      <td>3</td>\n    </tr>\n    <tr>\n      <th>2</th>\n      <td>1.0</td>\n      <td>True</td>\n      <td>1208</td>\n      <td>0</td>\n      <td>204</td>\n      <td>386</td>\n      <td>taking  class dont waste  money    called b...</td>\n      <td>ARE YOU KIDING ME?</td>\n      <td>4054</td>\n      <td>5</td>\n    </tr>\n    <tr>\n      <th>3</th>\n      <td>3.0</td>\n      <td>True</td>\n      <td>12790</td>\n      <td>0</td>\n      <td>204</td>\n      <td>6103</td>\n      <td>book  missing pages important pages  couldnt ...</td>\n      <td>missing pages!!</td>\n      <td>4054</td>\n      <td>1</td>\n    </tr>\n    <tr>\n      <th>4</th>\n      <td>5.0</td>\n      <td>False</td>\n      <td>5722</td>\n      <td>1</td>\n      <td>196</td>\n      <td>325</td>\n      <td>used learnsmart   officially say     amazing...</td>\n      <td>Best study product out there!</td>\n      <td>3949</td>\n      <td>3</td>\n    </tr>\n    <tr>\n      <th>...</th>\n      <td>...</td>\n      <td>...</td>\n      <td>...</td>\n      <td>...</td>\n      <td>...</td>\n      <td>...</td>\n      <td>...</td>\n      <td>...</td>\n      <td>...</td>\n      <td>...</td>\n    </tr>\n    <tr>\n      <th>14995</th>\n      <td>4.0</td>\n      <td>False</td>\n      <td>5404</td>\n      <td>777</td>\n      <td>216</td>\n      <td>302</td>\n      <td>ok ok   50 years old   bought  game   like  wa...</td>\n      <td>Fun and Engaging</td>\n      <td>1425</td>\n      <td>4</td>\n    </tr>\n    <tr>\n      <th>14996</th>\n      <td>5.0</td>\n      <td>False</td>\n      <td>8412</td>\n      <td>777</td>\n      <td>216</td>\n      <td>433</td>\n      <td>ive playled   nancy drew games   game  one    ...</td>\n      <td>One of my favourites</td>\n      <td>1374</td>\n      <td>0</td>\n    </tr>\n    <tr>\n      <th>14997</th>\n      <td>4.0</td>\n      <td>False</td>\n      <td>11044</td>\n      <td>777</td>\n      <td>216</td>\n      <td>10781</td>\n      <td>third nancy drew game    played  others  tr...</td>\n      <td>it just gets better.</td>\n      <td>1358</td>\n      <td>14</td>\n    </tr>\n    <tr>\n      <th>14998</th>\n      <td>1.0</td>\n      <td>False</td>\n      <td>3935</td>\n      <td>774</td>\n      <td>196</td>\n      <td>1592</td>\n      <td>software came installed   new pc almost every...</td>\n      <td>STAY AWAY</td>\n      <td>1385</td>\n      <td>2</td>\n    </tr>\n    <tr>\n      <th>14999</th>\n      <td>1.0</td>\n      <td>False</td>\n      <td>11067</td>\n      <td>774</td>\n      <td>196</td>\n      <td>6658</td>\n      <td>im back  mcafees tech support  took  12 hours ...</td>\n      <td>Terrible waste of time</td>\n      <td>1360</td>\n      <td>3</td>\n    </tr>\n  </tbody>\n</table>\n<p>15000 rows × 10 columns</p>\n</div>"
          },
          "metadata": {}
        }
      ]
    },
    {
      "cell_type": "code",
      "source": [
        "df1"
      ],
      "metadata": {
        "colab": {
          "base_uri": "https://localhost:8080/",
          "height": 424
        },
        "id": "mLPgBqDYcvov",
        "outputId": "3b597e4c-a2ab-4ccf-94d8-0ea588cfc09f",
        "execution": {
          "iopub.status.busy": "2024-08-28T02:50:47.927737Z",
          "iopub.execute_input": "2024-08-28T02:50:47.928170Z",
          "iopub.status.idle": "2024-08-28T02:50:47.945106Z",
          "shell.execute_reply.started": "2024-08-28T02:50:47.928127Z",
          "shell.execute_reply": "2024-08-28T02:50:47.943895Z"
        },
        "trusted": true
      },
      "execution_count": null,
      "outputs": [
        {
          "execution_count": 77,
          "output_type": "execute_result",
          "data": {
            "text/plain": "       overall  verified  reviewerID  asin  style  reviewerName  \\\n0          4.0      True        4147     0    204          6873   \n1          4.0      True        3533     0    204          8579   \n2          1.0      True        1208     0    204           386   \n3          3.0      True       12790     0    204          6103   \n4          5.0     False        5722     1    196           325   \n...        ...       ...         ...   ...    ...           ...   \n14995      4.0     False        5404   777    216           302   \n14996      5.0     False        8412   777    216           433   \n14997      4.0     False       11044   777    216         10781   \n14998      1.0     False        3935   774    196          1592   \n14999      1.0     False       11067   774    196          6658   \n\n                                              reviewText  \\\n0       materials arrived early    excellent conditio...   \n1        really enjoying  book   worksheets  make  re...   \n2         taking  class dont waste  money    called b...   \n3       book  missing pages important pages  couldnt ...   \n4        used learnsmart   officially say     amazing...   \n...                                                  ...   \n14995  ok ok   50 years old   bought  game   like  wa...   \n14996  ive playled   nancy drew games   game  one    ...   \n14997     third nancy drew game    played  others  tr...   \n14998   software came installed   new pc almost every...   \n14999  im back  mcafees tech support  took  12 hours ...   \n\n                             summary  unixReviewTime  vote  \n0                     Material Great            4076     3  \n1                             Health            4060     3  \n2                 ARE YOU KIDING ME?            4054     5  \n3                    missing pages!!            4054     1  \n4      Best study product out there!            3949     3  \n...                              ...             ...   ...  \n14995               Fun and Engaging            1425     4  \n14996           One of my favourites            1374     0  \n14997           it just gets better.            1358    14  \n14998                      STAY AWAY            1385     2  \n14999         Terrible waste of time            1360     3  \n\n[15000 rows x 10 columns]",
            "text/html": "<div>\n<style scoped>\n    .dataframe tbody tr th:only-of-type {\n        vertical-align: middle;\n    }\n\n    .dataframe tbody tr th {\n        vertical-align: top;\n    }\n\n    .dataframe thead th {\n        text-align: right;\n    }\n</style>\n<table border=\"1\" class=\"dataframe\">\n  <thead>\n    <tr style=\"text-align: right;\">\n      <th></th>\n      <th>overall</th>\n      <th>verified</th>\n      <th>reviewerID</th>\n      <th>asin</th>\n      <th>style</th>\n      <th>reviewerName</th>\n      <th>reviewText</th>\n      <th>summary</th>\n      <th>unixReviewTime</th>\n      <th>vote</th>\n    </tr>\n  </thead>\n  <tbody>\n    <tr>\n      <th>0</th>\n      <td>4.0</td>\n      <td>True</td>\n      <td>4147</td>\n      <td>0</td>\n      <td>204</td>\n      <td>6873</td>\n      <td>materials arrived early    excellent conditio...</td>\n      <td>Material Great</td>\n      <td>4076</td>\n      <td>3</td>\n    </tr>\n    <tr>\n      <th>1</th>\n      <td>4.0</td>\n      <td>True</td>\n      <td>3533</td>\n      <td>0</td>\n      <td>204</td>\n      <td>8579</td>\n      <td>really enjoying  book   worksheets  make  re...</td>\n      <td>Health</td>\n      <td>4060</td>\n      <td>3</td>\n    </tr>\n    <tr>\n      <th>2</th>\n      <td>1.0</td>\n      <td>True</td>\n      <td>1208</td>\n      <td>0</td>\n      <td>204</td>\n      <td>386</td>\n      <td>taking  class dont waste  money    called b...</td>\n      <td>ARE YOU KIDING ME?</td>\n      <td>4054</td>\n      <td>5</td>\n    </tr>\n    <tr>\n      <th>3</th>\n      <td>3.0</td>\n      <td>True</td>\n      <td>12790</td>\n      <td>0</td>\n      <td>204</td>\n      <td>6103</td>\n      <td>book  missing pages important pages  couldnt ...</td>\n      <td>missing pages!!</td>\n      <td>4054</td>\n      <td>1</td>\n    </tr>\n    <tr>\n      <th>4</th>\n      <td>5.0</td>\n      <td>False</td>\n      <td>5722</td>\n      <td>1</td>\n      <td>196</td>\n      <td>325</td>\n      <td>used learnsmart   officially say     amazing...</td>\n      <td>Best study product out there!</td>\n      <td>3949</td>\n      <td>3</td>\n    </tr>\n    <tr>\n      <th>...</th>\n      <td>...</td>\n      <td>...</td>\n      <td>...</td>\n      <td>...</td>\n      <td>...</td>\n      <td>...</td>\n      <td>...</td>\n      <td>...</td>\n      <td>...</td>\n      <td>...</td>\n    </tr>\n    <tr>\n      <th>14995</th>\n      <td>4.0</td>\n      <td>False</td>\n      <td>5404</td>\n      <td>777</td>\n      <td>216</td>\n      <td>302</td>\n      <td>ok ok   50 years old   bought  game   like  wa...</td>\n      <td>Fun and Engaging</td>\n      <td>1425</td>\n      <td>4</td>\n    </tr>\n    <tr>\n      <th>14996</th>\n      <td>5.0</td>\n      <td>False</td>\n      <td>8412</td>\n      <td>777</td>\n      <td>216</td>\n      <td>433</td>\n      <td>ive playled   nancy drew games   game  one    ...</td>\n      <td>One of my favourites</td>\n      <td>1374</td>\n      <td>0</td>\n    </tr>\n    <tr>\n      <th>14997</th>\n      <td>4.0</td>\n      <td>False</td>\n      <td>11044</td>\n      <td>777</td>\n      <td>216</td>\n      <td>10781</td>\n      <td>third nancy drew game    played  others  tr...</td>\n      <td>it just gets better.</td>\n      <td>1358</td>\n      <td>14</td>\n    </tr>\n    <tr>\n      <th>14998</th>\n      <td>1.0</td>\n      <td>False</td>\n      <td>3935</td>\n      <td>774</td>\n      <td>196</td>\n      <td>1592</td>\n      <td>software came installed   new pc almost every...</td>\n      <td>STAY AWAY</td>\n      <td>1385</td>\n      <td>2</td>\n    </tr>\n    <tr>\n      <th>14999</th>\n      <td>1.0</td>\n      <td>False</td>\n      <td>11067</td>\n      <td>774</td>\n      <td>196</td>\n      <td>6658</td>\n      <td>im back  mcafees tech support  took  12 hours ...</td>\n      <td>Terrible waste of time</td>\n      <td>1360</td>\n      <td>3</td>\n    </tr>\n  </tbody>\n</table>\n<p>15000 rows × 10 columns</p>\n</div>"
          },
          "metadata": {}
        }
      ]
    },
    {
      "cell_type": "code",
      "source": [
        "df1.shape"
      ],
      "metadata": {
        "id": "p0RXtkcqeKPe",
        "colab": {
          "base_uri": "https://localhost:8080/"
        },
        "outputId": "d55ed60a-8db6-4534-a96e-3d0458fd3d9e",
        "execution": {
          "iopub.status.busy": "2024-08-28T02:50:49.129233Z",
          "iopub.execute_input": "2024-08-28T02:50:49.129681Z",
          "iopub.status.idle": "2024-08-28T02:50:49.137197Z",
          "shell.execute_reply.started": "2024-08-28T02:50:49.129638Z",
          "shell.execute_reply": "2024-08-28T02:50:49.135988Z"
        },
        "trusted": true
      },
      "execution_count": null,
      "outputs": [
        {
          "execution_count": 78,
          "output_type": "execute_result",
          "data": {
            "text/plain": "(15000, 10)"
          },
          "metadata": {}
        }
      ]
    },
    {
      "cell_type": "code",
      "source": [
        "import nltk\n",
        "from nltk.stem import PorterStemmer\n"
      ],
      "metadata": {
        "id": "Beigr-b0uf1d",
        "execution": {
          "iopub.status.busy": "2024-08-28T02:50:50.140345Z",
          "iopub.execute_input": "2024-08-28T02:50:50.140754Z",
          "iopub.status.idle": "2024-08-28T02:50:50.145332Z",
          "shell.execute_reply.started": "2024-08-28T02:50:50.140716Z",
          "shell.execute_reply": "2024-08-28T02:50:50.144249Z"
        },
        "trusted": true
      },
      "execution_count": null,
      "outputs": []
    },
    {
      "cell_type": "code",
      "source": [
        "nltk.download('punkt')\n"
      ],
      "metadata": {
        "colab": {
          "base_uri": "https://localhost:8080/"
        },
        "id": "tJxQOZCzuctS",
        "outputId": "b6e76d8e-cc22-40b5-aa6c-c0dee5bed8e8",
        "execution": {
          "iopub.status.busy": "2024-08-28T02:51:20.797436Z",
          "iopub.execute_input": "2024-08-28T02:51:20.798152Z",
          "iopub.status.idle": "2024-08-28T02:51:40.840962Z",
          "shell.execute_reply.started": "2024-08-28T02:51:20.798108Z",
          "shell.execute_reply": "2024-08-28T02:51:40.839599Z"
        },
        "trusted": true
      },
      "execution_count": null,
      "outputs": [
        {
          "name": "stdout",
          "text": "[nltk_data] Error loading punkt: <urlopen error [Errno -3] Temporary\n[nltk_data]     failure in name resolution>\n",
          "output_type": "stream"
        },
        {
          "execution_count": 82,
          "output_type": "execute_result",
          "data": {
            "text/plain": "False"
          },
          "metadata": {}
        }
      ]
    },
    {
      "cell_type": "code",
      "source": [
        "stemmer = PorterStemmer()\n"
      ],
      "metadata": {
        "id": "6TNjTjbWuaQP",
        "execution": {
          "iopub.status.busy": "2024-08-28T02:52:48.099764Z",
          "iopub.execute_input": "2024-08-28T02:52:48.100156Z",
          "iopub.status.idle": "2024-08-28T02:52:48.105418Z",
          "shell.execute_reply.started": "2024-08-28T02:52:48.100118Z",
          "shell.execute_reply": "2024-08-28T02:52:48.104228Z"
        },
        "trusted": true
      },
      "execution_count": null,
      "outputs": []
    },
    {
      "cell_type": "code",
      "source": [
        "import pandas as pd\n",
        "# Apply stemming\n",
        "df1['reviewText'] = df1['reviewText'].apply(lambda x: ' '.join([stemmer.stem(word) for word in x.split()]))\n",
        "\n"
      ],
      "metadata": {
        "id": "OyQf3z01t9j3",
        "execution": {
          "iopub.status.busy": "2024-08-28T02:52:51.267470Z",
          "iopub.execute_input": "2024-08-28T02:52:51.267898Z",
          "iopub.status.idle": "2024-08-28T02:53:15.512811Z",
          "shell.execute_reply.started": "2024-08-28T02:52:51.267852Z",
          "shell.execute_reply": "2024-08-28T02:53:15.511653Z"
        },
        "trusted": true
      },
      "execution_count": null,
      "outputs": []
    },
    {
      "cell_type": "code",
      "source": [
        "df1['reviewText']"
      ],
      "metadata": {
        "colab": {
          "base_uri": "https://localhost:8080/",
          "height": 458
        },
        "id": "y84y7jkUuiNC",
        "outputId": "8b457fb3-e1c5-48da-a62e-cdc14b0dc006",
        "execution": {
          "iopub.status.busy": "2024-08-28T02:53:15.515140Z",
          "iopub.execute_input": "2024-08-28T02:53:15.516118Z",
          "iopub.status.idle": "2024-08-28T02:53:15.524614Z",
          "shell.execute_reply.started": "2024-08-28T02:53:15.516006Z",
          "shell.execute_reply": "2024-08-28T02:53:15.523516Z"
        },
        "trusted": true
      },
      "execution_count": null,
      "outputs": [
        {
          "execution_count": 85,
          "output_type": "execute_result",
          "data": {
            "text/plain": "0        materi arriv earli excel condit howev money sp...\n1        realli enjoy book worksheet make review goal m...\n2        take class dont wast money call book 14000 boo...\n3        book miss page import page couldnt answer test...\n4        use learnsmart offici say amaz studi tool quic...\n                               ...                        \n14995    ok ok 50 year old bought game like watch old n...\n14996    ive playl nanci drew game game one favourit ga...\n14997    third nanci drew game play other treasur royal...\n14998    softwar came instal new pc almost everytim wen...\n14999    im back mcafe tech support took 12 hour first ...\nName: reviewText, Length: 15000, dtype: object"
          },
          "metadata": {}
        }
      ]
    },
    {
      "cell_type": "code",
      "source": [
        "df1['summary'] = df1['summary'].str.lower()"
      ],
      "metadata": {
        "id": "RP-8dKW_vPxH",
        "execution": {
          "iopub.status.busy": "2024-08-28T02:53:18.454430Z",
          "iopub.execute_input": "2024-08-28T02:53:18.454881Z",
          "iopub.status.idle": "2024-08-28T02:53:18.465447Z",
          "shell.execute_reply.started": "2024-08-28T02:53:18.454836Z",
          "shell.execute_reply": "2024-08-28T02:53:18.464051Z"
        },
        "trusted": true
      },
      "execution_count": null,
      "outputs": []
    },
    {
      "cell_type": "code",
      "source": [
        "import re  #Regular Expressions\n",
        "def remove_html_tags(text):\n",
        "    pattern = re.compile('<.*?>')\n",
        "    return pattern.sub(r'', text)"
      ],
      "metadata": {
        "id": "UPIirwPxv55p",
        "execution": {
          "iopub.status.busy": "2024-08-28T02:53:23.645205Z",
          "iopub.execute_input": "2024-08-28T02:53:23.645649Z",
          "iopub.status.idle": "2024-08-28T02:53:23.651578Z",
          "shell.execute_reply.started": "2024-08-28T02:53:23.645601Z",
          "shell.execute_reply": "2024-08-28T02:53:23.650372Z"
        },
        "trusted": true
      },
      "execution_count": null,
      "outputs": []
    },
    {
      "cell_type": "code",
      "source": [
        "df1['summary'] = df1['summary'].apply(remove_html_tags)"
      ],
      "metadata": {
        "id": "pCrBuv40wFuo",
        "execution": {
          "iopub.status.busy": "2024-08-28T02:53:25.346589Z",
          "iopub.execute_input": "2024-08-28T02:53:25.347385Z",
          "iopub.status.idle": "2024-08-28T02:53:25.370498Z",
          "shell.execute_reply.started": "2024-08-28T02:53:25.347341Z",
          "shell.execute_reply": "2024-08-28T02:53:25.369369Z"
        },
        "trusted": true
      },
      "execution_count": null,
      "outputs": []
    },
    {
      "cell_type": "code",
      "source": [
        "import string,time\n",
        "string.punctuation"
      ],
      "metadata": {
        "colab": {
          "base_uri": "https://localhost:8080/",
          "height": 35
        },
        "id": "KW30LJJyyF0_",
        "outputId": "cf10edd3-e522-421c-a497-0c96bff32110",
        "execution": {
          "iopub.status.busy": "2024-08-28T02:53:28.168389Z",
          "iopub.execute_input": "2024-08-28T02:53:28.169400Z",
          "iopub.status.idle": "2024-08-28T02:53:28.175924Z",
          "shell.execute_reply.started": "2024-08-28T02:53:28.169344Z",
          "shell.execute_reply": "2024-08-28T02:53:28.174533Z"
        },
        "trusted": true
      },
      "execution_count": null,
      "outputs": [
        {
          "execution_count": 89,
          "output_type": "execute_result",
          "data": {
            "text/plain": "'!\"#$%&\\'()*+,-./:;<=>?@[\\\\]^_`{|}~'"
          },
          "metadata": {}
        }
      ]
    },
    {
      "cell_type": "code",
      "source": [
        "exclude=string.punctuation"
      ],
      "metadata": {
        "id": "cQFY0zbmyWKC",
        "execution": {
          "iopub.status.busy": "2024-08-28T02:53:29.481702Z",
          "iopub.execute_input": "2024-08-28T02:53:29.482133Z",
          "iopub.status.idle": "2024-08-28T02:53:29.486778Z",
          "shell.execute_reply.started": "2024-08-28T02:53:29.482090Z",
          "shell.execute_reply": "2024-08-28T02:53:29.485704Z"
        },
        "trusted": true
      },
      "execution_count": null,
      "outputs": []
    },
    {
      "cell_type": "code",
      "source": [
        "def remove_punc1(text):\n",
        "    return text.translate(str.maketrans('','',exclude))"
      ],
      "metadata": {
        "id": "oKXV8uY-yfNZ",
        "execution": {
          "iopub.status.busy": "2024-08-28T02:53:31.889007Z",
          "iopub.execute_input": "2024-08-28T02:53:31.889456Z",
          "iopub.status.idle": "2024-08-28T02:53:31.894728Z",
          "shell.execute_reply.started": "2024-08-28T02:53:31.889411Z",
          "shell.execute_reply": "2024-08-28T02:53:31.893568Z"
        },
        "trusted": true
      },
      "execution_count": null,
      "outputs": []
    },
    {
      "cell_type": "code",
      "source": [
        "df1['summary']=df1['summary'].apply(remove_punc1)"
      ],
      "metadata": {
        "id": "qspPzd19zN1y",
        "execution": {
          "iopub.status.busy": "2024-08-28T02:53:33.537176Z",
          "iopub.execute_input": "2024-08-28T02:53:33.538272Z",
          "iopub.status.idle": "2024-08-28T02:53:33.600558Z",
          "shell.execute_reply.started": "2024-08-28T02:53:33.538222Z",
          "shell.execute_reply": "2024-08-28T02:53:33.599395Z"
        },
        "trusted": true
      },
      "execution_count": null,
      "outputs": []
    },
    {
      "cell_type": "code",
      "source": [
        "import nltk\n",
        "nltk.download('stopwords')"
      ],
      "metadata": {
        "colab": {
          "base_uri": "https://localhost:8080/"
        },
        "id": "_zuZ1ov4zWcK",
        "outputId": "b075bf08-0409-496b-e048-2ab214fd6bf5",
        "execution": {
          "iopub.status.busy": "2024-08-28T02:53:35.879769Z",
          "iopub.execute_input": "2024-08-28T02:53:35.880204Z",
          "iopub.status.idle": "2024-08-28T02:53:55.922490Z",
          "shell.execute_reply.started": "2024-08-28T02:53:35.880160Z",
          "shell.execute_reply": "2024-08-28T02:53:55.921346Z"
        },
        "trusted": true
      },
      "execution_count": null,
      "outputs": [
        {
          "name": "stdout",
          "text": "[nltk_data] Error loading stopwords: <urlopen error [Errno -3]\n[nltk_data]     Temporary failure in name resolution>\n",
          "output_type": "stream"
        },
        {
          "execution_count": 93,
          "output_type": "execute_result",
          "data": {
            "text/plain": "False"
          },
          "metadata": {}
        }
      ]
    },
    {
      "cell_type": "code",
      "source": [
        "stopwords.words('english')"
      ],
      "metadata": {
        "colab": {
          "base_uri": "https://localhost:8080/"
        },
        "id": "yrjSobk5zzHI",
        "outputId": "082e976e-6aee-4c31-e15b-8d8cbb1c2a01",
        "execution": {
          "iopub.status.busy": "2024-08-28T02:53:55.924160Z",
          "iopub.execute_input": "2024-08-28T02:53:55.924537Z",
          "iopub.status.idle": "2024-08-28T02:53:55.934682Z",
          "shell.execute_reply.started": "2024-08-28T02:53:55.924498Z",
          "shell.execute_reply": "2024-08-28T02:53:55.933373Z"
        },
        "trusted": true
      },
      "execution_count": null,
      "outputs": [
        {
          "execution_count": 94,
          "output_type": "execute_result",
          "data": {
            "text/plain": "['i',\n 'me',\n 'my',\n 'myself',\n 'we',\n 'our',\n 'ours',\n 'ourselves',\n 'you',\n \"you're\",\n \"you've\",\n \"you'll\",\n \"you'd\",\n 'your',\n 'yours',\n 'yourself',\n 'yourselves',\n 'he',\n 'him',\n 'his',\n 'himself',\n 'she',\n \"she's\",\n 'her',\n 'hers',\n 'herself',\n 'it',\n \"it's\",\n 'its',\n 'itself',\n 'they',\n 'them',\n 'their',\n 'theirs',\n 'themselves',\n 'what',\n 'which',\n 'who',\n 'whom',\n 'this',\n 'that',\n \"that'll\",\n 'these',\n 'those',\n 'am',\n 'is',\n 'are',\n 'was',\n 'were',\n 'be',\n 'been',\n 'being',\n 'have',\n 'has',\n 'had',\n 'having',\n 'do',\n 'does',\n 'did',\n 'doing',\n 'a',\n 'an',\n 'the',\n 'and',\n 'but',\n 'if',\n 'or',\n 'because',\n 'as',\n 'until',\n 'while',\n 'of',\n 'at',\n 'by',\n 'for',\n 'with',\n 'about',\n 'against',\n 'between',\n 'into',\n 'through',\n 'during',\n 'before',\n 'after',\n 'above',\n 'below',\n 'to',\n 'from',\n 'up',\n 'down',\n 'in',\n 'out',\n 'on',\n 'off',\n 'over',\n 'under',\n 'again',\n 'further',\n 'then',\n 'once',\n 'here',\n 'there',\n 'when',\n 'where',\n 'why',\n 'how',\n 'all',\n 'any',\n 'both',\n 'each',\n 'few',\n 'more',\n 'most',\n 'other',\n 'some',\n 'such',\n 'no',\n 'nor',\n 'not',\n 'only',\n 'own',\n 'same',\n 'so',\n 'than',\n 'too',\n 'very',\n 's',\n 't',\n 'can',\n 'will',\n 'just',\n 'don',\n \"don't\",\n 'should',\n \"should've\",\n 'now',\n 'd',\n 'll',\n 'm',\n 'o',\n 're',\n 've',\n 'y',\n 'ain',\n 'aren',\n \"aren't\",\n 'couldn',\n \"couldn't\",\n 'didn',\n \"didn't\",\n 'doesn',\n \"doesn't\",\n 'hadn',\n \"hadn't\",\n 'hasn',\n \"hasn't\",\n 'haven',\n \"haven't\",\n 'isn',\n \"isn't\",\n 'ma',\n 'mightn',\n \"mightn't\",\n 'mustn',\n \"mustn't\",\n 'needn',\n \"needn't\",\n 'shan',\n \"shan't\",\n 'shouldn',\n \"shouldn't\",\n 'wasn',\n \"wasn't\",\n 'weren',\n \"weren't\",\n 'won',\n \"won't\",\n 'wouldn',\n \"wouldn't\"]"
          },
          "metadata": {}
        }
      ]
    },
    {
      "cell_type": "code",
      "source": [
        "def remove_stopwords(text):\n",
        "    new_text = []\n",
        "\n",
        "    for word in text.split():\n",
        "        if word in stopwords.words('english'):\n",
        "            new_text.append('')\n",
        "        else:\n",
        "            new_text.append(word)\n",
        "    x = new_text[:]\n",
        "    new_text.clear()\n",
        "    return \" \".join(x)"
      ],
      "metadata": {
        "id": "PqkMGsdMz2GH",
        "execution": {
          "iopub.status.busy": "2024-08-28T02:54:14.731860Z",
          "iopub.execute_input": "2024-08-28T02:54:14.732271Z",
          "iopub.status.idle": "2024-08-28T02:54:14.738838Z",
          "shell.execute_reply.started": "2024-08-28T02:54:14.732231Z",
          "shell.execute_reply": "2024-08-28T02:54:14.737618Z"
        },
        "trusted": true
      },
      "execution_count": null,
      "outputs": []
    },
    {
      "cell_type": "code",
      "source": [
        "df1['summary']=df1['summary'].apply(remove_stopwords)"
      ],
      "metadata": {
        "id": "v_2W5MU60AMT",
        "execution": {
          "iopub.status.busy": "2024-08-28T02:54:16.188378Z",
          "iopub.execute_input": "2024-08-28T02:54:16.188770Z",
          "iopub.status.idle": "2024-08-28T02:54:24.720993Z",
          "shell.execute_reply.started": "2024-08-28T02:54:16.188732Z",
          "shell.execute_reply": "2024-08-28T02:54:24.719869Z"
        },
        "trusted": true
      },
      "execution_count": null,
      "outputs": []
    },
    {
      "cell_type": "code",
      "source": [
        "df1"
      ],
      "metadata": {
        "colab": {
          "base_uri": "https://localhost:8080/",
          "height": 424
        },
        "id": "w-Hf2ord0GzW",
        "outputId": "26572bae-c661-4f61-de0e-ecacecc126e1",
        "execution": {
          "iopub.status.busy": "2024-08-28T02:54:30.473727Z",
          "iopub.execute_input": "2024-08-28T02:54:30.474179Z",
          "iopub.status.idle": "2024-08-28T02:54:30.493409Z",
          "shell.execute_reply.started": "2024-08-28T02:54:30.474134Z",
          "shell.execute_reply": "2024-08-28T02:54:30.492276Z"
        },
        "trusted": true
      },
      "execution_count": null,
      "outputs": [
        {
          "execution_count": 97,
          "output_type": "execute_result",
          "data": {
            "text/plain": "       overall  verified  reviewerID  asin  style  reviewerName  \\\n0          4.0      True        4147     0    204          6873   \n1          4.0      True        3533     0    204          8579   \n2          1.0      True        1208     0    204           386   \n3          3.0      True       12790     0    204          6103   \n4          5.0     False        5722     1    196           325   \n...        ...       ...         ...   ...    ...           ...   \n14995      4.0     False        5404   777    216           302   \n14996      5.0     False        8412   777    216           433   \n14997      4.0     False       11044   777    216         10781   \n14998      1.0     False        3935   774    196          1592   \n14999      1.0     False       11067   774    196          6658   \n\n                                              reviewText  \\\n0      materi arriv earli excel condit howev money sp...   \n1      realli enjoy book worksheet make review goal m...   \n2      take class dont wast money call book 14000 boo...   \n3      book miss page import page couldnt answer test...   \n4      use learnsmart offici say amaz studi tool quic...   \n...                                                  ...   \n14995  ok ok 50 year old bought game like watch old n...   \n14996  ive playl nanci drew game game one favourit ga...   \n14997  third nanci drew game play other treasur royal...   \n14998  softwar came instal new pc almost everytim wen...   \n14999  im back mcafe tech support took 12 hour first ...   \n\n                    summary  unixReviewTime  vote  \n0            material great            4076     3  \n1                    health            4060     3  \n2                   kiding             4054     5  \n3             missing pages            4054     1  \n4      best study product              3949     3  \n...                     ...             ...   ...  \n14995         fun  engaging            1425     4  \n14996      one   favourites            1374     0  \n14997           gets better            1358    14  \n14998             stay away            1385     2  \n14999  terrible waste  time            1360     3  \n\n[15000 rows x 10 columns]",
            "text/html": "<div>\n<style scoped>\n    .dataframe tbody tr th:only-of-type {\n        vertical-align: middle;\n    }\n\n    .dataframe tbody tr th {\n        vertical-align: top;\n    }\n\n    .dataframe thead th {\n        text-align: right;\n    }\n</style>\n<table border=\"1\" class=\"dataframe\">\n  <thead>\n    <tr style=\"text-align: right;\">\n      <th></th>\n      <th>overall</th>\n      <th>verified</th>\n      <th>reviewerID</th>\n      <th>asin</th>\n      <th>style</th>\n      <th>reviewerName</th>\n      <th>reviewText</th>\n      <th>summary</th>\n      <th>unixReviewTime</th>\n      <th>vote</th>\n    </tr>\n  </thead>\n  <tbody>\n    <tr>\n      <th>0</th>\n      <td>4.0</td>\n      <td>True</td>\n      <td>4147</td>\n      <td>0</td>\n      <td>204</td>\n      <td>6873</td>\n      <td>materi arriv earli excel condit howev money sp...</td>\n      <td>material great</td>\n      <td>4076</td>\n      <td>3</td>\n    </tr>\n    <tr>\n      <th>1</th>\n      <td>4.0</td>\n      <td>True</td>\n      <td>3533</td>\n      <td>0</td>\n      <td>204</td>\n      <td>8579</td>\n      <td>realli enjoy book worksheet make review goal m...</td>\n      <td>health</td>\n      <td>4060</td>\n      <td>3</td>\n    </tr>\n    <tr>\n      <th>2</th>\n      <td>1.0</td>\n      <td>True</td>\n      <td>1208</td>\n      <td>0</td>\n      <td>204</td>\n      <td>386</td>\n      <td>take class dont wast money call book 14000 boo...</td>\n      <td>kiding</td>\n      <td>4054</td>\n      <td>5</td>\n    </tr>\n    <tr>\n      <th>3</th>\n      <td>3.0</td>\n      <td>True</td>\n      <td>12790</td>\n      <td>0</td>\n      <td>204</td>\n      <td>6103</td>\n      <td>book miss page import page couldnt answer test...</td>\n      <td>missing pages</td>\n      <td>4054</td>\n      <td>1</td>\n    </tr>\n    <tr>\n      <th>4</th>\n      <td>5.0</td>\n      <td>False</td>\n      <td>5722</td>\n      <td>1</td>\n      <td>196</td>\n      <td>325</td>\n      <td>use learnsmart offici say amaz studi tool quic...</td>\n      <td>best study product</td>\n      <td>3949</td>\n      <td>3</td>\n    </tr>\n    <tr>\n      <th>...</th>\n      <td>...</td>\n      <td>...</td>\n      <td>...</td>\n      <td>...</td>\n      <td>...</td>\n      <td>...</td>\n      <td>...</td>\n      <td>...</td>\n      <td>...</td>\n      <td>...</td>\n    </tr>\n    <tr>\n      <th>14995</th>\n      <td>4.0</td>\n      <td>False</td>\n      <td>5404</td>\n      <td>777</td>\n      <td>216</td>\n      <td>302</td>\n      <td>ok ok 50 year old bought game like watch old n...</td>\n      <td>fun  engaging</td>\n      <td>1425</td>\n      <td>4</td>\n    </tr>\n    <tr>\n      <th>14996</th>\n      <td>5.0</td>\n      <td>False</td>\n      <td>8412</td>\n      <td>777</td>\n      <td>216</td>\n      <td>433</td>\n      <td>ive playl nanci drew game game one favourit ga...</td>\n      <td>one   favourites</td>\n      <td>1374</td>\n      <td>0</td>\n    </tr>\n    <tr>\n      <th>14997</th>\n      <td>4.0</td>\n      <td>False</td>\n      <td>11044</td>\n      <td>777</td>\n      <td>216</td>\n      <td>10781</td>\n      <td>third nanci drew game play other treasur royal...</td>\n      <td>gets better</td>\n      <td>1358</td>\n      <td>14</td>\n    </tr>\n    <tr>\n      <th>14998</th>\n      <td>1.0</td>\n      <td>False</td>\n      <td>3935</td>\n      <td>774</td>\n      <td>196</td>\n      <td>1592</td>\n      <td>softwar came instal new pc almost everytim wen...</td>\n      <td>stay away</td>\n      <td>1385</td>\n      <td>2</td>\n    </tr>\n    <tr>\n      <th>14999</th>\n      <td>1.0</td>\n      <td>False</td>\n      <td>11067</td>\n      <td>774</td>\n      <td>196</td>\n      <td>6658</td>\n      <td>im back mcafe tech support took 12 hour first ...</td>\n      <td>terrible waste  time</td>\n      <td>1360</td>\n      <td>3</td>\n    </tr>\n  </tbody>\n</table>\n<p>15000 rows × 10 columns</p>\n</div>"
          },
          "metadata": {}
        }
      ]
    },
    {
      "cell_type": "code",
      "source": [
        "import pandas as pd\n",
        "from nltk.stem import PorterStemmer\n",
        "import nltk\n",
        "\n",
        "# Download NLTK data (only needed once)\n",
        "nltk.download('punkt')\n"
      ],
      "metadata": {
        "colab": {
          "base_uri": "https://localhost:8080/"
        },
        "id": "LARPpXvd0iq1",
        "outputId": "7c1afdc0-41c8-40e6-cd11-86dc94fecc78",
        "execution": {
          "iopub.status.busy": "2024-08-28T02:54:31.566703Z",
          "iopub.execute_input": "2024-08-28T02:54:31.567100Z",
          "iopub.status.idle": "2024-08-28T02:54:51.609580Z",
          "shell.execute_reply.started": "2024-08-28T02:54:31.567062Z",
          "shell.execute_reply": "2024-08-28T02:54:51.608377Z"
        },
        "trusted": true
      },
      "execution_count": null,
      "outputs": [
        {
          "name": "stdout",
          "text": "[nltk_data] Error loading punkt: <urlopen error [Errno -3] Temporary\n[nltk_data]     failure in name resolution>\n",
          "output_type": "stream"
        },
        {
          "execution_count": 98,
          "output_type": "execute_result",
          "data": {
            "text/plain": "False"
          },
          "metadata": {}
        }
      ]
    },
    {
      "cell_type": "code",
      "source": [
        "stemmer = PorterStemmer()\n"
      ],
      "metadata": {
        "id": "ceWQfKND1QDW",
        "execution": {
          "iopub.status.busy": "2024-08-28T02:54:51.611289Z",
          "iopub.execute_input": "2024-08-28T02:54:51.611699Z",
          "iopub.status.idle": "2024-08-28T02:54:51.617052Z",
          "shell.execute_reply.started": "2024-08-28T02:54:51.611659Z",
          "shell.execute_reply": "2024-08-28T02:54:51.615819Z"
        },
        "trusted": true
      },
      "execution_count": null,
      "outputs": []
    },
    {
      "cell_type": "code",
      "source": [
        "def stem_text(text):\n",
        "    # Tokenize the text\n",
        "    words = nltk.word_tokenize(text)\n",
        "\n",
        "    # Apply stemming to each word\n",
        "    stemmed_words = [stemmer.stem(word) for word in words]\n",
        "\n",
        "    # Join the stemmed words back into a single string\n",
        "    return ' '.join(stemmed_words)\n"
      ],
      "metadata": {
        "id": "Bvo6_hM31Ymf",
        "execution": {
          "iopub.status.busy": "2024-08-28T02:54:54.523473Z",
          "iopub.execute_input": "2024-08-28T02:54:54.523894Z",
          "iopub.status.idle": "2024-08-28T02:54:54.529578Z",
          "shell.execute_reply.started": "2024-08-28T02:54:54.523852Z",
          "shell.execute_reply": "2024-08-28T02:54:54.528376Z"
        },
        "trusted": true
      },
      "execution_count": null,
      "outputs": []
    },
    {
      "cell_type": "code",
      "source": [
        "\n",
        "# Apply stemming\n",
        "df1['summary'] = df1['summary'].apply(stem_text)\n",
        "\n",
        "# Display the DataFram\n"
      ],
      "metadata": {
        "id": "3WCteYFh11xz",
        "execution": {
          "iopub.status.busy": "2024-08-28T02:54:57.635565Z",
          "iopub.execute_input": "2024-08-28T02:54:57.635995Z",
          "iopub.status.idle": "2024-08-28T02:55:00.342589Z",
          "shell.execute_reply.started": "2024-08-28T02:54:57.635955Z",
          "shell.execute_reply": "2024-08-28T02:55:00.341273Z"
        },
        "trusted": true
      },
      "execution_count": null,
      "outputs": []
    },
    {
      "cell_type": "code",
      "source": [
        "df1['summary']"
      ],
      "metadata": {
        "colab": {
          "base_uri": "https://localhost:8080/",
          "height": 458
        },
        "id": "pUDvtEFI1_4Z",
        "outputId": "bced428b-daba-466d-b226-bb7d2360edd1",
        "execution": {
          "iopub.status.busy": "2024-08-28T02:55:04.535409Z",
          "iopub.execute_input": "2024-08-28T02:55:04.535820Z",
          "iopub.status.idle": "2024-08-28T02:55:04.544354Z",
          "shell.execute_reply.started": "2024-08-28T02:55:04.535777Z",
          "shell.execute_reply": "2024-08-28T02:55:04.543358Z"
        },
        "trusted": true
      },
      "execution_count": null,
      "outputs": [
        {
          "execution_count": 102,
          "output_type": "execute_result",
          "data": {
            "text/plain": "0              materi great\n1                    health\n2                      kide\n3                 miss page\n4        best studi product\n                ...        \n14995             fun engag\n14996          one favourit\n14997            get better\n14998             stay away\n14999     terribl wast time\nName: summary, Length: 15000, dtype: object"
          },
          "metadata": {}
        }
      ]
    },
    {
      "cell_type": "code",
      "source": [
        "\n",
        "# Apply stemming\n",
        "df1['reviewText'] = df1['reviewText'].apply(stem_text)\n",
        "\n",
        "# Display the DataFram\n"
      ],
      "metadata": {
        "id": "QOo-6aYJ2Bff",
        "execution": {
          "iopub.status.busy": "2024-08-28T02:55:50.865430Z",
          "iopub.execute_input": "2024-08-28T02:55:50.865890Z",
          "iopub.status.idle": "2024-08-28T02:56:18.831421Z",
          "shell.execute_reply.started": "2024-08-28T02:55:50.865845Z",
          "shell.execute_reply": "2024-08-28T02:56:18.830355Z"
        },
        "trusted": true
      },
      "execution_count": null,
      "outputs": []
    },
    {
      "cell_type": "code",
      "source": [
        "#count_vectorizer"
      ],
      "metadata": {
        "id": "T5xEhN9c2glM",
        "execution": {
          "iopub.status.busy": "2024-08-28T02:56:18.833061Z",
          "iopub.execute_input": "2024-08-28T02:56:18.833435Z",
          "iopub.status.idle": "2024-08-28T02:56:18.837676Z",
          "shell.execute_reply.started": "2024-08-28T02:56:18.833396Z",
          "shell.execute_reply": "2024-08-28T02:56:18.836692Z"
        },
        "trusted": true
      },
      "execution_count": null,
      "outputs": []
    },
    {
      "cell_type": "code",
      "source": [
        "df1"
      ],
      "metadata": {
        "colab": {
          "base_uri": "https://localhost:8080/",
          "height": 424
        },
        "id": "WtBT5R3r2uQy",
        "outputId": "c4edd9a4-b891-40be-e7c4-8e3e75666e0c",
        "execution": {
          "iopub.status.busy": "2024-08-28T02:56:18.838910Z",
          "iopub.execute_input": "2024-08-28T02:56:18.839234Z",
          "iopub.status.idle": "2024-08-28T02:56:18.864824Z",
          "shell.execute_reply.started": "2024-08-28T02:56:18.839198Z",
          "shell.execute_reply": "2024-08-28T02:56:18.863763Z"
        },
        "trusted": true
      },
      "execution_count": null,
      "outputs": [
        {
          "execution_count": 106,
          "output_type": "execute_result",
          "data": {
            "text/plain": "       overall  verified  reviewerID  asin  style  reviewerName  \\\n0          4.0      True        4147     0    204          6873   \n1          4.0      True        3533     0    204          8579   \n2          1.0      True        1208     0    204           386   \n3          3.0      True       12790     0    204          6103   \n4          5.0     False        5722     1    196           325   \n...        ...       ...         ...   ...    ...           ...   \n14995      4.0     False        5404   777    216           302   \n14996      5.0     False        8412   777    216           433   \n14997      4.0     False       11044   777    216         10781   \n14998      1.0     False        3935   774    196          1592   \n14999      1.0     False       11067   774    196          6658   \n\n                                              reviewText             summary  \\\n0      materi arriv earli excel condit howev money sp...        materi great   \n1      realli enjoy book worksheet make review goal m...              health   \n2      take class dont wast money call book 14000 boo...                kide   \n3      book miss page import page couldnt answer test...           miss page   \n4      use learnsmart offici say amaz studi tool quic...  best studi product   \n...                                                  ...                 ...   \n14995  ok ok 50 year old bought game like watch old n...           fun engag   \n14996  ive playl nanci drew game game one favourit ga...        one favourit   \n14997  third nanci drew game play other treasur royal...          get better   \n14998  softwar came instal new pc almost everytim wen...           stay away   \n14999  im back mcafe tech support took 12 hour first ...   terribl wast time   \n\n       unixReviewTime  vote  \n0                4076     3  \n1                4060     3  \n2                4054     5  \n3                4054     1  \n4                3949     3  \n...               ...   ...  \n14995            1425     4  \n14996            1374     0  \n14997            1358    14  \n14998            1385     2  \n14999            1360     3  \n\n[15000 rows x 10 columns]",
            "text/html": "<div>\n<style scoped>\n    .dataframe tbody tr th:only-of-type {\n        vertical-align: middle;\n    }\n\n    .dataframe tbody tr th {\n        vertical-align: top;\n    }\n\n    .dataframe thead th {\n        text-align: right;\n    }\n</style>\n<table border=\"1\" class=\"dataframe\">\n  <thead>\n    <tr style=\"text-align: right;\">\n      <th></th>\n      <th>overall</th>\n      <th>verified</th>\n      <th>reviewerID</th>\n      <th>asin</th>\n      <th>style</th>\n      <th>reviewerName</th>\n      <th>reviewText</th>\n      <th>summary</th>\n      <th>unixReviewTime</th>\n      <th>vote</th>\n    </tr>\n  </thead>\n  <tbody>\n    <tr>\n      <th>0</th>\n      <td>4.0</td>\n      <td>True</td>\n      <td>4147</td>\n      <td>0</td>\n      <td>204</td>\n      <td>6873</td>\n      <td>materi arriv earli excel condit howev money sp...</td>\n      <td>materi great</td>\n      <td>4076</td>\n      <td>3</td>\n    </tr>\n    <tr>\n      <th>1</th>\n      <td>4.0</td>\n      <td>True</td>\n      <td>3533</td>\n      <td>0</td>\n      <td>204</td>\n      <td>8579</td>\n      <td>realli enjoy book worksheet make review goal m...</td>\n      <td>health</td>\n      <td>4060</td>\n      <td>3</td>\n    </tr>\n    <tr>\n      <th>2</th>\n      <td>1.0</td>\n      <td>True</td>\n      <td>1208</td>\n      <td>0</td>\n      <td>204</td>\n      <td>386</td>\n      <td>take class dont wast money call book 14000 boo...</td>\n      <td>kide</td>\n      <td>4054</td>\n      <td>5</td>\n    </tr>\n    <tr>\n      <th>3</th>\n      <td>3.0</td>\n      <td>True</td>\n      <td>12790</td>\n      <td>0</td>\n      <td>204</td>\n      <td>6103</td>\n      <td>book miss page import page couldnt answer test...</td>\n      <td>miss page</td>\n      <td>4054</td>\n      <td>1</td>\n    </tr>\n    <tr>\n      <th>4</th>\n      <td>5.0</td>\n      <td>False</td>\n      <td>5722</td>\n      <td>1</td>\n      <td>196</td>\n      <td>325</td>\n      <td>use learnsmart offici say amaz studi tool quic...</td>\n      <td>best studi product</td>\n      <td>3949</td>\n      <td>3</td>\n    </tr>\n    <tr>\n      <th>...</th>\n      <td>...</td>\n      <td>...</td>\n      <td>...</td>\n      <td>...</td>\n      <td>...</td>\n      <td>...</td>\n      <td>...</td>\n      <td>...</td>\n      <td>...</td>\n      <td>...</td>\n    </tr>\n    <tr>\n      <th>14995</th>\n      <td>4.0</td>\n      <td>False</td>\n      <td>5404</td>\n      <td>777</td>\n      <td>216</td>\n      <td>302</td>\n      <td>ok ok 50 year old bought game like watch old n...</td>\n      <td>fun engag</td>\n      <td>1425</td>\n      <td>4</td>\n    </tr>\n    <tr>\n      <th>14996</th>\n      <td>5.0</td>\n      <td>False</td>\n      <td>8412</td>\n      <td>777</td>\n      <td>216</td>\n      <td>433</td>\n      <td>ive playl nanci drew game game one favourit ga...</td>\n      <td>one favourit</td>\n      <td>1374</td>\n      <td>0</td>\n    </tr>\n    <tr>\n      <th>14997</th>\n      <td>4.0</td>\n      <td>False</td>\n      <td>11044</td>\n      <td>777</td>\n      <td>216</td>\n      <td>10781</td>\n      <td>third nanci drew game play other treasur royal...</td>\n      <td>get better</td>\n      <td>1358</td>\n      <td>14</td>\n    </tr>\n    <tr>\n      <th>14998</th>\n      <td>1.0</td>\n      <td>False</td>\n      <td>3935</td>\n      <td>774</td>\n      <td>196</td>\n      <td>1592</td>\n      <td>softwar came instal new pc almost everytim wen...</td>\n      <td>stay away</td>\n      <td>1385</td>\n      <td>2</td>\n    </tr>\n    <tr>\n      <th>14999</th>\n      <td>1.0</td>\n      <td>False</td>\n      <td>11067</td>\n      <td>774</td>\n      <td>196</td>\n      <td>6658</td>\n      <td>im back mcafe tech support took 12 hour first ...</td>\n      <td>terribl wast time</td>\n      <td>1360</td>\n      <td>3</td>\n    </tr>\n  </tbody>\n</table>\n<p>15000 rows × 10 columns</p>\n</div>"
          },
          "metadata": {}
        }
      ]
    },
    {
      "cell_type": "code",
      "source": [
        "from sklearn.feature_extraction.text import CountVectorizer"
      ],
      "metadata": {
        "id": "7xZ_kai52v_1",
        "execution": {
          "iopub.status.busy": "2024-08-28T02:56:51.974445Z",
          "iopub.execute_input": "2024-08-28T02:56:51.975455Z",
          "iopub.status.idle": "2024-08-28T02:56:51.979845Z",
          "shell.execute_reply.started": "2024-08-28T02:56:51.975407Z",
          "shell.execute_reply": "2024-08-28T02:56:51.978823Z"
        },
        "trusted": true
      },
      "execution_count": null,
      "outputs": []
    },
    {
      "cell_type": "code",
      "source": [
        "obj=CountVectorizer()"
      ],
      "metadata": {
        "id": "E_ZgsxfK3Isy",
        "execution": {
          "iopub.status.busy": "2024-08-28T02:56:56.426755Z",
          "iopub.execute_input": "2024-08-28T02:56:56.427216Z",
          "iopub.status.idle": "2024-08-28T02:56:56.433044Z",
          "shell.execute_reply.started": "2024-08-28T02:56:56.427175Z",
          "shell.execute_reply": "2024-08-28T02:56:56.432010Z"
        },
        "trusted": true
      },
      "execution_count": null,
      "outputs": []
    },
    {
      "cell_type": "code",
      "source": [
        "var=obj.fit_transform(df1['reviewText'])"
      ],
      "metadata": {
        "id": "d5cruhke3Mh0",
        "execution": {
          "iopub.status.busy": "2024-08-28T02:56:57.751337Z",
          "iopub.execute_input": "2024-08-28T02:56:57.752363Z",
          "iopub.status.idle": "2024-08-28T02:56:58.607435Z",
          "shell.execute_reply.started": "2024-08-28T02:56:57.752309Z",
          "shell.execute_reply": "2024-08-28T02:56:58.606357Z"
        },
        "trusted": true
      },
      "execution_count": null,
      "outputs": []
    },
    {
      "cell_type": "code",
      "source": [
        "var"
      ],
      "metadata": {
        "colab": {
          "base_uri": "https://localhost:8080/"
        },
        "id": "cyZ__qCG3WuE",
        "outputId": "ee5ed6d3-6f60-4f4a-c379-873e840a1501",
        "execution": {
          "iopub.status.busy": "2024-08-28T02:57:01.777186Z",
          "iopub.execute_input": "2024-08-28T02:57:01.777649Z",
          "iopub.status.idle": "2024-08-28T02:57:01.785222Z",
          "shell.execute_reply.started": "2024-08-28T02:57:01.777603Z",
          "shell.execute_reply": "2024-08-28T02:57:01.784090Z"
        },
        "trusted": true
      },
      "execution_count": null,
      "outputs": [
        {
          "execution_count": 110,
          "output_type": "execute_result",
          "data": {
            "text/plain": "<Compressed Sparse Row sparse matrix of dtype 'int64'\n\twith 710311 stored elements and shape (15000, 28898)>"
          },
          "metadata": {}
        }
      ]
    },
    {
      "cell_type": "code",
      "source": [
        " # Convert the sparse matrix to a DataFrame\n",
        "vectorized_df = pd.DataFrame(var.toarray(), columns=obj.get_feature_names_out())\n",
        "\n",
        "# Display the DataFrame\n",
        "print(vectorized_df)\n"
      ],
      "metadata": {
        "colab": {
          "base_uri": "https://localhost:8080/"
        },
        "id": "Sjr_9GTL3YVe",
        "outputId": "82bc1860-aedf-47d2-f65d-e5421daea9c8",
        "execution": {
          "iopub.status.busy": "2024-08-28T02:57:06.387384Z",
          "iopub.execute_input": "2024-08-28T02:57:06.387815Z",
          "iopub.status.idle": "2024-08-28T02:57:07.619128Z",
          "shell.execute_reply.started": "2024-08-28T02:57:06.387773Z",
          "shell.execute_reply": "2024-08-28T02:57:07.617974Z"
        },
        "trusted": true
      },
      "execution_count": null,
      "outputs": [
        {
          "name": "stdout",
          "text": "       00  000  0000003  00000137  0000702e3238  0004a6ab  000929000005  001  \\\n0       0    0        0         0             0         0             0    0   \n1       0    0        0         0             0         0             0    0   \n2       0    0        0         0             0         0             0    0   \n3       0    0        0         0             0         0             0    0   \n4       0    0        0         0             0         0             0    0   \n...    ..  ...      ...       ...           ...       ...           ...  ...   \n14995   0    0        0         0             0         0             0    0   \n14996   0    0        0         0             0         0             0    0   \n14997   0    0        0         0             0         0             0    0   \n14998   0    0        0         0             0         0             0    0   \n14999   0    0        0         0             0         0             0    0   \n\n       002  0045  ...  zorich  zork  zoskwar  zr10  zr20  zrmc70  zuknoen  \\\n0        0     0  ...       0     0        0     0     0       0        0   \n1        0     0  ...       0     0        0     0     0       0        0   \n2        0     0  ...       0     0        0     0     0       0        0   \n3        0     0  ...       0     0        0     0     0       0        0   \n4        0     0  ...       0     0        0     0     0       0        0   \n...    ...   ...  ...     ...   ...      ...   ...   ...     ...      ...   \n14995    0     0  ...       0     0        0     0     0       0        0   \n14996    0     0  ...       0     0        0     0     0       0        0   \n14997    0     0  ...       0     0        0     0     0       0        0   \n14998    0     0  ...       0     0        0     0     0       0        0   \n14999    0     0  ...       0     0        0     0     0       0        0   \n\n       zulu  zune  zzzz  \n0         0     0     0  \n1         0     0     0  \n2         0     0     0  \n3         0     0     0  \n4         0     0     0  \n...     ...   ...   ...  \n14995     0     0     0  \n14996     0     0     0  \n14997     0     0     0  \n14998     0     0     0  \n14999     0     0     0  \n\n[15000 rows x 28898 columns]\n",
          "output_type": "stream"
        }
      ]
    },
    {
      "cell_type": "code",
      "source": [
        "print(vectorized_df)#save it\n"
      ],
      "metadata": {
        "colab": {
          "base_uri": "https://localhost:8080/"
        },
        "id": "hLaGM8Tv_f6l",
        "outputId": "4e438cc4-daaf-4949-bd1c-cb2b644c6acf",
        "execution": {
          "iopub.status.busy": "2024-08-28T02:57:11.237714Z",
          "iopub.execute_input": "2024-08-28T02:57:11.238260Z",
          "iopub.status.idle": "2024-08-28T02:57:11.258780Z",
          "shell.execute_reply.started": "2024-08-28T02:57:11.238194Z",
          "shell.execute_reply": "2024-08-28T02:57:11.257489Z"
        },
        "trusted": true
      },
      "execution_count": null,
      "outputs": [
        {
          "name": "stdout",
          "text": "       00  000  0000003  00000137  0000702e3238  0004a6ab  000929000005  001  \\\n0       0    0        0         0             0         0             0    0   \n1       0    0        0         0             0         0             0    0   \n2       0    0        0         0             0         0             0    0   \n3       0    0        0         0             0         0             0    0   \n4       0    0        0         0             0         0             0    0   \n...    ..  ...      ...       ...           ...       ...           ...  ...   \n14995   0    0        0         0             0         0             0    0   \n14996   0    0        0         0             0         0             0    0   \n14997   0    0        0         0             0         0             0    0   \n14998   0    0        0         0             0         0             0    0   \n14999   0    0        0         0             0         0             0    0   \n\n       002  0045  ...  zorich  zork  zoskwar  zr10  zr20  zrmc70  zuknoen  \\\n0        0     0  ...       0     0        0     0     0       0        0   \n1        0     0  ...       0     0        0     0     0       0        0   \n2        0     0  ...       0     0        0     0     0       0        0   \n3        0     0  ...       0     0        0     0     0       0        0   \n4        0     0  ...       0     0        0     0     0       0        0   \n...    ...   ...  ...     ...   ...      ...   ...   ...     ...      ...   \n14995    0     0  ...       0     0        0     0     0       0        0   \n14996    0     0  ...       0     0        0     0     0       0        0   \n14997    0     0  ...       0     0        0     0     0       0        0   \n14998    0     0  ...       0     0        0     0     0       0        0   \n14999    0     0  ...       0     0        0     0     0       0        0   \n\n       zulu  zune  zzzz  \n0         0     0     0  \n1         0     0     0  \n2         0     0     0  \n3         0     0     0  \n4         0     0     0  \n...     ...   ...   ...  \n14995     0     0     0  \n14996     0     0     0  \n14997     0     0     0  \n14998     0     0     0  \n14999     0     0     0  \n\n[15000 rows x 28898 columns]\n",
          "output_type": "stream"
        }
      ]
    },
    {
      "cell_type": "code",
      "source": [
        "var1=obj.fit_transform(df1['summary'])"
      ],
      "metadata": {
        "id": "BP2V5KTA_k_-",
        "execution": {
          "iopub.status.busy": "2024-08-28T02:57:15.216891Z",
          "iopub.execute_input": "2024-08-28T02:57:15.217277Z",
          "iopub.status.idle": "2024-08-28T02:57:15.316433Z",
          "shell.execute_reply.started": "2024-08-28T02:57:15.217241Z",
          "shell.execute_reply": "2024-08-28T02:57:15.315362Z"
        },
        "trusted": true
      },
      "execution_count": null,
      "outputs": []
    },
    {
      "cell_type": "code",
      "source": [
        " # Convert the sparse matrix to a DataFrame\n",
        "vectorized_dfdf = pd.DataFrame(var1.toarray(), columns=obj.get_feature_names_out())\n",
        "\n",
        "# Display the DataFrame\n",
        "print(vectorized_dfdf)\n"
      ],
      "metadata": {
        "colab": {
          "base_uri": "https://localhost:8080/"
        },
        "id": "3We6wx5-_u81",
        "outputId": "b839460a-5aa9-4346-ae26-c3eb8f1ab7bb",
        "execution": {
          "iopub.status.busy": "2024-08-28T02:57:17.880939Z",
          "iopub.execute_input": "2024-08-28T02:57:17.882025Z",
          "iopub.status.idle": "2024-08-28T02:57:18.034353Z",
          "shell.execute_reply.started": "2024-08-28T02:57:17.881964Z",
          "shell.execute_reply": "2024-08-28T02:57:18.032870Z"
        },
        "trusted": true
      },
      "execution_count": null,
      "outputs": [
        {
          "name": "stdout",
          "text": "       01  022601  03  10  100  101  1010  1012  1013  1015  ...  zero  \\\n0       0       0   0   0    0    0     0     0     0     0  ...     0   \n1       0       0   0   0    0    0     0     0     0     0  ...     0   \n2       0       0   0   0    0    0     0     0     0     0  ...     0   \n3       0       0   0   0    0    0     0     0     0     0  ...     0   \n4       0       0   0   0    0    0     0     0     0     0  ...     0   \n...    ..     ...  ..  ..  ...  ...   ...   ...   ...   ...  ...   ...   \n14995   0       0   0   0    0    0     0     0     0     0  ...     0   \n14996   0       0   0   0    0    0     0     0     0     0  ...     0   \n14997   0       0   0   0    0    0     0     0     0     0  ...     0   \n14998   0       0   0   0    0    0     0     0     0     0  ...     0   \n14999   0       0   0   0    0    0     0     0     0     0  ...     0   \n\n       zipslack  zoik  zone  zonealarm  zonealarmpro  zoo  zoom  zoombini  \\\n0             0     0     0          0             0    0     0         0   \n1             0     0     0          0             0    0     0         0   \n2             0     0     0          0             0    0     0         0   \n3             0     0     0          0             0    0     0         0   \n4             0     0     0          0             0    0     0         0   \n...         ...   ...   ...        ...           ...  ...   ...       ...   \n14995         0     0     0          0             0    0     0         0   \n14996         0     0     0          0             0    0     0         0   \n14997         0     0     0          0             0    0     0         0   \n14998         0     0     0          0             0    0     0         0   \n14999         0     0     0          0             0    0     0         0   \n\n       zoombinisth  \n0                0  \n1                0  \n2                0  \n3                0  \n4                0  \n...            ...  \n14995            0  \n14996            0  \n14997            0  \n14998            0  \n14999            0  \n\n[15000 rows x 4980 columns]\n",
          "output_type": "stream"
        }
      ]
    },
    {
      "cell_type": "code",
      "source": [
        "new_table=pd.concat([df1,vectorized_df],axis=1)"
      ],
      "metadata": {
        "id": "PIxlgHJm_8Yi",
        "execution": {
          "iopub.status.busy": "2024-08-28T02:57:22.266725Z",
          "iopub.execute_input": "2024-08-28T02:57:22.267158Z",
          "iopub.status.idle": "2024-08-28T02:57:33.203583Z",
          "shell.execute_reply.started": "2024-08-28T02:57:22.267115Z",
          "shell.execute_reply": "2024-08-28T02:57:33.202356Z"
        },
        "trusted": true
      },
      "execution_count": null,
      "outputs": []
    },
    {
      "cell_type": "code",
      "source": [
        "naya_table=pd.concat([new_table,vectorized_dfdf],axis=1)"
      ],
      "metadata": {
        "id": "SAW-usNjmfrp",
        "execution": {
          "iopub.status.busy": "2024-08-28T02:58:45.852366Z",
          "iopub.execute_input": "2024-08-28T02:58:45.853172Z",
          "iopub.status.idle": "2024-08-28T02:58:52.082476Z",
          "shell.execute_reply.started": "2024-08-28T02:58:45.853121Z",
          "shell.execute_reply": "2024-08-28T02:58:52.080898Z"
        },
        "trusted": true
      },
      "execution_count": null,
      "outputs": []
    },
    {
      "cell_type": "code",
      "source": [
        "naya_table.columns"
      ],
      "metadata": {
        "id": "lH1TIZeCmxN7",
        "execution": {
          "iopub.status.busy": "2024-08-28T02:59:04.881503Z",
          "iopub.execute_input": "2024-08-28T02:59:04.882265Z",
          "iopub.status.idle": "2024-08-28T02:59:04.890927Z",
          "shell.execute_reply.started": "2024-08-28T02:59:04.882219Z",
          "shell.execute_reply": "2024-08-28T02:59:04.889793Z"
        },
        "trusted": true,
        "outputId": "c915b83d-83b9-4a99-9ed5-e09ee94a2cf9"
      },
      "execution_count": null,
      "outputs": [
        {
          "execution_count": 118,
          "output_type": "execute_result",
          "data": {
            "text/plain": "Index(['overall', 'verified', 'reviewerID', 'asin', 'style', 'reviewerName',\n       'reviewText', 'summary', 'unixReviewTime', 'vote',\n       ...\n       'zero', 'zipslack', 'zoik', 'zone', 'zonealarm', 'zonealarmpro', 'zoo',\n       'zoom', 'zoombini', 'zoombinisth'],\n      dtype='object', length=33888)"
          },
          "metadata": {}
        }
      ]
    },
    {
      "cell_type": "code",
      "source": [
        "naya_table.shape"
      ],
      "metadata": {
        "id": "QZtUUgLTnBIW",
        "execution": {
          "iopub.status.busy": "2024-08-28T02:59:18.818390Z",
          "iopub.execute_input": "2024-08-28T02:59:18.818802Z",
          "iopub.status.idle": "2024-08-28T02:59:18.825744Z",
          "shell.execute_reply.started": "2024-08-28T02:59:18.818763Z",
          "shell.execute_reply": "2024-08-28T02:59:18.824620Z"
        },
        "trusted": true,
        "outputId": "8ae547a9-a032-4e93-ca27-134ce583d74a"
      },
      "execution_count": null,
      "outputs": [
        {
          "execution_count": 119,
          "output_type": "execute_result",
          "data": {
            "text/plain": "(15000, 33888)"
          },
          "metadata": {}
        }
      ]
    },
    {
      "cell_type": "code",
      "source": [
        "naya_table.head()"
      ],
      "metadata": {
        "execution": {
          "iopub.status.busy": "2024-08-28T02:59:41.935069Z",
          "iopub.execute_input": "2024-08-28T02:59:41.935528Z",
          "iopub.status.idle": "2024-08-28T02:59:42.056613Z",
          "shell.execute_reply.started": "2024-08-28T02:59:41.935487Z",
          "shell.execute_reply": "2024-08-28T02:59:42.055280Z"
        },
        "trusted": true,
        "id": "Rb7fY3GkjlDe",
        "outputId": "741e18ac-fd7f-4f0d-c68b-e5ae549ee814"
      },
      "execution_count": null,
      "outputs": [
        {
          "execution_count": 120,
          "output_type": "execute_result",
          "data": {
            "text/plain": "   overall  verified  reviewerID  asin  style  reviewerName  \\\n0      4.0      True        4147     0    204          6873   \n1      4.0      True        3533     0    204          8579   \n2      1.0      True        1208     0    204           386   \n3      3.0      True       12790     0    204          6103   \n4      5.0     False        5722     1    196           325   \n\n                                          reviewText             summary  \\\n0  materi arriv earli excel condit howev money sp...        materi great   \n1  realli enjoy book worksheet make review goal m...              health   \n2  take class dont wast money call book 14000 boo...                kide   \n3  book miss page import page couldnt answer test...           miss page   \n4  use learnsmart offici say amaz studi tool quic...  best studi product   \n\n   unixReviewTime  vote  ...  zero  zipslack  zoik  zone  zonealarm  \\\n0            4076     3  ...     0         0     0     0          0   \n1            4060     3  ...     0         0     0     0          0   \n2            4054     5  ...     0         0     0     0          0   \n3            4054     1  ...     0         0     0     0          0   \n4            3949     3  ...     0         0     0     0          0   \n\n   zonealarmpro  zoo  zoom  zoombini  zoombinisth  \n0             0    0     0         0            0  \n1             0    0     0         0            0  \n2             0    0     0         0            0  \n3             0    0     0         0            0  \n4             0    0     0         0            0  \n\n[5 rows x 33888 columns]",
            "text/html": "<div>\n<style scoped>\n    .dataframe tbody tr th:only-of-type {\n        vertical-align: middle;\n    }\n\n    .dataframe tbody tr th {\n        vertical-align: top;\n    }\n\n    .dataframe thead th {\n        text-align: right;\n    }\n</style>\n<table border=\"1\" class=\"dataframe\">\n  <thead>\n    <tr style=\"text-align: right;\">\n      <th></th>\n      <th>overall</th>\n      <th>verified</th>\n      <th>reviewerID</th>\n      <th>asin</th>\n      <th>style</th>\n      <th>reviewerName</th>\n      <th>reviewText</th>\n      <th>summary</th>\n      <th>unixReviewTime</th>\n      <th>vote</th>\n      <th>...</th>\n      <th>zero</th>\n      <th>zipslack</th>\n      <th>zoik</th>\n      <th>zone</th>\n      <th>zonealarm</th>\n      <th>zonealarmpro</th>\n      <th>zoo</th>\n      <th>zoom</th>\n      <th>zoombini</th>\n      <th>zoombinisth</th>\n    </tr>\n  </thead>\n  <tbody>\n    <tr>\n      <th>0</th>\n      <td>4.0</td>\n      <td>True</td>\n      <td>4147</td>\n      <td>0</td>\n      <td>204</td>\n      <td>6873</td>\n      <td>materi arriv earli excel condit howev money sp...</td>\n      <td>materi great</td>\n      <td>4076</td>\n      <td>3</td>\n      <td>...</td>\n      <td>0</td>\n      <td>0</td>\n      <td>0</td>\n      <td>0</td>\n      <td>0</td>\n      <td>0</td>\n      <td>0</td>\n      <td>0</td>\n      <td>0</td>\n      <td>0</td>\n    </tr>\n    <tr>\n      <th>1</th>\n      <td>4.0</td>\n      <td>True</td>\n      <td>3533</td>\n      <td>0</td>\n      <td>204</td>\n      <td>8579</td>\n      <td>realli enjoy book worksheet make review goal m...</td>\n      <td>health</td>\n      <td>4060</td>\n      <td>3</td>\n      <td>...</td>\n      <td>0</td>\n      <td>0</td>\n      <td>0</td>\n      <td>0</td>\n      <td>0</td>\n      <td>0</td>\n      <td>0</td>\n      <td>0</td>\n      <td>0</td>\n      <td>0</td>\n    </tr>\n    <tr>\n      <th>2</th>\n      <td>1.0</td>\n      <td>True</td>\n      <td>1208</td>\n      <td>0</td>\n      <td>204</td>\n      <td>386</td>\n      <td>take class dont wast money call book 14000 boo...</td>\n      <td>kide</td>\n      <td>4054</td>\n      <td>5</td>\n      <td>...</td>\n      <td>0</td>\n      <td>0</td>\n      <td>0</td>\n      <td>0</td>\n      <td>0</td>\n      <td>0</td>\n      <td>0</td>\n      <td>0</td>\n      <td>0</td>\n      <td>0</td>\n    </tr>\n    <tr>\n      <th>3</th>\n      <td>3.0</td>\n      <td>True</td>\n      <td>12790</td>\n      <td>0</td>\n      <td>204</td>\n      <td>6103</td>\n      <td>book miss page import page couldnt answer test...</td>\n      <td>miss page</td>\n      <td>4054</td>\n      <td>1</td>\n      <td>...</td>\n      <td>0</td>\n      <td>0</td>\n      <td>0</td>\n      <td>0</td>\n      <td>0</td>\n      <td>0</td>\n      <td>0</td>\n      <td>0</td>\n      <td>0</td>\n      <td>0</td>\n    </tr>\n    <tr>\n      <th>4</th>\n      <td>5.0</td>\n      <td>False</td>\n      <td>5722</td>\n      <td>1</td>\n      <td>196</td>\n      <td>325</td>\n      <td>use learnsmart offici say amaz studi tool quic...</td>\n      <td>best studi product</td>\n      <td>3949</td>\n      <td>3</td>\n      <td>...</td>\n      <td>0</td>\n      <td>0</td>\n      <td>0</td>\n      <td>0</td>\n      <td>0</td>\n      <td>0</td>\n      <td>0</td>\n      <td>0</td>\n      <td>0</td>\n      <td>0</td>\n    </tr>\n  </tbody>\n</table>\n<p>5 rows × 33888 columns</p>\n</div>"
          },
          "metadata": {}
        }
      ]
    },
    {
      "cell_type": "code",
      "source": [
        "naya_table=naya_table.drop(['reviewText','summary'],axis=1)"
      ],
      "metadata": {
        "execution": {
          "iopub.status.busy": "2024-08-28T03:00:32.583078Z",
          "iopub.execute_input": "2024-08-28T03:00:32.583535Z",
          "iopub.status.idle": "2024-08-28T03:00:33.794460Z",
          "shell.execute_reply.started": "2024-08-28T03:00:32.583493Z",
          "shell.execute_reply": "2024-08-28T03:00:33.793365Z"
        },
        "trusted": true,
        "id": "02aJQSJZjlDf"
      },
      "execution_count": null,
      "outputs": []
    },
    {
      "cell_type": "code",
      "source": [
        "naya_table.head()"
      ],
      "metadata": {
        "execution": {
          "iopub.status.busy": "2024-08-28T03:00:47.176856Z",
          "iopub.execute_input": "2024-08-28T03:00:47.177586Z",
          "iopub.status.idle": "2024-08-28T03:00:47.298460Z",
          "shell.execute_reply.started": "2024-08-28T03:00:47.177532Z",
          "shell.execute_reply": "2024-08-28T03:00:47.297360Z"
        },
        "trusted": true,
        "id": "hmjJI-iQjlDg",
        "outputId": "80fd8d63-9a12-455c-847f-846cce1f2752"
      },
      "execution_count": null,
      "outputs": [
        {
          "execution_count": 122,
          "output_type": "execute_result",
          "data": {
            "text/plain": "   overall  verified  reviewerID  asin  style  reviewerName  unixReviewTime  \\\n0      4.0      True        4147     0    204          6873            4076   \n1      4.0      True        3533     0    204          8579            4060   \n2      1.0      True        1208     0    204           386            4054   \n3      3.0      True       12790     0    204          6103            4054   \n4      5.0     False        5722     1    196           325            3949   \n\n   vote  00  000  ...  zero  zipslack  zoik  zone  zonealarm  zonealarmpro  \\\n0     3   0    0  ...     0         0     0     0          0             0   \n1     3   0    0  ...     0         0     0     0          0             0   \n2     5   0    0  ...     0         0     0     0          0             0   \n3     1   0    0  ...     0         0     0     0          0             0   \n4     3   0    0  ...     0         0     0     0          0             0   \n\n   zoo  zoom  zoombini  zoombinisth  \n0    0     0         0            0  \n1    0     0         0            0  \n2    0     0         0            0  \n3    0     0         0            0  \n4    0     0         0            0  \n\n[5 rows x 33886 columns]",
            "text/html": "<div>\n<style scoped>\n    .dataframe tbody tr th:only-of-type {\n        vertical-align: middle;\n    }\n\n    .dataframe tbody tr th {\n        vertical-align: top;\n    }\n\n    .dataframe thead th {\n        text-align: right;\n    }\n</style>\n<table border=\"1\" class=\"dataframe\">\n  <thead>\n    <tr style=\"text-align: right;\">\n      <th></th>\n      <th>overall</th>\n      <th>verified</th>\n      <th>reviewerID</th>\n      <th>asin</th>\n      <th>style</th>\n      <th>reviewerName</th>\n      <th>unixReviewTime</th>\n      <th>vote</th>\n      <th>00</th>\n      <th>000</th>\n      <th>...</th>\n      <th>zero</th>\n      <th>zipslack</th>\n      <th>zoik</th>\n      <th>zone</th>\n      <th>zonealarm</th>\n      <th>zonealarmpro</th>\n      <th>zoo</th>\n      <th>zoom</th>\n      <th>zoombini</th>\n      <th>zoombinisth</th>\n    </tr>\n  </thead>\n  <tbody>\n    <tr>\n      <th>0</th>\n      <td>4.0</td>\n      <td>True</td>\n      <td>4147</td>\n      <td>0</td>\n      <td>204</td>\n      <td>6873</td>\n      <td>4076</td>\n      <td>3</td>\n      <td>0</td>\n      <td>0</td>\n      <td>...</td>\n      <td>0</td>\n      <td>0</td>\n      <td>0</td>\n      <td>0</td>\n      <td>0</td>\n      <td>0</td>\n      <td>0</td>\n      <td>0</td>\n      <td>0</td>\n      <td>0</td>\n    </tr>\n    <tr>\n      <th>1</th>\n      <td>4.0</td>\n      <td>True</td>\n      <td>3533</td>\n      <td>0</td>\n      <td>204</td>\n      <td>8579</td>\n      <td>4060</td>\n      <td>3</td>\n      <td>0</td>\n      <td>0</td>\n      <td>...</td>\n      <td>0</td>\n      <td>0</td>\n      <td>0</td>\n      <td>0</td>\n      <td>0</td>\n      <td>0</td>\n      <td>0</td>\n      <td>0</td>\n      <td>0</td>\n      <td>0</td>\n    </tr>\n    <tr>\n      <th>2</th>\n      <td>1.0</td>\n      <td>True</td>\n      <td>1208</td>\n      <td>0</td>\n      <td>204</td>\n      <td>386</td>\n      <td>4054</td>\n      <td>5</td>\n      <td>0</td>\n      <td>0</td>\n      <td>...</td>\n      <td>0</td>\n      <td>0</td>\n      <td>0</td>\n      <td>0</td>\n      <td>0</td>\n      <td>0</td>\n      <td>0</td>\n      <td>0</td>\n      <td>0</td>\n      <td>0</td>\n    </tr>\n    <tr>\n      <th>3</th>\n      <td>3.0</td>\n      <td>True</td>\n      <td>12790</td>\n      <td>0</td>\n      <td>204</td>\n      <td>6103</td>\n      <td>4054</td>\n      <td>1</td>\n      <td>0</td>\n      <td>0</td>\n      <td>...</td>\n      <td>0</td>\n      <td>0</td>\n      <td>0</td>\n      <td>0</td>\n      <td>0</td>\n      <td>0</td>\n      <td>0</td>\n      <td>0</td>\n      <td>0</td>\n      <td>0</td>\n    </tr>\n    <tr>\n      <th>4</th>\n      <td>5.0</td>\n      <td>False</td>\n      <td>5722</td>\n      <td>1</td>\n      <td>196</td>\n      <td>325</td>\n      <td>3949</td>\n      <td>3</td>\n      <td>0</td>\n      <td>0</td>\n      <td>...</td>\n      <td>0</td>\n      <td>0</td>\n      <td>0</td>\n      <td>0</td>\n      <td>0</td>\n      <td>0</td>\n      <td>0</td>\n      <td>0</td>\n      <td>0</td>\n      <td>0</td>\n    </tr>\n  </tbody>\n</table>\n<p>5 rows × 33886 columns</p>\n</div>"
          },
          "metadata": {}
        }
      ]
    },
    {
      "cell_type": "code",
      "source": [
        "naya_table.shape"
      ],
      "metadata": {
        "execution": {
          "iopub.status.busy": "2024-08-28T03:16:56.140787Z",
          "iopub.execute_input": "2024-08-28T03:16:56.141262Z",
          "iopub.status.idle": "2024-08-28T03:16:56.148673Z",
          "shell.execute_reply.started": "2024-08-28T03:16:56.141218Z",
          "shell.execute_reply": "2024-08-28T03:16:56.147539Z"
        },
        "trusted": true,
        "id": "WI6JgMBQjlDg",
        "outputId": "e847a8b7-44ad-4575-d3f6-a80507cf2ecc"
      },
      "execution_count": null,
      "outputs": [
        {
          "execution_count": 138,
          "output_type": "execute_result",
          "data": {
            "text/plain": "(15000, 33886)"
          },
          "metadata": {}
        }
      ]
    },
    {
      "cell_type": "code",
      "source": [
        "#apply the naivebaya classifiere"
      ],
      "metadata": {
        "execution": {
          "iopub.status.busy": "2024-08-28T03:05:41.971075Z",
          "iopub.execute_input": "2024-08-28T03:05:41.971537Z",
          "iopub.status.idle": "2024-08-28T03:05:41.976668Z",
          "shell.execute_reply.started": "2024-08-28T03:05:41.971494Z",
          "shell.execute_reply": "2024-08-28T03:05:41.975322Z"
        },
        "trusted": true,
        "id": "gc_fqqzajlDh"
      },
      "execution_count": null,
      "outputs": []
    },
    {
      "cell_type": "code",
      "source": [
        "from sklearn.model_selection import train_test_split\n",
        "from sklearn.naive_bayes import GaussianNB"
      ],
      "metadata": {
        "execution": {
          "iopub.status.busy": "2024-08-28T03:33:14.264414Z",
          "iopub.execute_input": "2024-08-28T03:33:14.264863Z",
          "iopub.status.idle": "2024-08-28T03:33:15.654031Z",
          "shell.execute_reply.started": "2024-08-28T03:33:14.264821Z",
          "shell.execute_reply": "2024-08-28T03:33:15.652716Z"
        },
        "trusted": true,
        "id": "8pjAo0XsjlDh"
      },
      "execution_count": null,
      "outputs": []
    },
    {
      "cell_type": "code",
      "source": [
        "from sklearn.metrics import accuracy_score,classification_report"
      ],
      "metadata": {
        "execution": {
          "iopub.status.busy": "2024-08-28T03:33:17.151980Z",
          "iopub.execute_input": "2024-08-28T03:33:17.153987Z",
          "iopub.status.idle": "2024-08-28T03:33:17.159901Z",
          "shell.execute_reply.started": "2024-08-28T03:33:17.153915Z",
          "shell.execute_reply": "2024-08-28T03:33:17.158355Z"
        },
        "trusted": true,
        "id": "pa88AEcwjlDi"
      },
      "execution_count": null,
      "outputs": []
    },
    {
      "cell_type": "code",
      "source": [
        "x=naya_table.drop('verified',axis=1)\n",
        "y=naya_table['verified']"
      ],
      "metadata": {
        "execution": {
          "iopub.status.busy": "2024-08-28T03:34:09.845593Z",
          "iopub.execute_input": "2024-08-28T03:34:09.846520Z",
          "iopub.status.idle": "2024-08-28T03:34:10.158372Z",
          "shell.execute_reply.started": "2024-08-28T03:34:09.846476Z",
          "shell.execute_reply": "2024-08-28T03:34:10.156830Z"
        },
        "trusted": true,
        "id": "JW_aF-YXjlDi",
        "outputId": "1964d97f-79c0-4d52-c96b-db8c489ec56f"
      },
      "execution_count": null,
      "outputs": [
        {
          "traceback": [
            "\u001b[0;31m---------------------------------------------------------------------------\u001b[0m",
            "\u001b[0;31mNameError\u001b[0m                                 Traceback (most recent call last)",
            "Cell \u001b[0;32mIn[1], line 1\u001b[0m\n\u001b[0;32m----> 1\u001b[0m x\u001b[38;5;241m=\u001b[39m\u001b[43mnaya_table\u001b[49m\u001b[38;5;241m.\u001b[39mdrop(\u001b[38;5;124m'\u001b[39m\u001b[38;5;124mverified\u001b[39m\u001b[38;5;124m'\u001b[39m,axis\u001b[38;5;241m=\u001b[39m\u001b[38;5;241m1\u001b[39m)\n\u001b[1;32m      2\u001b[0m y\u001b[38;5;241m=\u001b[39mnaya_table[\u001b[38;5;124m'\u001b[39m\u001b[38;5;124mverified\u001b[39m\u001b[38;5;124m'\u001b[39m]\n",
            "\u001b[0;31mNameError\u001b[0m: name 'naya_table' is not defined"
          ],
          "ename": "NameError",
          "evalue": "name 'naya_table' is not defined",
          "output_type": "error"
        }
      ]
    },
    {
      "cell_type": "code",
      "source": [
        "x_train,x_test,y_train,y_test=train_test_split(x,y,test_size=0.2,random_state=42,)"
      ],
      "metadata": {
        "execution": {
          "iopub.status.busy": "2024-08-28T03:31:57.162057Z",
          "iopub.execute_input": "2024-08-28T03:31:57.162880Z"
        },
        "trusted": true,
        "id": "Nrf5g9cIjlDj"
      },
      "execution_count": null,
      "outputs": []
    },
    {
      "cell_type": "code",
      "source": [
        "obj=GaussianNB()\n",
        "obj.fit(x_train,y_train)"
      ],
      "metadata": {
        "execution": {
          "iopub.status.busy": "2024-08-28T03:32:39.307048Z",
          "iopub.execute_input": "2024-08-28T03:32:39.308234Z",
          "iopub.status.idle": "2024-08-28T03:32:39.332646Z",
          "shell.execute_reply.started": "2024-08-28T03:32:39.308178Z",
          "shell.execute_reply": "2024-08-28T03:32:39.330720Z"
        },
        "trusted": true,
        "id": "5Cny1wvcjlDj",
        "outputId": "adba93ca-a5db-4087-d3af-fe97381d7015"
      },
      "execution_count": null,
      "outputs": [
        {
          "traceback": [
            "\u001b[0;31m---------------------------------------------------------------------------\u001b[0m",
            "\u001b[0;31mNameError\u001b[0m                                 Traceback (most recent call last)",
            "Cell \u001b[0;32mIn[2], line 1\u001b[0m\n\u001b[0;32m----> 1\u001b[0m obj\u001b[38;5;241m=\u001b[39m\u001b[43mGaussianNB\u001b[49m()\n",
            "\u001b[0;31mNameError\u001b[0m: name 'GaussianNB' is not defined"
          ],
          "ename": "NameError",
          "evalue": "name 'GaussianNB' is not defined",
          "output_type": "error"
        }
      ]
    },
    {
      "cell_type": "code",
      "source": [
        "y_pred=obj.predict(x_test)"
      ],
      "metadata": {
        "id": "lEItp6C0jlDk"
      },
      "execution_count": null,
      "outputs": []
    },
    {
      "cell_type": "code",
      "source": [
        "accuracy = accuracy_score(y_test, y_pred)\n",
        "report = classification_report(y_test, y_pred, target_names=naya_table.target_names)\n",
        "\n",
        "print(f\"Accuracy: {accuracy * 100:.2f}%\")\n",
        "print(\"Classification Report:\\n\", report)"
      ],
      "metadata": {
        "id": "9Qmm9MUHjlDk"
      },
      "execution_count": null,
      "outputs": []
    }
  ]
}